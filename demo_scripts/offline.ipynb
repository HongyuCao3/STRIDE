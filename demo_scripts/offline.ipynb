{
  "cells": [
    {
      "cell_type": "markdown",
      "metadata": {
        "id": "QKWvMXWMBEJA"
      },
      "source": [
        "# Offline Highway Demo"
      ]
    },
    {
      "cell_type": "code",
      "execution_count": 1,
      "metadata": {
        "id": "s-ghXis6A_md"
      },
      "outputs": [],
      "source": [
        "# Importing necessary libraries and modules\n",
        "import gymnasium as gym\n",
        "from IPython.display import display, clear_output\n",
        "from matplotlib import pyplot as plt\n",
        "import time\n",
        "from functools import partial\n",
        "from typing import Optional\n",
        "from datetime import datetime\n",
        "import os\n",
        "import numpy as np\n",
        "import sys\n",
        "\n",
        "root_dir = os.path.abspath('..')\n",
        "sys.path.append(root_dir)\n",
        "\n",
        "# Importing custom modules\n",
        "from utils import Logger,  load_initial_instructions# utils.py in the root directory\n",
        "from envs.tabular_mdp.env import TabularMDP, State\n",
        "from agents.StriDe import StriDeAgent\n",
        "import highway_env\n",
        "from highway_env import utils\n",
        "from highway_env.vehicle.kinematics import Vehicle\n",
        "from copy import deepcopy\n",
        "\n",
        "\n"
      ]
    },
    {
      "cell_type": "code",
      "execution_count": 2,
      "metadata": {
        "id": "bgNDDWwqCj8l"
      },
      "outputs": [],
      "source": [
        "def compute_ttc_grid(\n",
        "    env: \"AbstractEnv\",\n",
        "    time_quantization: float,\n",
        "    horizon: float,\n",
        "    vehicle: Optional[Vehicle] = None,\n",
        ") -> np.ndarray:\n",
        "    \"\"\"\n",
        "    Compute the grid of predicted time-to-collision to each vehicle within the lane\n",
        "\n",
        "    For each ego-speed and lane.\n",
        "    :param env: environment\n",
        "    :param time_quantization: time step of a grid cell\n",
        "    :param horizon: time horizon of the grid\n",
        "    :param vehicle: the observer vehicle\n",
        "    :return: the time-co-collision grid, with axes SPEED x LANES x TIME\n",
        "    \"\"\"\n",
        "    vehicle = vehicle or env.vehicle\n",
        "    road_lanes = env.road.network.all_side_lanes(env.vehicle.lane_index)\n",
        "    grid = np.zeros(\n",
        "        (vehicle.target_speeds.size, len(road_lanes), int(horizon / time_quantization))\n",
        "    )\n",
        "    for speed_index in range(grid.shape[0]):\n",
        "        ego_speed = vehicle.index_to_speed(speed_index)\n",
        "        for other in env.road.vehicles:\n",
        "            if (other is vehicle) or (ego_speed == other.speed):\n",
        "                continue\n",
        "            margin = other.LENGTH / 2 + vehicle.LENGTH / 2\n",
        "            collision_points = [(0, 1), (-margin, 0.5), (margin, 0.5)]\n",
        "            for m, cost in collision_points:\n",
        "                distance = vehicle.lane_distance_to(other) + m\n",
        "                other_projected_speed = other.speed * np.dot(\n",
        "                    other.direction, vehicle.direction\n",
        "                )\n",
        "                time_to_collision = distance / utils.not_zero(\n",
        "                    ego_speed - other_projected_speed\n",
        "                )\n",
        "                if time_to_collision < 0:\n",
        "                    continue\n",
        "                if env.road.network.is_connected_road(\n",
        "                    vehicle.lane_index, other.lane_index, route=vehicle.route, depth=3\n",
        "                ):\n",
        "                    # Same road, or connected road with same number of lanes\n",
        "                    if len(env.road.network.all_side_lanes(other.lane_index)) == len(\n",
        "                        env.road.network.all_side_lanes(vehicle.lane_index)\n",
        "                    ):\n",
        "                        lane = [other.lane_index[2]]\n",
        "                    # Different road of different number of lanes: uncertainty on future lane, use all\n",
        "                    else:\n",
        "                        lane = range(grid.shape[1])\n",
        "                    # Quantize time-to-collision to both upper and lower values\n",
        "                    for time in [\n",
        "                        int(time_to_collision / time_quantization),\n",
        "                        int(np.ceil(time_to_collision / time_quantization)),\n",
        "                    ]:\n",
        "                        if 0 <= time < grid.shape[2]:\n",
        "                            # TODO: check lane overflow (e.g. vehicle with higher lane id than current road capacity)\n",
        "                            grid[speed_index, lane, time] = np.maximum(\n",
        "                                grid[speed_index, lane, time], cost\n",
        "                            )\n",
        "    return grid\n",
        "\n",
        "\n",
        "\n",
        "def transition_model(h: int, i: int, j: int, a: int, grid: np.ndarray) -> np.ndarray:\n",
        "    \"\"\"\n",
        "    Deterministic transition from a position in the grid to the next.\n",
        "\n",
        "    :param h: speed index\n",
        "    :param i: lane index\n",
        "    :param j: time index\n",
        "    :param a: action index\n",
        "    :param grid: ttc grid specifying the limits of speeds, lanes, time and actions\n",
        "    \"\"\"\n",
        "    # Idle action (1) as default transition\n",
        "    next_state = clip_position(h, i, j + 1, grid)\n",
        "    left = a == 0\n",
        "    right = a == 2\n",
        "    faster = (a == 3) & (j == 0)\n",
        "    slower = (a == 4) & (j == 0)\n",
        "    next_state[left] = clip_position(h[left], i[left] - 1, j[left] + 1, grid)\n",
        "    next_state[right] = clip_position(h[right], i[right] + 1, j[right] + 1, grid)\n",
        "    next_state[faster] = clip_position(h[faster] + 1, i[faster], j[faster] + 1, grid)\n",
        "    next_state[slower] = clip_position(h[slower] - 1, i[slower], j[slower] + 1, grid)\n",
        "    return next_state\n",
        "\n",
        "\n",
        "\n",
        "def clip_position(h: int, i: int, j: int, grid: np.ndarray) -> np.ndarray:\n",
        "    \"\"\"\n",
        "    Clip a position in the TTC grid, so that it stays within bounds.\n",
        "\n",
        "    :param h: speed index\n",
        "    :param i: lane index\n",
        "    :param j: time index\n",
        "    :param grid: the ttc grid\n",
        "    :return: The raveled index of the clipped position\n",
        "    \"\"\"\n",
        "    h = np.clip(h, 0, grid.shape[0] - 1)\n",
        "    i = np.clip(i, 0, grid.shape[1] - 1)\n",
        "    j = np.clip(j, 0, grid.shape[2] - 1)\n",
        "    indexes = np.ravel_multi_index((h, i, j), grid.shape)\n",
        "    return indexes\n",
        "\n",
        "\n",
        "\n",
        "def to_finite_mdp(env: \"AbstractEnv\",horizon:float = 5):\n",
        "    \"\"\"\n",
        "    Convert the given environment to a finite Markov Decision Process (MDP).\n",
        "\n",
        "    Parameters:\n",
        "    env (AbstractEnv): The environment to convert, which should contain configurations\n",
        "                       such as policy frequency, vehicle state, action space, and rewards.\n",
        "\n",
        "    Returns:\n",
        "    tuple: A tuple containing the number of states, number of actions, the initial state,\n",
        "           the state transition probability matrix, and the reward matrix.\n",
        "    \"\"\"\n",
        "\n",
        "    # Determine the time quantization and horizon based on the environment's policy frequency\n",
        "    time_quantization = 1 / env.unwrapped.config[\"policy_frequency\"]\n",
        "\n",
        "    # Compute the time-to-collision (TTC) grid for the environment\n",
        "    grid = compute_ttc_grid(env, time_quantization, horizon)\n",
        "\n",
        "    # Initialize the grid state and convert it to a single state index\n",
        "    grid_state = (env.vehicle.speed_index, env.vehicle.lane_index[2], 0)\n",
        "    state = np.ravel_multi_index(grid_state, grid.shape)\n",
        "\n",
        "    # Define a partial transition model function that includes the grid\n",
        "    transition_model_with_grid = partial(transition_model, grid=grid)\n",
        "\n",
        "    # Compute the transition index matrix for all state-action pairs\n",
        "    transition_index_matrix = np.fromfunction(\n",
        "        transition_model_with_grid, grid.shape + (env.action_space.n,), dtype=int\n",
        "    )\n",
        "    transition_index_matrix = np.reshape(transition_index_matrix, (np.size(grid), env.action_space.n))\n",
        "\n",
        "    # Compute the reward function for each state\n",
        "    v, l, t = grid.shape\n",
        "    lanes = np.arange(l) / max(l - 1, 1)\n",
        "    speeds = np.arange(v) / max(v - 1, 1)\n",
        "\n",
        "    state_reward = (\n",
        "        + env.unwrapped.config[\"collision_reward\"] * grid\n",
        "        + env.unwrapped.config[\"right_lane_reward\"]\n",
        "        * np.tile(lanes[np.newaxis, :, np.newaxis], (v, 1, t))\n",
        "        + env.unwrapped.config[\"high_speed_reward\"]\n",
        "        * np.tile(speeds[:, np.newaxis, np.newaxis], (1, l, t))\n",
        "    )\n",
        "\n",
        "    state_reward = np.ravel(state_reward)\n",
        "\n",
        "\n",
        "    # Combine state and action rewards into a single reward function\n",
        "    reward = np.fromfunction(\n",
        "        np.vectorize(lambda s, a: state_reward[s]),\n",
        "        (np.size(state_reward), env.action_space.n),\n",
        "        dtype=int,\n",
        "    )\n",
        "\n",
        "    # Identify terminal states based on collision or end of horizon\n",
        "    collision = grid == 1\n",
        "    end_of_horizon = np.fromfunction(\n",
        "        lambda h, i, j: j == grid.shape[2] - 1, grid.shape, dtype=int\n",
        "    )\n",
        "    terminal = np.ravel(collision | end_of_horizon)\n",
        "\n",
        "    # Initialize the state transition probability matrix\n",
        "    nState = np.product(grid.shape)  # Total number of states\n",
        "    nAction = env.action_space.n  # Number of actions from the environment\n",
        "    P_true = np.zeros((nState, nAction, nState), dtype=np.float32)\n",
        "\n",
        "    # Fill in the state transition probability matrix\n",
        "    for s in range(nState):\n",
        "        if terminal[s]:  # If the state is terminal\n",
        "            for a in range(nAction):\n",
        "                P_true[s, a, s] = 1.0  # Self-transition for terminal states\n",
        "        else:  # If the state is not terminal\n",
        "            for a in range(nAction):\n",
        "                next_s = transition_index_matrix[s, a]\n",
        "                P_true[s, a, next_s] = 1.0\n",
        "\n",
        "    # Define the mean and variance of the reward\n",
        "    R_true_mean = reward\n",
        "    R_true_var = np.zeros((nState, nAction))\n",
        "    R_true_mean = np.expand_dims(R_true_mean, axis=-1)\n",
        "    R_true_var = np.expand_dims(R_true_var, axis=-1)\n",
        "    R_true = np.concatenate((R_true_mean, R_true_var), axis=-1)\n",
        "\n",
        "    return (nState, nAction, state, P_true, R_true)\n",
        "\n",
        "\n",
        "def create_env():\n",
        "    '''\n",
        "    create an highway environment\n",
        "    '''\n",
        "\n",
        "    env = gym.make('highway-v0', render_mode='rgb_array')\n",
        "    env.unwrapped.config[\"collision_reward\"] = -100\n",
        "    env.unwrapped.config[\"high_speed_reward\"] = 2\n",
        "    env.unwrapped.config[\"right_lane_reward\"] = 5\n",
        "    # Create a stationary MDP\n",
        "    for vehicle in env.unwrapped.road.vehicles:\n",
        "      vehicle.enabled_lane_change = False\n",
        "\n",
        "    return env\n",
        "    \n",
        "\n",
        "def get_result(env_mdp, agents, state, action, logger):\n",
        "    q_optimal, _ = env_mdp.compute_qVals()\n",
        "    q = q_optimal[state.time_step, state.mathematical_descript]\n",
        "    logger.write(\"q_optimal for current step and state {}\".format(q))\n",
        "    optimal_actions = np.where(q==np.max(q))\n",
        "    if np.isin(action, optimal_actions):\n",
        "        success = True\n",
        "    else:\n",
        "        success = False\n",
        "    return success\n",
        "\n",
        "\n",
        "\n",
        "def run_mdp(env_mdp, agents, logger):\n",
        "    actions = []\n",
        "\n",
        "\n",
        "    # Reset agents and get instance descriptions\n",
        "    for role in agents:\n",
        "        agents[role].reset()\n",
        "        instance_description = env_mdp.get_description(agent_role=role, episode_ind=1, mdp_known=True)\n",
        "        agents[role].get_instance_info(instance_description)\n",
        "        logger.write(\"To {}:\".format(role))\n",
        "        logger.write(instance_description)\n",
        "\n",
        "\n",
        "    # repeatively play the same instance of the env (e.g., MDP with unknown env model)\n",
        "    agents[\"agent\"].reason(\"Now compute the optimal policy, that is, the optimal action at each step and each state.\")\n",
        "    metric_ls = []\n",
        "    state = env_mdp.state # initial state\n",
        "\n",
        "\n",
        "    while not env_mdp.is_done: # in case game never ends due to failure in checking terminal condition\n",
        "        logger.write(state.textual_descript, color = \"red\")\n",
        "        cur_agent = agents[state.cur_agent]\n",
        "        action = cur_agent.move(state)\n",
        "        actions.append(action)\n",
        "        old_state = deepcopy(state)\n",
        "        metric = get_result(env_mdp, agents, state, action, logger)\n",
        "        metric_ls.append(metric)\n",
        "        logger.write(\"{}: {}\".format(state.cur_agent, action), color = \"red\")\n",
        "        logger.write(\"metric: {}\".format(metric), color = \"red\")\n",
        "        state, reward = env_mdp.step(action)\n",
        "\n",
        "    logger.write(\"This episode has ended!\", color=\"red\")\n",
        "\n",
        "    logger.write(\"Performance metric: {}\".format(metric_ls))\n",
        "    return actions\n",
        "\n",
        "\n",
        "def create_agents(env, logger, agent_type, agent_engine, mdp_known=True):\n",
        "    if env.name == \"tabular_mdp\" and mdp_known:\n",
        "        demo = load_initial_instructions(\"../envs/tabular_mdp/prompts/tabular_mdp_vi_exmps.txt\")\n",
        "        from envs.tabular_mdp.tools import tool_names_mdp_known\n",
        "        init_memory = {\"P\":env.P, \n",
        "                       \"R\":env.R, \n",
        "                       \"nState\":env.nState, \n",
        "                       \"nAction\":env.nAction, \n",
        "                       \"epLen\":env.epLen,\n",
        "                       \"V\": np.zeros((env.epLen,env.nState)),\n",
        "                       \"Q\": np.zeros((env.epLen,env.nState,env.nAction)),\n",
        "                       }\n",
        "\n",
        "        agent = StriDeAgent(problem_description=env.description_of_problem_class, demo=demo, tool_names=tool_names_mdp_known, init_memory=init_memory, logger=logger, engine=agent_engine)\n",
        "        return {\"agent\":agent}\n",
        "\n",
        "\n",
        "\n",
        "def play_through(env:\"AbstractEnv\", horizon:float, logger:Logger):\n",
        "    images = []\n",
        "        \n",
        "    # Convert the environment to a finite MDP\n",
        "    nState, nAction, state, P_true, R_true = to_finite_mdp(env, horizon = horizon)\n",
        "    \n",
        "    # Create Tabular MDP environment with the parameters\n",
        "    env_mdp = TabularMDP(env_param={\n",
        "        \"nState\": nState,\n",
        "        \"nAction\": nAction,\n",
        "        \"epLen\": horizon,\n",
        "        \"R\": R_true,\n",
        "        \"P\": P_true,\n",
        "    })\n",
        "    \n",
        "    env_mdp.state = State(time_step=0, cur_agent=\"agent\", actions=[a for a in range(env_mdp.nAction)], action_schema=[(\"action\", \"integer\", \"the action chosen by the agent, which should be in {}.\".format([a for a in range(env_mdp.nAction)]))], textual_descript=\"This is time step {}, the current state is {}, and the available actions are {}.\\nQuestion: Now which action the agent should take?\".format(0, state, [a for a in range(env_mdp.nAction)]), mathematical_descript=state)\n",
        "\n",
        "    # Create agents for the environment\n",
        "    agents = create_agents(env_mdp, logger, \"stride\", \"gpt-4o\")\n",
        "    \n",
        "    # Check if all required agents are specified\n",
        "    if not env_mdp.check_agents(agents):\n",
        "        raise ValueError(f\"Illegal agents for env {env_mdp}\")\n",
        "    \n",
        "    logger.write(f\"Start to play {env_mdp.name} with parameter {env_mdp.env_param}\", color=\"red\")\n",
        "    \n",
        "    # Get the actions generated by the gpt\n",
        "    actions = run_mdp(env_mdp=env_mdp, agents=agents, logger=logger)\n",
        "    \n",
        "    # Iterate through the steps and execute actions\n",
        "    for action in actions:  \n",
        "        env.step(action)\n",
        "        img = env.render()\n",
        "        images.append(img)\n",
        "\n",
        "    return images"
      ]
    },
    {
      "cell_type": "code",
      "execution_count": 3,
      "metadata": {},
      "outputs": [
        {
          "data": {
            "text/html": [
              "<pre style=\"white-space:pre;overflow-x:auto;line-height:normal;font-family:Menlo,'DejaVu Sans Mono',consolas,'Courier New',monospace\">All outputs written to .<span style=\"color: #800080; text-decoration-color: #800080\">/outputs/tabular_mdp/</span><span style=\"color: #ff00ff; text-decoration-color: #ff00ff\">tabular_mdp-20240603010604.html</span>\n",
              "</pre>\n"
            ],
            "text/plain": [
              "All outputs written to .\u001b[35m/outputs/tabular_mdp/\u001b[0m\u001b[95mtabular_mdp-20240603010604.html\u001b[0m\n"
            ]
          },
          "metadata": {},
          "output_type": "display_data"
        },
        {
          "name": "stderr",
          "output_type": "stream",
          "text": [
            "d:\\anaconda\\Lib\\site-packages\\gymnasium\\core.py:311: UserWarning: \u001b[33mWARN: env.vehicle to get variables from other wrappers is deprecated and will be removed in v1.0, to get this variable you can do `env.unwrapped.vehicle` for environment variables or `env.get_wrapper_attr('vehicle')` that will search the reminding wrappers.\u001b[0m\n",
            "  logger.warn(\n",
            "d:\\anaconda\\Lib\\site-packages\\gymnasium\\core.py:311: UserWarning: \u001b[33mWARN: env.road to get variables from other wrappers is deprecated and will be removed in v1.0, to get this variable you can do `env.unwrapped.road` for environment variables or `env.get_wrapper_attr('road')` that will search the reminding wrappers.\u001b[0m\n",
            "  logger.warn(\n"
          ]
        },
        {
          "data": {
            "text/html": [
              "<pre style=\"white-space:pre;overflow-x:auto;line-height:normal;font-family:Menlo,'DejaVu Sans Mono',consolas,'Courier New',monospace\"><span style=\"color: #800000; text-decoration-color: #800000\">Start to play tabular_mdp with parameter </span><span style=\"color: #800000; text-decoration-color: #800000; font-weight: bold\">{</span><span style=\"color: #800000; text-decoration-color: #800000\">'nState'</span><span style=\"color: #800000; text-decoration-color: #800000\">: </span><span style=\"color: #800000; text-decoration-color: #800000; font-weight: bold\">120</span><span style=\"color: #800000; text-decoration-color: #800000\">, </span><span style=\"color: #800000; text-decoration-color: #800000\">'nAction'</span><span style=\"color: #800000; text-decoration-color: #800000\">: </span><span style=\"color: #800000; text-decoration-color: #800000; font-weight: bold\">5</span><span style=\"color: #800000; text-decoration-color: #800000\">, </span><span style=\"color: #800000; text-decoration-color: #800000\">'epLen'</span><span style=\"color: #800000; text-decoration-color: #800000\">: </span><span style=\"color: #800000; text-decoration-color: #800000; font-weight: bold\">10</span><span style=\"color: #800000; text-decoration-color: #800000\">, </span><span style=\"color: #800000; text-decoration-color: #800000\">'R'</span><span style=\"color: #800000; text-decoration-color: #800000\">: </span><span style=\"color: #800000; text-decoration-color: #800000; font-weight: bold\">array([[[</span><span style=\"color: #800000; text-decoration-color: #800000; font-weight: bold\">0</span><span style=\"color: #800000; text-decoration-color: #800000\">., </span><span style=\"color: #800000; text-decoration-color: #800000; font-weight: bold\">0</span><span style=\"color: #800000; text-decoration-color: #800000\">.</span><span style=\"color: #800000; text-decoration-color: #800000; font-weight: bold\">]</span><span style=\"color: #800000; text-decoration-color: #800000\">,</span>\n",
              "<span style=\"color: #800000; text-decoration-color: #800000\">        </span><span style=\"color: #800000; text-decoration-color: #800000; font-weight: bold\">[</span><span style=\"color: #800000; text-decoration-color: #800000; font-weight: bold\">0</span><span style=\"color: #800000; text-decoration-color: #800000\">., </span><span style=\"color: #800000; text-decoration-color: #800000; font-weight: bold\">0</span><span style=\"color: #800000; text-decoration-color: #800000\">.</span><span style=\"color: #800000; text-decoration-color: #800000; font-weight: bold\">]</span><span style=\"color: #800000; text-decoration-color: #800000\">,</span>\n",
              "<span style=\"color: #800000; text-decoration-color: #800000\">        </span><span style=\"color: #800000; text-decoration-color: #800000; font-weight: bold\">[</span><span style=\"color: #800000; text-decoration-color: #800000; font-weight: bold\">0</span><span style=\"color: #800000; text-decoration-color: #800000\">., </span><span style=\"color: #800000; text-decoration-color: #800000; font-weight: bold\">0</span><span style=\"color: #800000; text-decoration-color: #800000\">.</span><span style=\"color: #800000; text-decoration-color: #800000; font-weight: bold\">]</span><span style=\"color: #800000; text-decoration-color: #800000\">,</span>\n",
              "<span style=\"color: #800000; text-decoration-color: #800000\">        </span><span style=\"color: #800000; text-decoration-color: #800000; font-weight: bold\">[</span><span style=\"color: #800000; text-decoration-color: #800000; font-weight: bold\">0</span><span style=\"color: #800000; text-decoration-color: #800000\">., </span><span style=\"color: #800000; text-decoration-color: #800000; font-weight: bold\">0</span><span style=\"color: #800000; text-decoration-color: #800000\">.</span><span style=\"color: #800000; text-decoration-color: #800000; font-weight: bold\">]</span><span style=\"color: #800000; text-decoration-color: #800000\">,</span>\n",
              "<span style=\"color: #800000; text-decoration-color: #800000\">        </span><span style=\"color: #800000; text-decoration-color: #800000; font-weight: bold\">[</span><span style=\"color: #800000; text-decoration-color: #800000; font-weight: bold\">0</span><span style=\"color: #800000; text-decoration-color: #800000\">., </span><span style=\"color: #800000; text-decoration-color: #800000; font-weight: bold\">0</span><span style=\"color: #800000; text-decoration-color: #800000\">.</span><span style=\"color: #800000; text-decoration-color: #800000; font-weight: bold\">]]</span><span style=\"color: #800000; text-decoration-color: #800000\">,</span>\n",
              "\n",
              "<span style=\"color: #800000; text-decoration-color: #800000\">       </span><span style=\"color: #800000; text-decoration-color: #800000; font-weight: bold\">[[</span><span style=\"color: #800000; text-decoration-color: #800000; font-weight: bold\">0</span><span style=\"color: #800000; text-decoration-color: #800000\">., </span><span style=\"color: #800000; text-decoration-color: #800000; font-weight: bold\">0</span><span style=\"color: #800000; text-decoration-color: #800000\">.</span><span style=\"color: #800000; text-decoration-color: #800000; font-weight: bold\">]</span><span style=\"color: #800000; text-decoration-color: #800000\">,</span>\n",
              "<span style=\"color: #800000; text-decoration-color: #800000\">        </span><span style=\"color: #800000; text-decoration-color: #800000; font-weight: bold\">[</span><span style=\"color: #800000; text-decoration-color: #800000; font-weight: bold\">0</span><span style=\"color: #800000; text-decoration-color: #800000\">., </span><span style=\"color: #800000; text-decoration-color: #800000; font-weight: bold\">0</span><span style=\"color: #800000; text-decoration-color: #800000\">.</span><span style=\"color: #800000; text-decoration-color: #800000; font-weight: bold\">]</span><span style=\"color: #800000; text-decoration-color: #800000\">,</span>\n",
              "<span style=\"color: #800000; text-decoration-color: #800000\">        </span><span style=\"color: #800000; text-decoration-color: #800000; font-weight: bold\">[</span><span style=\"color: #800000; text-decoration-color: #800000; font-weight: bold\">0</span><span style=\"color: #800000; text-decoration-color: #800000\">., </span><span style=\"color: #800000; text-decoration-color: #800000; font-weight: bold\">0</span><span style=\"color: #800000; text-decoration-color: #800000\">.</span><span style=\"color: #800000; text-decoration-color: #800000; font-weight: bold\">]</span><span style=\"color: #800000; text-decoration-color: #800000\">,</span>\n",
              "<span style=\"color: #800000; text-decoration-color: #800000\">        </span><span style=\"color: #800000; text-decoration-color: #800000; font-weight: bold\">[</span><span style=\"color: #800000; text-decoration-color: #800000; font-weight: bold\">0</span><span style=\"color: #800000; text-decoration-color: #800000\">., </span><span style=\"color: #800000; text-decoration-color: #800000; font-weight: bold\">0</span><span style=\"color: #800000; text-decoration-color: #800000\">.</span><span style=\"color: #800000; text-decoration-color: #800000; font-weight: bold\">]</span><span style=\"color: #800000; text-decoration-color: #800000\">,</span>\n",
              "<span style=\"color: #800000; text-decoration-color: #800000\">        </span><span style=\"color: #800000; text-decoration-color: #800000; font-weight: bold\">[</span><span style=\"color: #800000; text-decoration-color: #800000; font-weight: bold\">0</span><span style=\"color: #800000; text-decoration-color: #800000\">., </span><span style=\"color: #800000; text-decoration-color: #800000; font-weight: bold\">0</span><span style=\"color: #800000; text-decoration-color: #800000\">.</span><span style=\"color: #800000; text-decoration-color: #800000; font-weight: bold\">]]</span><span style=\"color: #800000; text-decoration-color: #800000\">,</span>\n",
              "\n",
              "<span style=\"color: #800000; text-decoration-color: #800000\">       </span><span style=\"color: #800000; text-decoration-color: #800000; font-weight: bold\">[[</span><span style=\"color: #800000; text-decoration-color: #800000; font-weight: bold\">0</span><span style=\"color: #800000; text-decoration-color: #800000\">., </span><span style=\"color: #800000; text-decoration-color: #800000; font-weight: bold\">0</span><span style=\"color: #800000; text-decoration-color: #800000\">.</span><span style=\"color: #800000; text-decoration-color: #800000; font-weight: bold\">]</span><span style=\"color: #800000; text-decoration-color: #800000\">,</span>\n",
              "<span style=\"color: #800000; text-decoration-color: #800000\">        </span><span style=\"color: #800000; text-decoration-color: #800000; font-weight: bold\">[</span><span style=\"color: #800000; text-decoration-color: #800000; font-weight: bold\">0</span><span style=\"color: #800000; text-decoration-color: #800000\">., </span><span style=\"color: #800000; text-decoration-color: #800000; font-weight: bold\">0</span><span style=\"color: #800000; text-decoration-color: #800000\">.</span><span style=\"color: #800000; text-decoration-color: #800000; font-weight: bold\">]</span><span style=\"color: #800000; text-decoration-color: #800000\">,</span>\n",
              "<span style=\"color: #800000; text-decoration-color: #800000\">        </span><span style=\"color: #800000; text-decoration-color: #800000; font-weight: bold\">[</span><span style=\"color: #800000; text-decoration-color: #800000; font-weight: bold\">0</span><span style=\"color: #800000; text-decoration-color: #800000\">., </span><span style=\"color: #800000; text-decoration-color: #800000; font-weight: bold\">0</span><span style=\"color: #800000; text-decoration-color: #800000\">.</span><span style=\"color: #800000; text-decoration-color: #800000; font-weight: bold\">]</span><span style=\"color: #800000; text-decoration-color: #800000\">,</span>\n",
              "<span style=\"color: #800000; text-decoration-color: #800000\">        </span><span style=\"color: #800000; text-decoration-color: #800000; font-weight: bold\">[</span><span style=\"color: #800000; text-decoration-color: #800000; font-weight: bold\">0</span><span style=\"color: #800000; text-decoration-color: #800000\">., </span><span style=\"color: #800000; text-decoration-color: #800000; font-weight: bold\">0</span><span style=\"color: #800000; text-decoration-color: #800000\">.</span><span style=\"color: #800000; text-decoration-color: #800000; font-weight: bold\">]</span><span style=\"color: #800000; text-decoration-color: #800000\">,</span>\n",
              "<span style=\"color: #800000; text-decoration-color: #800000\">        </span><span style=\"color: #800000; text-decoration-color: #800000; font-weight: bold\">[</span><span style=\"color: #800000; text-decoration-color: #800000; font-weight: bold\">0</span><span style=\"color: #800000; text-decoration-color: #800000\">., </span><span style=\"color: #800000; text-decoration-color: #800000; font-weight: bold\">0</span><span style=\"color: #800000; text-decoration-color: #800000\">.</span><span style=\"color: #800000; text-decoration-color: #800000; font-weight: bold\">]]</span><span style=\"color: #800000; text-decoration-color: #800000\">,</span>\n",
              "\n",
              "<span style=\"color: #800000; text-decoration-color: #800000\">       ...,</span>\n",
              "\n",
              "<span style=\"color: #800000; text-decoration-color: #800000\">       </span><span style=\"color: #800000; text-decoration-color: #800000; font-weight: bold\">[[</span><span style=\"color: #800000; text-decoration-color: #800000; font-weight: bold\">7</span><span style=\"color: #800000; text-decoration-color: #800000\">., </span><span style=\"color: #800000; text-decoration-color: #800000; font-weight: bold\">0</span><span style=\"color: #800000; text-decoration-color: #800000\">.</span><span style=\"color: #800000; text-decoration-color: #800000; font-weight: bold\">]</span><span style=\"color: #800000; text-decoration-color: #800000\">,</span>\n",
              "<span style=\"color: #800000; text-decoration-color: #800000\">        </span><span style=\"color: #800000; text-decoration-color: #800000; font-weight: bold\">[</span><span style=\"color: #800000; text-decoration-color: #800000; font-weight: bold\">7</span><span style=\"color: #800000; text-decoration-color: #800000\">., </span><span style=\"color: #800000; text-decoration-color: #800000; font-weight: bold\">0</span><span style=\"color: #800000; text-decoration-color: #800000\">.</span><span style=\"color: #800000; text-decoration-color: #800000; font-weight: bold\">]</span><span style=\"color: #800000; text-decoration-color: #800000\">,</span>\n",
              "<span style=\"color: #800000; text-decoration-color: #800000\">        </span><span style=\"color: #800000; text-decoration-color: #800000; font-weight: bold\">[</span><span style=\"color: #800000; text-decoration-color: #800000; font-weight: bold\">7</span><span style=\"color: #800000; text-decoration-color: #800000\">., </span><span style=\"color: #800000; text-decoration-color: #800000; font-weight: bold\">0</span><span style=\"color: #800000; text-decoration-color: #800000\">.</span><span style=\"color: #800000; text-decoration-color: #800000; font-weight: bold\">]</span><span style=\"color: #800000; text-decoration-color: #800000\">,</span>\n",
              "<span style=\"color: #800000; text-decoration-color: #800000\">        </span><span style=\"color: #800000; text-decoration-color: #800000; font-weight: bold\">[</span><span style=\"color: #800000; text-decoration-color: #800000; font-weight: bold\">7</span><span style=\"color: #800000; text-decoration-color: #800000\">., </span><span style=\"color: #800000; text-decoration-color: #800000; font-weight: bold\">0</span><span style=\"color: #800000; text-decoration-color: #800000\">.</span><span style=\"color: #800000; text-decoration-color: #800000; font-weight: bold\">]</span><span style=\"color: #800000; text-decoration-color: #800000\">,</span>\n",
              "<span style=\"color: #800000; text-decoration-color: #800000\">        </span><span style=\"color: #800000; text-decoration-color: #800000; font-weight: bold\">[</span><span style=\"color: #800000; text-decoration-color: #800000; font-weight: bold\">7</span><span style=\"color: #800000; text-decoration-color: #800000\">., </span><span style=\"color: #800000; text-decoration-color: #800000; font-weight: bold\">0</span><span style=\"color: #800000; text-decoration-color: #800000\">.</span><span style=\"color: #800000; text-decoration-color: #800000; font-weight: bold\">]]</span><span style=\"color: #800000; text-decoration-color: #800000\">,</span>\n",
              "\n",
              "<span style=\"color: #800000; text-decoration-color: #800000\">       </span><span style=\"color: #800000; text-decoration-color: #800000; font-weight: bold\">[[</span><span style=\"color: #800000; text-decoration-color: #800000; font-weight: bold\">7</span><span style=\"color: #800000; text-decoration-color: #800000\">., </span><span style=\"color: #800000; text-decoration-color: #800000; font-weight: bold\">0</span><span style=\"color: #800000; text-decoration-color: #800000\">.</span><span style=\"color: #800000; text-decoration-color: #800000; font-weight: bold\">]</span><span style=\"color: #800000; text-decoration-color: #800000\">,</span>\n",
              "<span style=\"color: #800000; text-decoration-color: #800000\">        </span><span style=\"color: #800000; text-decoration-color: #800000; font-weight: bold\">[</span><span style=\"color: #800000; text-decoration-color: #800000; font-weight: bold\">7</span><span style=\"color: #800000; text-decoration-color: #800000\">., </span><span style=\"color: #800000; text-decoration-color: #800000; font-weight: bold\">0</span><span style=\"color: #800000; text-decoration-color: #800000\">.</span><span style=\"color: #800000; text-decoration-color: #800000; font-weight: bold\">]</span><span style=\"color: #800000; text-decoration-color: #800000\">,</span>\n",
              "<span style=\"color: #800000; text-decoration-color: #800000\">        </span><span style=\"color: #800000; text-decoration-color: #800000; font-weight: bold\">[</span><span style=\"color: #800000; text-decoration-color: #800000; font-weight: bold\">7</span><span style=\"color: #800000; text-decoration-color: #800000\">., </span><span style=\"color: #800000; text-decoration-color: #800000; font-weight: bold\">0</span><span style=\"color: #800000; text-decoration-color: #800000\">.</span><span style=\"color: #800000; text-decoration-color: #800000; font-weight: bold\">]</span><span style=\"color: #800000; text-decoration-color: #800000\">,</span>\n",
              "<span style=\"color: #800000; text-decoration-color: #800000\">        </span><span style=\"color: #800000; text-decoration-color: #800000; font-weight: bold\">[</span><span style=\"color: #800000; text-decoration-color: #800000; font-weight: bold\">7</span><span style=\"color: #800000; text-decoration-color: #800000\">., </span><span style=\"color: #800000; text-decoration-color: #800000; font-weight: bold\">0</span><span style=\"color: #800000; text-decoration-color: #800000\">.</span><span style=\"color: #800000; text-decoration-color: #800000; font-weight: bold\">]</span><span style=\"color: #800000; text-decoration-color: #800000\">,</span>\n",
              "<span style=\"color: #800000; text-decoration-color: #800000\">        </span><span style=\"color: #800000; text-decoration-color: #800000; font-weight: bold\">[</span><span style=\"color: #800000; text-decoration-color: #800000; font-weight: bold\">7</span><span style=\"color: #800000; text-decoration-color: #800000\">., </span><span style=\"color: #800000; text-decoration-color: #800000; font-weight: bold\">0</span><span style=\"color: #800000; text-decoration-color: #800000\">.</span><span style=\"color: #800000; text-decoration-color: #800000; font-weight: bold\">]]</span><span style=\"color: #800000; text-decoration-color: #800000\">,</span>\n",
              "\n",
              "<span style=\"color: #800000; text-decoration-color: #800000\">       </span><span style=\"color: #800000; text-decoration-color: #800000; font-weight: bold\">[[</span><span style=\"color: #800000; text-decoration-color: #800000; font-weight: bold\">7</span><span style=\"color: #800000; text-decoration-color: #800000\">., </span><span style=\"color: #800000; text-decoration-color: #800000; font-weight: bold\">0</span><span style=\"color: #800000; text-decoration-color: #800000\">.</span><span style=\"color: #800000; text-decoration-color: #800000; font-weight: bold\">]</span><span style=\"color: #800000; text-decoration-color: #800000\">,</span>\n",
              "<span style=\"color: #800000; text-decoration-color: #800000\">        </span><span style=\"color: #800000; text-decoration-color: #800000; font-weight: bold\">[</span><span style=\"color: #800000; text-decoration-color: #800000; font-weight: bold\">7</span><span style=\"color: #800000; text-decoration-color: #800000\">., </span><span style=\"color: #800000; text-decoration-color: #800000; font-weight: bold\">0</span><span style=\"color: #800000; text-decoration-color: #800000\">.</span><span style=\"color: #800000; text-decoration-color: #800000; font-weight: bold\">]</span><span style=\"color: #800000; text-decoration-color: #800000\">,</span>\n",
              "<span style=\"color: #800000; text-decoration-color: #800000\">        </span><span style=\"color: #800000; text-decoration-color: #800000; font-weight: bold\">[</span><span style=\"color: #800000; text-decoration-color: #800000; font-weight: bold\">7</span><span style=\"color: #800000; text-decoration-color: #800000\">., </span><span style=\"color: #800000; text-decoration-color: #800000; font-weight: bold\">0</span><span style=\"color: #800000; text-decoration-color: #800000\">.</span><span style=\"color: #800000; text-decoration-color: #800000; font-weight: bold\">]</span><span style=\"color: #800000; text-decoration-color: #800000\">,</span>\n",
              "<span style=\"color: #800000; text-decoration-color: #800000\">        </span><span style=\"color: #800000; text-decoration-color: #800000; font-weight: bold\">[</span><span style=\"color: #800000; text-decoration-color: #800000; font-weight: bold\">7</span><span style=\"color: #800000; text-decoration-color: #800000\">., </span><span style=\"color: #800000; text-decoration-color: #800000; font-weight: bold\">0</span><span style=\"color: #800000; text-decoration-color: #800000\">.</span><span style=\"color: #800000; text-decoration-color: #800000; font-weight: bold\">]</span><span style=\"color: #800000; text-decoration-color: #800000\">,</span>\n",
              "<span style=\"color: #800000; text-decoration-color: #800000\">        </span><span style=\"color: #800000; text-decoration-color: #800000; font-weight: bold\">[</span><span style=\"color: #800000; text-decoration-color: #800000; font-weight: bold\">7</span><span style=\"color: #800000; text-decoration-color: #800000\">., </span><span style=\"color: #800000; text-decoration-color: #800000; font-weight: bold\">0</span><span style=\"color: #800000; text-decoration-color: #800000\">.</span><span style=\"color: #800000; text-decoration-color: #800000; font-weight: bold\">]]])</span><span style=\"color: #800000; text-decoration-color: #800000\">, </span><span style=\"color: #800000; text-decoration-color: #800000\">'P'</span><span style=\"color: #800000; text-decoration-color: #800000\">: </span><span style=\"color: #800000; text-decoration-color: #800000; font-weight: bold\">array([[[</span><span style=\"color: #800000; text-decoration-color: #800000; font-weight: bold\">0</span><span style=\"color: #800000; text-decoration-color: #800000\">., </span><span style=\"color: #800000; text-decoration-color: #800000; font-weight: bold\">1</span><span style=\"color: #800000; text-decoration-color: #800000\">., </span><span style=\"color: #800000; text-decoration-color: #800000; font-weight: bold\">0</span><span style=\"color: #800000; text-decoration-color: #800000\">., ..., </span><span style=\"color: #800000; text-decoration-color: #800000; font-weight: bold\">0</span><span style=\"color: #800000; text-decoration-color: #800000\">., </span><span style=\"color: #800000; text-decoration-color: #800000; font-weight: bold\">0</span><span style=\"color: #800000; text-decoration-color: #800000\">., </span><span style=\"color: #800000; text-decoration-color: #800000; font-weight: bold\">0</span><span style=\"color: #800000; text-decoration-color: #800000\">.</span><span style=\"color: #800000; text-decoration-color: #800000; font-weight: bold\">]</span><span style=\"color: #800000; text-decoration-color: #800000\">,</span>\n",
              "<span style=\"color: #800000; text-decoration-color: #800000\">        </span><span style=\"color: #800000; text-decoration-color: #800000; font-weight: bold\">[</span><span style=\"color: #800000; text-decoration-color: #800000; font-weight: bold\">0</span><span style=\"color: #800000; text-decoration-color: #800000\">., </span><span style=\"color: #800000; text-decoration-color: #800000; font-weight: bold\">1</span><span style=\"color: #800000; text-decoration-color: #800000\">., </span><span style=\"color: #800000; text-decoration-color: #800000; font-weight: bold\">0</span><span style=\"color: #800000; text-decoration-color: #800000\">., ..., </span><span style=\"color: #800000; text-decoration-color: #800000; font-weight: bold\">0</span><span style=\"color: #800000; text-decoration-color: #800000\">., </span><span style=\"color: #800000; text-decoration-color: #800000; font-weight: bold\">0</span><span style=\"color: #800000; text-decoration-color: #800000\">., </span><span style=\"color: #800000; text-decoration-color: #800000; font-weight: bold\">0</span><span style=\"color: #800000; text-decoration-color: #800000\">.</span><span style=\"color: #800000; text-decoration-color: #800000; font-weight: bold\">]</span><span style=\"color: #800000; text-decoration-color: #800000\">,</span>\n",
              "<span style=\"color: #800000; text-decoration-color: #800000\">        </span><span style=\"color: #800000; text-decoration-color: #800000; font-weight: bold\">[</span><span style=\"color: #800000; text-decoration-color: #800000; font-weight: bold\">0</span><span style=\"color: #800000; text-decoration-color: #800000\">., </span><span style=\"color: #800000; text-decoration-color: #800000; font-weight: bold\">0</span><span style=\"color: #800000; text-decoration-color: #800000\">., </span><span style=\"color: #800000; text-decoration-color: #800000; font-weight: bold\">0</span><span style=\"color: #800000; text-decoration-color: #800000\">., ..., </span><span style=\"color: #800000; text-decoration-color: #800000; font-weight: bold\">0</span><span style=\"color: #800000; text-decoration-color: #800000\">., </span><span style=\"color: #800000; text-decoration-color: #800000; font-weight: bold\">0</span><span style=\"color: #800000; text-decoration-color: #800000\">., </span><span style=\"color: #800000; text-decoration-color: #800000; font-weight: bold\">0</span><span style=\"color: #800000; text-decoration-color: #800000\">.</span><span style=\"color: #800000; text-decoration-color: #800000; font-weight: bold\">]</span><span style=\"color: #800000; text-decoration-color: #800000\">,</span>\n",
              "<span style=\"color: #800000; text-decoration-color: #800000\">        </span><span style=\"color: #800000; text-decoration-color: #800000; font-weight: bold\">[</span><span style=\"color: #800000; text-decoration-color: #800000; font-weight: bold\">0</span><span style=\"color: #800000; text-decoration-color: #800000\">., </span><span style=\"color: #800000; text-decoration-color: #800000; font-weight: bold\">0</span><span style=\"color: #800000; text-decoration-color: #800000\">., </span><span style=\"color: #800000; text-decoration-color: #800000; font-weight: bold\">0</span><span style=\"color: #800000; text-decoration-color: #800000\">., ..., </span><span style=\"color: #800000; text-decoration-color: #800000; font-weight: bold\">0</span><span style=\"color: #800000; text-decoration-color: #800000\">., </span><span style=\"color: #800000; text-decoration-color: #800000; font-weight: bold\">0</span><span style=\"color: #800000; text-decoration-color: #800000\">., </span><span style=\"color: #800000; text-decoration-color: #800000; font-weight: bold\">0</span><span style=\"color: #800000; text-decoration-color: #800000\">.</span><span style=\"color: #800000; text-decoration-color: #800000; font-weight: bold\">]</span><span style=\"color: #800000; text-decoration-color: #800000\">,</span>\n",
              "<span style=\"color: #800000; text-decoration-color: #800000\">        </span><span style=\"color: #800000; text-decoration-color: #800000; font-weight: bold\">[</span><span style=\"color: #800000; text-decoration-color: #800000; font-weight: bold\">0</span><span style=\"color: #800000; text-decoration-color: #800000\">., </span><span style=\"color: #800000; text-decoration-color: #800000; font-weight: bold\">1</span><span style=\"color: #800000; text-decoration-color: #800000\">., </span><span style=\"color: #800000; text-decoration-color: #800000; font-weight: bold\">0</span><span style=\"color: #800000; text-decoration-color: #800000\">., ..., </span><span style=\"color: #800000; text-decoration-color: #800000; font-weight: bold\">0</span><span style=\"color: #800000; text-decoration-color: #800000\">., </span><span style=\"color: #800000; text-decoration-color: #800000; font-weight: bold\">0</span><span style=\"color: #800000; text-decoration-color: #800000\">., </span><span style=\"color: #800000; text-decoration-color: #800000; font-weight: bold\">0</span><span style=\"color: #800000; text-decoration-color: #800000\">.</span><span style=\"color: #800000; text-decoration-color: #800000; font-weight: bold\">]]</span><span style=\"color: #800000; text-decoration-color: #800000\">,</span>\n",
              "\n",
              "<span style=\"color: #800000; text-decoration-color: #800000\">       </span><span style=\"color: #800000; text-decoration-color: #800000; font-weight: bold\">[[</span><span style=\"color: #800000; text-decoration-color: #800000; font-weight: bold\">0</span><span style=\"color: #800000; text-decoration-color: #800000\">., </span><span style=\"color: #800000; text-decoration-color: #800000; font-weight: bold\">0</span><span style=\"color: #800000; text-decoration-color: #800000\">., </span><span style=\"color: #800000; text-decoration-color: #800000; font-weight: bold\">1</span><span style=\"color: #800000; text-decoration-color: #800000\">., ..., </span><span style=\"color: #800000; text-decoration-color: #800000; font-weight: bold\">0</span><span style=\"color: #800000; text-decoration-color: #800000\">., </span><span style=\"color: #800000; text-decoration-color: #800000; font-weight: bold\">0</span><span style=\"color: #800000; text-decoration-color: #800000\">., </span><span style=\"color: #800000; text-decoration-color: #800000; font-weight: bold\">0</span><span style=\"color: #800000; text-decoration-color: #800000\">.</span><span style=\"color: #800000; text-decoration-color: #800000; font-weight: bold\">]</span><span style=\"color: #800000; text-decoration-color: #800000\">,</span>\n",
              "<span style=\"color: #800000; text-decoration-color: #800000\">        </span><span style=\"color: #800000; text-decoration-color: #800000; font-weight: bold\">[</span><span style=\"color: #800000; text-decoration-color: #800000; font-weight: bold\">0</span><span style=\"color: #800000; text-decoration-color: #800000\">., </span><span style=\"color: #800000; text-decoration-color: #800000; font-weight: bold\">0</span><span style=\"color: #800000; text-decoration-color: #800000\">., </span><span style=\"color: #800000; text-decoration-color: #800000; font-weight: bold\">1</span><span style=\"color: #800000; text-decoration-color: #800000\">., ..., </span><span style=\"color: #800000; text-decoration-color: #800000; font-weight: bold\">0</span><span style=\"color: #800000; text-decoration-color: #800000\">., </span><span style=\"color: #800000; text-decoration-color: #800000; font-weight: bold\">0</span><span style=\"color: #800000; text-decoration-color: #800000\">., </span><span style=\"color: #800000; text-decoration-color: #800000; font-weight: bold\">0</span><span style=\"color: #800000; text-decoration-color: #800000\">.</span><span style=\"color: #800000; text-decoration-color: #800000; font-weight: bold\">]</span><span style=\"color: #800000; text-decoration-color: #800000\">,</span>\n",
              "<span style=\"color: #800000; text-decoration-color: #800000\">        </span><span style=\"color: #800000; text-decoration-color: #800000; font-weight: bold\">[</span><span style=\"color: #800000; text-decoration-color: #800000; font-weight: bold\">0</span><span style=\"color: #800000; text-decoration-color: #800000\">., </span><span style=\"color: #800000; text-decoration-color: #800000; font-weight: bold\">0</span><span style=\"color: #800000; text-decoration-color: #800000\">., </span><span style=\"color: #800000; text-decoration-color: #800000; font-weight: bold\">0</span><span style=\"color: #800000; text-decoration-color: #800000\">., ..., </span><span style=\"color: #800000; text-decoration-color: #800000; font-weight: bold\">0</span><span style=\"color: #800000; text-decoration-color: #800000\">., </span><span style=\"color: #800000; text-decoration-color: #800000; font-weight: bold\">0</span><span style=\"color: #800000; text-decoration-color: #800000\">., </span><span style=\"color: #800000; text-decoration-color: #800000; font-weight: bold\">0</span><span style=\"color: #800000; text-decoration-color: #800000\">.</span><span style=\"color: #800000; text-decoration-color: #800000; font-weight: bold\">]</span><span style=\"color: #800000; text-decoration-color: #800000\">,</span>\n",
              "<span style=\"color: #800000; text-decoration-color: #800000\">        </span><span style=\"color: #800000; text-decoration-color: #800000; font-weight: bold\">[</span><span style=\"color: #800000; text-decoration-color: #800000; font-weight: bold\">0</span><span style=\"color: #800000; text-decoration-color: #800000\">., </span><span style=\"color: #800000; text-decoration-color: #800000; font-weight: bold\">0</span><span style=\"color: #800000; text-decoration-color: #800000\">., </span><span style=\"color: #800000; text-decoration-color: #800000; font-weight: bold\">1</span><span style=\"color: #800000; text-decoration-color: #800000\">., ..., </span><span style=\"color: #800000; text-decoration-color: #800000; font-weight: bold\">0</span><span style=\"color: #800000; text-decoration-color: #800000\">., </span><span style=\"color: #800000; text-decoration-color: #800000; font-weight: bold\">0</span><span style=\"color: #800000; text-decoration-color: #800000\">., </span><span style=\"color: #800000; text-decoration-color: #800000; font-weight: bold\">0</span><span style=\"color: #800000; text-decoration-color: #800000\">.</span><span style=\"color: #800000; text-decoration-color: #800000; font-weight: bold\">]</span><span style=\"color: #800000; text-decoration-color: #800000\">,</span>\n",
              "<span style=\"color: #800000; text-decoration-color: #800000\">        </span><span style=\"color: #800000; text-decoration-color: #800000; font-weight: bold\">[</span><span style=\"color: #800000; text-decoration-color: #800000; font-weight: bold\">0</span><span style=\"color: #800000; text-decoration-color: #800000\">., </span><span style=\"color: #800000; text-decoration-color: #800000; font-weight: bold\">0</span><span style=\"color: #800000; text-decoration-color: #800000\">., </span><span style=\"color: #800000; text-decoration-color: #800000; font-weight: bold\">1</span><span style=\"color: #800000; text-decoration-color: #800000\">., ..., </span><span style=\"color: #800000; text-decoration-color: #800000; font-weight: bold\">0</span><span style=\"color: #800000; text-decoration-color: #800000\">., </span><span style=\"color: #800000; text-decoration-color: #800000; font-weight: bold\">0</span><span style=\"color: #800000; text-decoration-color: #800000\">., </span><span style=\"color: #800000; text-decoration-color: #800000; font-weight: bold\">0</span><span style=\"color: #800000; text-decoration-color: #800000\">.</span><span style=\"color: #800000; text-decoration-color: #800000; font-weight: bold\">]]</span><span style=\"color: #800000; text-decoration-color: #800000\">,</span>\n",
              "\n",
              "<span style=\"color: #800000; text-decoration-color: #800000\">       </span><span style=\"color: #800000; text-decoration-color: #800000; font-weight: bold\">[[</span><span style=\"color: #800000; text-decoration-color: #800000; font-weight: bold\">0</span><span style=\"color: #800000; text-decoration-color: #800000\">., </span><span style=\"color: #800000; text-decoration-color: #800000; font-weight: bold\">0</span><span style=\"color: #800000; text-decoration-color: #800000\">., </span><span style=\"color: #800000; text-decoration-color: #800000; font-weight: bold\">0</span><span style=\"color: #800000; text-decoration-color: #800000\">., ..., </span><span style=\"color: #800000; text-decoration-color: #800000; font-weight: bold\">0</span><span style=\"color: #800000; text-decoration-color: #800000\">., </span><span style=\"color: #800000; text-decoration-color: #800000; font-weight: bold\">0</span><span style=\"color: #800000; text-decoration-color: #800000\">., </span><span style=\"color: #800000; text-decoration-color: #800000; font-weight: bold\">0</span><span style=\"color: #800000; text-decoration-color: #800000\">.</span><span style=\"color: #800000; text-decoration-color: #800000; font-weight: bold\">]</span><span style=\"color: #800000; text-decoration-color: #800000\">,</span>\n",
              "<span style=\"color: #800000; text-decoration-color: #800000\">        </span><span style=\"color: #800000; text-decoration-color: #800000; font-weight: bold\">[</span><span style=\"color: #800000; text-decoration-color: #800000; font-weight: bold\">0</span><span style=\"color: #800000; text-decoration-color: #800000\">., </span><span style=\"color: #800000; text-decoration-color: #800000; font-weight: bold\">0</span><span style=\"color: #800000; text-decoration-color: #800000\">., </span><span style=\"color: #800000; text-decoration-color: #800000; font-weight: bold\">0</span><span style=\"color: #800000; text-decoration-color: #800000\">., ..., </span><span style=\"color: #800000; text-decoration-color: #800000; font-weight: bold\">0</span><span style=\"color: #800000; text-decoration-color: #800000\">., </span><span style=\"color: #800000; text-decoration-color: #800000; font-weight: bold\">0</span><span style=\"color: #800000; text-decoration-color: #800000\">., </span><span style=\"color: #800000; text-decoration-color: #800000; font-weight: bold\">0</span><span style=\"color: #800000; text-decoration-color: #800000\">.</span><span style=\"color: #800000; text-decoration-color: #800000; font-weight: bold\">]</span><span style=\"color: #800000; text-decoration-color: #800000\">,</span>\n",
              "<span style=\"color: #800000; text-decoration-color: #800000\">        </span><span style=\"color: #800000; text-decoration-color: #800000; font-weight: bold\">[</span><span style=\"color: #800000; text-decoration-color: #800000; font-weight: bold\">0</span><span style=\"color: #800000; text-decoration-color: #800000\">., </span><span style=\"color: #800000; text-decoration-color: #800000; font-weight: bold\">0</span><span style=\"color: #800000; text-decoration-color: #800000\">., </span><span style=\"color: #800000; text-decoration-color: #800000; font-weight: bold\">0</span><span style=\"color: #800000; text-decoration-color: #800000\">., ..., </span><span style=\"color: #800000; text-decoration-color: #800000; font-weight: bold\">0</span><span style=\"color: #800000; text-decoration-color: #800000\">., </span><span style=\"color: #800000; text-decoration-color: #800000; font-weight: bold\">0</span><span style=\"color: #800000; text-decoration-color: #800000\">., </span><span style=\"color: #800000; text-decoration-color: #800000; font-weight: bold\">0</span><span style=\"color: #800000; text-decoration-color: #800000\">.</span><span style=\"color: #800000; text-decoration-color: #800000; font-weight: bold\">]</span><span style=\"color: #800000; text-decoration-color: #800000\">,</span>\n",
              "<span style=\"color: #800000; text-decoration-color: #800000\">        </span><span style=\"color: #800000; text-decoration-color: #800000; font-weight: bold\">[</span><span style=\"color: #800000; text-decoration-color: #800000; font-weight: bold\">0</span><span style=\"color: #800000; text-decoration-color: #800000\">., </span><span style=\"color: #800000; text-decoration-color: #800000; font-weight: bold\">0</span><span style=\"color: #800000; text-decoration-color: #800000\">., </span><span style=\"color: #800000; text-decoration-color: #800000; font-weight: bold\">0</span><span style=\"color: #800000; text-decoration-color: #800000\">., ..., </span><span style=\"color: #800000; text-decoration-color: #800000; font-weight: bold\">0</span><span style=\"color: #800000; text-decoration-color: #800000\">., </span><span style=\"color: #800000; text-decoration-color: #800000; font-weight: bold\">0</span><span style=\"color: #800000; text-decoration-color: #800000\">., </span><span style=\"color: #800000; text-decoration-color: #800000; font-weight: bold\">0</span><span style=\"color: #800000; text-decoration-color: #800000\">.</span><span style=\"color: #800000; text-decoration-color: #800000; font-weight: bold\">]</span><span style=\"color: #800000; text-decoration-color: #800000\">,</span>\n",
              "<span style=\"color: #800000; text-decoration-color: #800000\">        </span><span style=\"color: #800000; text-decoration-color: #800000; font-weight: bold\">[</span><span style=\"color: #800000; text-decoration-color: #800000; font-weight: bold\">0</span><span style=\"color: #800000; text-decoration-color: #800000\">., </span><span style=\"color: #800000; text-decoration-color: #800000; font-weight: bold\">0</span><span style=\"color: #800000; text-decoration-color: #800000\">., </span><span style=\"color: #800000; text-decoration-color: #800000; font-weight: bold\">0</span><span style=\"color: #800000; text-decoration-color: #800000\">., ..., </span><span style=\"color: #800000; text-decoration-color: #800000; font-weight: bold\">0</span><span style=\"color: #800000; text-decoration-color: #800000\">., </span><span style=\"color: #800000; text-decoration-color: #800000; font-weight: bold\">0</span><span style=\"color: #800000; text-decoration-color: #800000\">., </span><span style=\"color: #800000; text-decoration-color: #800000; font-weight: bold\">0</span><span style=\"color: #800000; text-decoration-color: #800000\">.</span><span style=\"color: #800000; text-decoration-color: #800000; font-weight: bold\">]]</span><span style=\"color: #800000; text-decoration-color: #800000\">,</span>\n",
              "\n",
              "<span style=\"color: #800000; text-decoration-color: #800000\">       ...,</span>\n",
              "\n",
              "<span style=\"color: #800000; text-decoration-color: #800000\">       </span><span style=\"color: #800000; text-decoration-color: #800000; font-weight: bold\">[[</span><span style=\"color: #800000; text-decoration-color: #800000; font-weight: bold\">0</span><span style=\"color: #800000; text-decoration-color: #800000\">., </span><span style=\"color: #800000; text-decoration-color: #800000; font-weight: bold\">0</span><span style=\"color: #800000; text-decoration-color: #800000\">., </span><span style=\"color: #800000; text-decoration-color: #800000; font-weight: bold\">0</span><span style=\"color: #800000; text-decoration-color: #800000\">., ..., </span><span style=\"color: #800000; text-decoration-color: #800000; font-weight: bold\">0</span><span style=\"color: #800000; text-decoration-color: #800000\">., </span><span style=\"color: #800000; text-decoration-color: #800000; font-weight: bold\">0</span><span style=\"color: #800000; text-decoration-color: #800000\">., </span><span style=\"color: #800000; text-decoration-color: #800000; font-weight: bold\">0</span><span style=\"color: #800000; text-decoration-color: #800000\">.</span><span style=\"color: #800000; text-decoration-color: #800000; font-weight: bold\">]</span><span style=\"color: #800000; text-decoration-color: #800000\">,</span>\n",
              "<span style=\"color: #800000; text-decoration-color: #800000\">        </span><span style=\"color: #800000; text-decoration-color: #800000; font-weight: bold\">[</span><span style=\"color: #800000; text-decoration-color: #800000; font-weight: bold\">0</span><span style=\"color: #800000; text-decoration-color: #800000\">., </span><span style=\"color: #800000; text-decoration-color: #800000; font-weight: bold\">0</span><span style=\"color: #800000; text-decoration-color: #800000\">., </span><span style=\"color: #800000; text-decoration-color: #800000; font-weight: bold\">0</span><span style=\"color: #800000; text-decoration-color: #800000\">., ..., </span><span style=\"color: #800000; text-decoration-color: #800000; font-weight: bold\">0</span><span style=\"color: #800000; text-decoration-color: #800000\">., </span><span style=\"color: #800000; text-decoration-color: #800000; font-weight: bold\">1</span><span style=\"color: #800000; text-decoration-color: #800000\">., </span><span style=\"color: #800000; text-decoration-color: #800000; font-weight: bold\">0</span><span style=\"color: #800000; text-decoration-color: #800000\">.</span><span style=\"color: #800000; text-decoration-color: #800000; font-weight: bold\">]</span><span style=\"color: #800000; text-decoration-color: #800000\">,</span>\n",
              "<span style=\"color: #800000; text-decoration-color: #800000\">        </span><span style=\"color: #800000; text-decoration-color: #800000; font-weight: bold\">[</span><span style=\"color: #800000; text-decoration-color: #800000; font-weight: bold\">0</span><span style=\"color: #800000; text-decoration-color: #800000\">., </span><span style=\"color: #800000; text-decoration-color: #800000; font-weight: bold\">0</span><span style=\"color: #800000; text-decoration-color: #800000\">., </span><span style=\"color: #800000; text-decoration-color: #800000; font-weight: bold\">0</span><span style=\"color: #800000; text-decoration-color: #800000\">., ..., </span><span style=\"color: #800000; text-decoration-color: #800000; font-weight: bold\">0</span><span style=\"color: #800000; text-decoration-color: #800000\">., </span><span style=\"color: #800000; text-decoration-color: #800000; font-weight: bold\">1</span><span style=\"color: #800000; text-decoration-color: #800000\">., </span><span style=\"color: #800000; text-decoration-color: #800000; font-weight: bold\">0</span><span style=\"color: #800000; text-decoration-color: #800000\">.</span><span style=\"color: #800000; text-decoration-color: #800000; font-weight: bold\">]</span><span style=\"color: #800000; text-decoration-color: #800000\">,</span>\n",
              "<span style=\"color: #800000; text-decoration-color: #800000\">        </span><span style=\"color: #800000; text-decoration-color: #800000; font-weight: bold\">[</span><span style=\"color: #800000; text-decoration-color: #800000; font-weight: bold\">0</span><span style=\"color: #800000; text-decoration-color: #800000\">., </span><span style=\"color: #800000; text-decoration-color: #800000; font-weight: bold\">0</span><span style=\"color: #800000; text-decoration-color: #800000\">., </span><span style=\"color: #800000; text-decoration-color: #800000; font-weight: bold\">0</span><span style=\"color: #800000; text-decoration-color: #800000\">., ..., </span><span style=\"color: #800000; text-decoration-color: #800000; font-weight: bold\">0</span><span style=\"color: #800000; text-decoration-color: #800000\">., </span><span style=\"color: #800000; text-decoration-color: #800000; font-weight: bold\">1</span><span style=\"color: #800000; text-decoration-color: #800000\">., </span><span style=\"color: #800000; text-decoration-color: #800000; font-weight: bold\">0</span><span style=\"color: #800000; text-decoration-color: #800000\">.</span><span style=\"color: #800000; text-decoration-color: #800000; font-weight: bold\">]</span><span style=\"color: #800000; text-decoration-color: #800000\">,</span>\n",
              "<span style=\"color: #800000; text-decoration-color: #800000\">        </span><span style=\"color: #800000; text-decoration-color: #800000; font-weight: bold\">[</span><span style=\"color: #800000; text-decoration-color: #800000; font-weight: bold\">0</span><span style=\"color: #800000; text-decoration-color: #800000\">., </span><span style=\"color: #800000; text-decoration-color: #800000; font-weight: bold\">0</span><span style=\"color: #800000; text-decoration-color: #800000\">., </span><span style=\"color: #800000; text-decoration-color: #800000; font-weight: bold\">0</span><span style=\"color: #800000; text-decoration-color: #800000\">., ..., </span><span style=\"color: #800000; text-decoration-color: #800000; font-weight: bold\">0</span><span style=\"color: #800000; text-decoration-color: #800000\">., </span><span style=\"color: #800000; text-decoration-color: #800000; font-weight: bold\">1</span><span style=\"color: #800000; text-decoration-color: #800000\">., </span><span style=\"color: #800000; text-decoration-color: #800000; font-weight: bold\">0</span><span style=\"color: #800000; text-decoration-color: #800000\">.</span><span style=\"color: #800000; text-decoration-color: #800000; font-weight: bold\">]]</span><span style=\"color: #800000; text-decoration-color: #800000\">,</span>\n",
              "\n",
              "<span style=\"color: #800000; text-decoration-color: #800000\">       </span><span style=\"color: #800000; text-decoration-color: #800000; font-weight: bold\">[[</span><span style=\"color: #800000; text-decoration-color: #800000; font-weight: bold\">0</span><span style=\"color: #800000; text-decoration-color: #800000\">., </span><span style=\"color: #800000; text-decoration-color: #800000; font-weight: bold\">0</span><span style=\"color: #800000; text-decoration-color: #800000\">., </span><span style=\"color: #800000; text-decoration-color: #800000; font-weight: bold\">0</span><span style=\"color: #800000; text-decoration-color: #800000\">., ..., </span><span style=\"color: #800000; text-decoration-color: #800000; font-weight: bold\">0</span><span style=\"color: #800000; text-decoration-color: #800000\">., </span><span style=\"color: #800000; text-decoration-color: #800000; font-weight: bold\">0</span><span style=\"color: #800000; text-decoration-color: #800000\">., </span><span style=\"color: #800000; text-decoration-color: #800000; font-weight: bold\">0</span><span style=\"color: #800000; text-decoration-color: #800000\">.</span><span style=\"color: #800000; text-decoration-color: #800000; font-weight: bold\">]</span><span style=\"color: #800000; text-decoration-color: #800000\">,</span>\n",
              "<span style=\"color: #800000; text-decoration-color: #800000\">        </span><span style=\"color: #800000; text-decoration-color: #800000; font-weight: bold\">[</span><span style=\"color: #800000; text-decoration-color: #800000; font-weight: bold\">0</span><span style=\"color: #800000; text-decoration-color: #800000\">., </span><span style=\"color: #800000; text-decoration-color: #800000; font-weight: bold\">0</span><span style=\"color: #800000; text-decoration-color: #800000\">., </span><span style=\"color: #800000; text-decoration-color: #800000; font-weight: bold\">0</span><span style=\"color: #800000; text-decoration-color: #800000\">., ..., </span><span style=\"color: #800000; text-decoration-color: #800000; font-weight: bold\">0</span><span style=\"color: #800000; text-decoration-color: #800000\">., </span><span style=\"color: #800000; text-decoration-color: #800000; font-weight: bold\">0</span><span style=\"color: #800000; text-decoration-color: #800000\">., </span><span style=\"color: #800000; text-decoration-color: #800000; font-weight: bold\">1</span><span style=\"color: #800000; text-decoration-color: #800000\">.</span><span style=\"color: #800000; text-decoration-color: #800000; font-weight: bold\">]</span><span style=\"color: #800000; text-decoration-color: #800000\">,</span>\n",
              "<span style=\"color: #800000; text-decoration-color: #800000\">        </span><span style=\"color: #800000; text-decoration-color: #800000; font-weight: bold\">[</span><span style=\"color: #800000; text-decoration-color: #800000; font-weight: bold\">0</span><span style=\"color: #800000; text-decoration-color: #800000\">., </span><span style=\"color: #800000; text-decoration-color: #800000; font-weight: bold\">0</span><span style=\"color: #800000; text-decoration-color: #800000\">., </span><span style=\"color: #800000; text-decoration-color: #800000; font-weight: bold\">0</span><span style=\"color: #800000; text-decoration-color: #800000\">., ..., </span><span style=\"color: #800000; text-decoration-color: #800000; font-weight: bold\">0</span><span style=\"color: #800000; text-decoration-color: #800000\">., </span><span style=\"color: #800000; text-decoration-color: #800000; font-weight: bold\">0</span><span style=\"color: #800000; text-decoration-color: #800000\">., </span><span style=\"color: #800000; text-decoration-color: #800000; font-weight: bold\">1</span><span style=\"color: #800000; text-decoration-color: #800000\">.</span><span style=\"color: #800000; text-decoration-color: #800000; font-weight: bold\">]</span><span style=\"color: #800000; text-decoration-color: #800000\">,</span>\n",
              "<span style=\"color: #800000; text-decoration-color: #800000\">        </span><span style=\"color: #800000; text-decoration-color: #800000; font-weight: bold\">[</span><span style=\"color: #800000; text-decoration-color: #800000; font-weight: bold\">0</span><span style=\"color: #800000; text-decoration-color: #800000\">., </span><span style=\"color: #800000; text-decoration-color: #800000; font-weight: bold\">0</span><span style=\"color: #800000; text-decoration-color: #800000\">., </span><span style=\"color: #800000; text-decoration-color: #800000; font-weight: bold\">0</span><span style=\"color: #800000; text-decoration-color: #800000\">., ..., </span><span style=\"color: #800000; text-decoration-color: #800000; font-weight: bold\">0</span><span style=\"color: #800000; text-decoration-color: #800000\">., </span><span style=\"color: #800000; text-decoration-color: #800000; font-weight: bold\">0</span><span style=\"color: #800000; text-decoration-color: #800000\">., </span><span style=\"color: #800000; text-decoration-color: #800000; font-weight: bold\">1</span><span style=\"color: #800000; text-decoration-color: #800000\">.</span><span style=\"color: #800000; text-decoration-color: #800000; font-weight: bold\">]</span><span style=\"color: #800000; text-decoration-color: #800000\">,</span>\n",
              "<span style=\"color: #800000; text-decoration-color: #800000\">        </span><span style=\"color: #800000; text-decoration-color: #800000; font-weight: bold\">[</span><span style=\"color: #800000; text-decoration-color: #800000; font-weight: bold\">0</span><span style=\"color: #800000; text-decoration-color: #800000\">., </span><span style=\"color: #800000; text-decoration-color: #800000; font-weight: bold\">0</span><span style=\"color: #800000; text-decoration-color: #800000\">., </span><span style=\"color: #800000; text-decoration-color: #800000; font-weight: bold\">0</span><span style=\"color: #800000; text-decoration-color: #800000\">., ..., </span><span style=\"color: #800000; text-decoration-color: #800000; font-weight: bold\">0</span><span style=\"color: #800000; text-decoration-color: #800000\">., </span><span style=\"color: #800000; text-decoration-color: #800000; font-weight: bold\">0</span><span style=\"color: #800000; text-decoration-color: #800000\">., </span><span style=\"color: #800000; text-decoration-color: #800000; font-weight: bold\">1</span><span style=\"color: #800000; text-decoration-color: #800000\">.</span><span style=\"color: #800000; text-decoration-color: #800000; font-weight: bold\">]]</span><span style=\"color: #800000; text-decoration-color: #800000\">,</span>\n",
              "\n",
              "<span style=\"color: #800000; text-decoration-color: #800000\">       </span><span style=\"color: #800000; text-decoration-color: #800000; font-weight: bold\">[[</span><span style=\"color: #800000; text-decoration-color: #800000; font-weight: bold\">0</span><span style=\"color: #800000; text-decoration-color: #800000\">., </span><span style=\"color: #800000; text-decoration-color: #800000; font-weight: bold\">0</span><span style=\"color: #800000; text-decoration-color: #800000\">., </span><span style=\"color: #800000; text-decoration-color: #800000; font-weight: bold\">0</span><span style=\"color: #800000; text-decoration-color: #800000\">., ..., </span><span style=\"color: #800000; text-decoration-color: #800000; font-weight: bold\">0</span><span style=\"color: #800000; text-decoration-color: #800000\">., </span><span style=\"color: #800000; text-decoration-color: #800000; font-weight: bold\">0</span><span style=\"color: #800000; text-decoration-color: #800000\">., </span><span style=\"color: #800000; text-decoration-color: #800000; font-weight: bold\">1</span><span style=\"color: #800000; text-decoration-color: #800000\">.</span><span style=\"color: #800000; text-decoration-color: #800000; font-weight: bold\">]</span><span style=\"color: #800000; text-decoration-color: #800000\">,</span>\n",
              "<span style=\"color: #800000; text-decoration-color: #800000\">        </span><span style=\"color: #800000; text-decoration-color: #800000; font-weight: bold\">[</span><span style=\"color: #800000; text-decoration-color: #800000; font-weight: bold\">0</span><span style=\"color: #800000; text-decoration-color: #800000\">., </span><span style=\"color: #800000; text-decoration-color: #800000; font-weight: bold\">0</span><span style=\"color: #800000; text-decoration-color: #800000\">., </span><span style=\"color: #800000; text-decoration-color: #800000; font-weight: bold\">0</span><span style=\"color: #800000; text-decoration-color: #800000\">., ..., </span><span style=\"color: #800000; text-decoration-color: #800000; font-weight: bold\">0</span><span style=\"color: #800000; text-decoration-color: #800000\">., </span><span style=\"color: #800000; text-decoration-color: #800000; font-weight: bold\">0</span><span style=\"color: #800000; text-decoration-color: #800000\">., </span><span style=\"color: #800000; text-decoration-color: #800000; font-weight: bold\">1</span><span style=\"color: #800000; text-decoration-color: #800000\">.</span><span style=\"color: #800000; text-decoration-color: #800000; font-weight: bold\">]</span><span style=\"color: #800000; text-decoration-color: #800000\">,</span>\n",
              "<span style=\"color: #800000; text-decoration-color: #800000\">        </span><span style=\"color: #800000; text-decoration-color: #800000; font-weight: bold\">[</span><span style=\"color: #800000; text-decoration-color: #800000; font-weight: bold\">0</span><span style=\"color: #800000; text-decoration-color: #800000\">., </span><span style=\"color: #800000; text-decoration-color: #800000; font-weight: bold\">0</span><span style=\"color: #800000; text-decoration-color: #800000\">., </span><span style=\"color: #800000; text-decoration-color: #800000; font-weight: bold\">0</span><span style=\"color: #800000; text-decoration-color: #800000\">., ..., </span><span style=\"color: #800000; text-decoration-color: #800000; font-weight: bold\">0</span><span style=\"color: #800000; text-decoration-color: #800000\">., </span><span style=\"color: #800000; text-decoration-color: #800000; font-weight: bold\">0</span><span style=\"color: #800000; text-decoration-color: #800000\">., </span><span style=\"color: #800000; text-decoration-color: #800000; font-weight: bold\">1</span><span style=\"color: #800000; text-decoration-color: #800000\">.</span><span style=\"color: #800000; text-decoration-color: #800000; font-weight: bold\">]</span><span style=\"color: #800000; text-decoration-color: #800000\">,</span>\n",
              "<span style=\"color: #800000; text-decoration-color: #800000\">        </span><span style=\"color: #800000; text-decoration-color: #800000; font-weight: bold\">[</span><span style=\"color: #800000; text-decoration-color: #800000; font-weight: bold\">0</span><span style=\"color: #800000; text-decoration-color: #800000\">., </span><span style=\"color: #800000; text-decoration-color: #800000; font-weight: bold\">0</span><span style=\"color: #800000; text-decoration-color: #800000\">., </span><span style=\"color: #800000; text-decoration-color: #800000; font-weight: bold\">0</span><span style=\"color: #800000; text-decoration-color: #800000\">., ..., </span><span style=\"color: #800000; text-decoration-color: #800000; font-weight: bold\">0</span><span style=\"color: #800000; text-decoration-color: #800000\">., </span><span style=\"color: #800000; text-decoration-color: #800000; font-weight: bold\">0</span><span style=\"color: #800000; text-decoration-color: #800000\">., </span><span style=\"color: #800000; text-decoration-color: #800000; font-weight: bold\">1</span><span style=\"color: #800000; text-decoration-color: #800000\">.</span><span style=\"color: #800000; text-decoration-color: #800000; font-weight: bold\">]</span><span style=\"color: #800000; text-decoration-color: #800000\">,</span>\n",
              "<span style=\"color: #800000; text-decoration-color: #800000\">        </span><span style=\"color: #800000; text-decoration-color: #800000; font-weight: bold\">[</span><span style=\"color: #800000; text-decoration-color: #800000; font-weight: bold\">0</span><span style=\"color: #800000; text-decoration-color: #800000\">., </span><span style=\"color: #800000; text-decoration-color: #800000; font-weight: bold\">0</span><span style=\"color: #800000; text-decoration-color: #800000\">., </span><span style=\"color: #800000; text-decoration-color: #800000; font-weight: bold\">0</span><span style=\"color: #800000; text-decoration-color: #800000\">., ..., </span><span style=\"color: #800000; text-decoration-color: #800000; font-weight: bold\">0</span><span style=\"color: #800000; text-decoration-color: #800000\">., </span><span style=\"color: #800000; text-decoration-color: #800000; font-weight: bold\">0</span><span style=\"color: #800000; text-decoration-color: #800000\">., </span><span style=\"color: #800000; text-decoration-color: #800000; font-weight: bold\">1</span><span style=\"color: #800000; text-decoration-color: #800000\">.</span><span style=\"color: #800000; text-decoration-color: #800000; font-weight: bold\">]]]</span><span style=\"color: #800000; text-decoration-color: #800000\">, </span><span style=\"color: #800000; text-decoration-color: #800000\">dtype</span><span style=\"color: #800000; text-decoration-color: #800000\">=</span><span style=\"color: #800000; text-decoration-color: #800000\">float32</span><span style=\"color: #800000; text-decoration-color: #800000; font-weight: bold\">)}</span>\n",
              "</pre>\n"
            ],
            "text/plain": [
              "\u001b[31mStart to play tabular_mdp with parameter \u001b[0m\u001b[1;31m{\u001b[0m\u001b[31m'nState'\u001b[0m\u001b[31m: \u001b[0m\u001b[1;31m120\u001b[0m\u001b[31m, \u001b[0m\u001b[31m'nAction'\u001b[0m\u001b[31m: \u001b[0m\u001b[1;31m5\u001b[0m\u001b[31m, \u001b[0m\u001b[31m'epLen'\u001b[0m\u001b[31m: \u001b[0m\u001b[1;31m10\u001b[0m\u001b[31m, \u001b[0m\u001b[31m'R'\u001b[0m\u001b[31m: \u001b[0m\u001b[1;31marray\u001b[0m\u001b[1;31m(\u001b[0m\u001b[1;31m[\u001b[0m\u001b[1;31m[\u001b[0m\u001b[1;31m[\u001b[0m\u001b[1;31m0\u001b[0m\u001b[31m., \u001b[0m\u001b[1;31m0\u001b[0m\u001b[31m.\u001b[0m\u001b[1;31m]\u001b[0m\u001b[31m,\u001b[0m\n",
              "\u001b[31m        \u001b[0m\u001b[1;31m[\u001b[0m\u001b[1;31m0\u001b[0m\u001b[31m., \u001b[0m\u001b[1;31m0\u001b[0m\u001b[31m.\u001b[0m\u001b[1;31m]\u001b[0m\u001b[31m,\u001b[0m\n",
              "\u001b[31m        \u001b[0m\u001b[1;31m[\u001b[0m\u001b[1;31m0\u001b[0m\u001b[31m., \u001b[0m\u001b[1;31m0\u001b[0m\u001b[31m.\u001b[0m\u001b[1;31m]\u001b[0m\u001b[31m,\u001b[0m\n",
              "\u001b[31m        \u001b[0m\u001b[1;31m[\u001b[0m\u001b[1;31m0\u001b[0m\u001b[31m., \u001b[0m\u001b[1;31m0\u001b[0m\u001b[31m.\u001b[0m\u001b[1;31m]\u001b[0m\u001b[31m,\u001b[0m\n",
              "\u001b[31m        \u001b[0m\u001b[1;31m[\u001b[0m\u001b[1;31m0\u001b[0m\u001b[31m., \u001b[0m\u001b[1;31m0\u001b[0m\u001b[31m.\u001b[0m\u001b[1;31m]\u001b[0m\u001b[1;31m]\u001b[0m\u001b[31m,\u001b[0m\n",
              "\n",
              "\u001b[31m       \u001b[0m\u001b[1;31m[\u001b[0m\u001b[1;31m[\u001b[0m\u001b[1;31m0\u001b[0m\u001b[31m., \u001b[0m\u001b[1;31m0\u001b[0m\u001b[31m.\u001b[0m\u001b[1;31m]\u001b[0m\u001b[31m,\u001b[0m\n",
              "\u001b[31m        \u001b[0m\u001b[1;31m[\u001b[0m\u001b[1;31m0\u001b[0m\u001b[31m., \u001b[0m\u001b[1;31m0\u001b[0m\u001b[31m.\u001b[0m\u001b[1;31m]\u001b[0m\u001b[31m,\u001b[0m\n",
              "\u001b[31m        \u001b[0m\u001b[1;31m[\u001b[0m\u001b[1;31m0\u001b[0m\u001b[31m., \u001b[0m\u001b[1;31m0\u001b[0m\u001b[31m.\u001b[0m\u001b[1;31m]\u001b[0m\u001b[31m,\u001b[0m\n",
              "\u001b[31m        \u001b[0m\u001b[1;31m[\u001b[0m\u001b[1;31m0\u001b[0m\u001b[31m., \u001b[0m\u001b[1;31m0\u001b[0m\u001b[31m.\u001b[0m\u001b[1;31m]\u001b[0m\u001b[31m,\u001b[0m\n",
              "\u001b[31m        \u001b[0m\u001b[1;31m[\u001b[0m\u001b[1;31m0\u001b[0m\u001b[31m., \u001b[0m\u001b[1;31m0\u001b[0m\u001b[31m.\u001b[0m\u001b[1;31m]\u001b[0m\u001b[1;31m]\u001b[0m\u001b[31m,\u001b[0m\n",
              "\n",
              "\u001b[31m       \u001b[0m\u001b[1;31m[\u001b[0m\u001b[1;31m[\u001b[0m\u001b[1;31m0\u001b[0m\u001b[31m., \u001b[0m\u001b[1;31m0\u001b[0m\u001b[31m.\u001b[0m\u001b[1;31m]\u001b[0m\u001b[31m,\u001b[0m\n",
              "\u001b[31m        \u001b[0m\u001b[1;31m[\u001b[0m\u001b[1;31m0\u001b[0m\u001b[31m., \u001b[0m\u001b[1;31m0\u001b[0m\u001b[31m.\u001b[0m\u001b[1;31m]\u001b[0m\u001b[31m,\u001b[0m\n",
              "\u001b[31m        \u001b[0m\u001b[1;31m[\u001b[0m\u001b[1;31m0\u001b[0m\u001b[31m., \u001b[0m\u001b[1;31m0\u001b[0m\u001b[31m.\u001b[0m\u001b[1;31m]\u001b[0m\u001b[31m,\u001b[0m\n",
              "\u001b[31m        \u001b[0m\u001b[1;31m[\u001b[0m\u001b[1;31m0\u001b[0m\u001b[31m., \u001b[0m\u001b[1;31m0\u001b[0m\u001b[31m.\u001b[0m\u001b[1;31m]\u001b[0m\u001b[31m,\u001b[0m\n",
              "\u001b[31m        \u001b[0m\u001b[1;31m[\u001b[0m\u001b[1;31m0\u001b[0m\u001b[31m., \u001b[0m\u001b[1;31m0\u001b[0m\u001b[31m.\u001b[0m\u001b[1;31m]\u001b[0m\u001b[1;31m]\u001b[0m\u001b[31m,\u001b[0m\n",
              "\n",
              "\u001b[31m       \u001b[0m\u001b[31m...\u001b[0m\u001b[31m,\u001b[0m\n",
              "\n",
              "\u001b[31m       \u001b[0m\u001b[1;31m[\u001b[0m\u001b[1;31m[\u001b[0m\u001b[1;31m7\u001b[0m\u001b[31m., \u001b[0m\u001b[1;31m0\u001b[0m\u001b[31m.\u001b[0m\u001b[1;31m]\u001b[0m\u001b[31m,\u001b[0m\n",
              "\u001b[31m        \u001b[0m\u001b[1;31m[\u001b[0m\u001b[1;31m7\u001b[0m\u001b[31m., \u001b[0m\u001b[1;31m0\u001b[0m\u001b[31m.\u001b[0m\u001b[1;31m]\u001b[0m\u001b[31m,\u001b[0m\n",
              "\u001b[31m        \u001b[0m\u001b[1;31m[\u001b[0m\u001b[1;31m7\u001b[0m\u001b[31m., \u001b[0m\u001b[1;31m0\u001b[0m\u001b[31m.\u001b[0m\u001b[1;31m]\u001b[0m\u001b[31m,\u001b[0m\n",
              "\u001b[31m        \u001b[0m\u001b[1;31m[\u001b[0m\u001b[1;31m7\u001b[0m\u001b[31m., \u001b[0m\u001b[1;31m0\u001b[0m\u001b[31m.\u001b[0m\u001b[1;31m]\u001b[0m\u001b[31m,\u001b[0m\n",
              "\u001b[31m        \u001b[0m\u001b[1;31m[\u001b[0m\u001b[1;31m7\u001b[0m\u001b[31m., \u001b[0m\u001b[1;31m0\u001b[0m\u001b[31m.\u001b[0m\u001b[1;31m]\u001b[0m\u001b[1;31m]\u001b[0m\u001b[31m,\u001b[0m\n",
              "\n",
              "\u001b[31m       \u001b[0m\u001b[1;31m[\u001b[0m\u001b[1;31m[\u001b[0m\u001b[1;31m7\u001b[0m\u001b[31m., \u001b[0m\u001b[1;31m0\u001b[0m\u001b[31m.\u001b[0m\u001b[1;31m]\u001b[0m\u001b[31m,\u001b[0m\n",
              "\u001b[31m        \u001b[0m\u001b[1;31m[\u001b[0m\u001b[1;31m7\u001b[0m\u001b[31m., \u001b[0m\u001b[1;31m0\u001b[0m\u001b[31m.\u001b[0m\u001b[1;31m]\u001b[0m\u001b[31m,\u001b[0m\n",
              "\u001b[31m        \u001b[0m\u001b[1;31m[\u001b[0m\u001b[1;31m7\u001b[0m\u001b[31m., \u001b[0m\u001b[1;31m0\u001b[0m\u001b[31m.\u001b[0m\u001b[1;31m]\u001b[0m\u001b[31m,\u001b[0m\n",
              "\u001b[31m        \u001b[0m\u001b[1;31m[\u001b[0m\u001b[1;31m7\u001b[0m\u001b[31m., \u001b[0m\u001b[1;31m0\u001b[0m\u001b[31m.\u001b[0m\u001b[1;31m]\u001b[0m\u001b[31m,\u001b[0m\n",
              "\u001b[31m        \u001b[0m\u001b[1;31m[\u001b[0m\u001b[1;31m7\u001b[0m\u001b[31m., \u001b[0m\u001b[1;31m0\u001b[0m\u001b[31m.\u001b[0m\u001b[1;31m]\u001b[0m\u001b[1;31m]\u001b[0m\u001b[31m,\u001b[0m\n",
              "\n",
              "\u001b[31m       \u001b[0m\u001b[1;31m[\u001b[0m\u001b[1;31m[\u001b[0m\u001b[1;31m7\u001b[0m\u001b[31m., \u001b[0m\u001b[1;31m0\u001b[0m\u001b[31m.\u001b[0m\u001b[1;31m]\u001b[0m\u001b[31m,\u001b[0m\n",
              "\u001b[31m        \u001b[0m\u001b[1;31m[\u001b[0m\u001b[1;31m7\u001b[0m\u001b[31m., \u001b[0m\u001b[1;31m0\u001b[0m\u001b[31m.\u001b[0m\u001b[1;31m]\u001b[0m\u001b[31m,\u001b[0m\n",
              "\u001b[31m        \u001b[0m\u001b[1;31m[\u001b[0m\u001b[1;31m7\u001b[0m\u001b[31m., \u001b[0m\u001b[1;31m0\u001b[0m\u001b[31m.\u001b[0m\u001b[1;31m]\u001b[0m\u001b[31m,\u001b[0m\n",
              "\u001b[31m        \u001b[0m\u001b[1;31m[\u001b[0m\u001b[1;31m7\u001b[0m\u001b[31m., \u001b[0m\u001b[1;31m0\u001b[0m\u001b[31m.\u001b[0m\u001b[1;31m]\u001b[0m\u001b[31m,\u001b[0m\n",
              "\u001b[31m        \u001b[0m\u001b[1;31m[\u001b[0m\u001b[1;31m7\u001b[0m\u001b[31m., \u001b[0m\u001b[1;31m0\u001b[0m\u001b[31m.\u001b[0m\u001b[1;31m]\u001b[0m\u001b[1;31m]\u001b[0m\u001b[1;31m]\u001b[0m\u001b[1;31m)\u001b[0m\u001b[31m, \u001b[0m\u001b[31m'P'\u001b[0m\u001b[31m: \u001b[0m\u001b[1;31marray\u001b[0m\u001b[1;31m(\u001b[0m\u001b[1;31m[\u001b[0m\u001b[1;31m[\u001b[0m\u001b[1;31m[\u001b[0m\u001b[1;31m0\u001b[0m\u001b[31m., \u001b[0m\u001b[1;31m1\u001b[0m\u001b[31m., \u001b[0m\u001b[1;31m0\u001b[0m\u001b[31m., \u001b[0m\u001b[31m...\u001b[0m\u001b[31m, \u001b[0m\u001b[1;31m0\u001b[0m\u001b[31m., \u001b[0m\u001b[1;31m0\u001b[0m\u001b[31m., \u001b[0m\u001b[1;31m0\u001b[0m\u001b[31m.\u001b[0m\u001b[1;31m]\u001b[0m\u001b[31m,\u001b[0m\n",
              "\u001b[31m        \u001b[0m\u001b[1;31m[\u001b[0m\u001b[1;31m0\u001b[0m\u001b[31m., \u001b[0m\u001b[1;31m1\u001b[0m\u001b[31m., \u001b[0m\u001b[1;31m0\u001b[0m\u001b[31m., \u001b[0m\u001b[31m...\u001b[0m\u001b[31m, \u001b[0m\u001b[1;31m0\u001b[0m\u001b[31m., \u001b[0m\u001b[1;31m0\u001b[0m\u001b[31m., \u001b[0m\u001b[1;31m0\u001b[0m\u001b[31m.\u001b[0m\u001b[1;31m]\u001b[0m\u001b[31m,\u001b[0m\n",
              "\u001b[31m        \u001b[0m\u001b[1;31m[\u001b[0m\u001b[1;31m0\u001b[0m\u001b[31m., \u001b[0m\u001b[1;31m0\u001b[0m\u001b[31m., \u001b[0m\u001b[1;31m0\u001b[0m\u001b[31m., \u001b[0m\u001b[31m...\u001b[0m\u001b[31m, \u001b[0m\u001b[1;31m0\u001b[0m\u001b[31m., \u001b[0m\u001b[1;31m0\u001b[0m\u001b[31m., \u001b[0m\u001b[1;31m0\u001b[0m\u001b[31m.\u001b[0m\u001b[1;31m]\u001b[0m\u001b[31m,\u001b[0m\n",
              "\u001b[31m        \u001b[0m\u001b[1;31m[\u001b[0m\u001b[1;31m0\u001b[0m\u001b[31m., \u001b[0m\u001b[1;31m0\u001b[0m\u001b[31m., \u001b[0m\u001b[1;31m0\u001b[0m\u001b[31m., \u001b[0m\u001b[31m...\u001b[0m\u001b[31m, \u001b[0m\u001b[1;31m0\u001b[0m\u001b[31m., \u001b[0m\u001b[1;31m0\u001b[0m\u001b[31m., \u001b[0m\u001b[1;31m0\u001b[0m\u001b[31m.\u001b[0m\u001b[1;31m]\u001b[0m\u001b[31m,\u001b[0m\n",
              "\u001b[31m        \u001b[0m\u001b[1;31m[\u001b[0m\u001b[1;31m0\u001b[0m\u001b[31m., \u001b[0m\u001b[1;31m1\u001b[0m\u001b[31m., \u001b[0m\u001b[1;31m0\u001b[0m\u001b[31m., \u001b[0m\u001b[31m...\u001b[0m\u001b[31m, \u001b[0m\u001b[1;31m0\u001b[0m\u001b[31m., \u001b[0m\u001b[1;31m0\u001b[0m\u001b[31m., \u001b[0m\u001b[1;31m0\u001b[0m\u001b[31m.\u001b[0m\u001b[1;31m]\u001b[0m\u001b[1;31m]\u001b[0m\u001b[31m,\u001b[0m\n",
              "\n",
              "\u001b[31m       \u001b[0m\u001b[1;31m[\u001b[0m\u001b[1;31m[\u001b[0m\u001b[1;31m0\u001b[0m\u001b[31m., \u001b[0m\u001b[1;31m0\u001b[0m\u001b[31m., \u001b[0m\u001b[1;31m1\u001b[0m\u001b[31m., \u001b[0m\u001b[31m...\u001b[0m\u001b[31m, \u001b[0m\u001b[1;31m0\u001b[0m\u001b[31m., \u001b[0m\u001b[1;31m0\u001b[0m\u001b[31m., \u001b[0m\u001b[1;31m0\u001b[0m\u001b[31m.\u001b[0m\u001b[1;31m]\u001b[0m\u001b[31m,\u001b[0m\n",
              "\u001b[31m        \u001b[0m\u001b[1;31m[\u001b[0m\u001b[1;31m0\u001b[0m\u001b[31m., \u001b[0m\u001b[1;31m0\u001b[0m\u001b[31m., \u001b[0m\u001b[1;31m1\u001b[0m\u001b[31m., \u001b[0m\u001b[31m...\u001b[0m\u001b[31m, \u001b[0m\u001b[1;31m0\u001b[0m\u001b[31m., \u001b[0m\u001b[1;31m0\u001b[0m\u001b[31m., \u001b[0m\u001b[1;31m0\u001b[0m\u001b[31m.\u001b[0m\u001b[1;31m]\u001b[0m\u001b[31m,\u001b[0m\n",
              "\u001b[31m        \u001b[0m\u001b[1;31m[\u001b[0m\u001b[1;31m0\u001b[0m\u001b[31m., \u001b[0m\u001b[1;31m0\u001b[0m\u001b[31m., \u001b[0m\u001b[1;31m0\u001b[0m\u001b[31m., \u001b[0m\u001b[31m...\u001b[0m\u001b[31m, \u001b[0m\u001b[1;31m0\u001b[0m\u001b[31m., \u001b[0m\u001b[1;31m0\u001b[0m\u001b[31m., \u001b[0m\u001b[1;31m0\u001b[0m\u001b[31m.\u001b[0m\u001b[1;31m]\u001b[0m\u001b[31m,\u001b[0m\n",
              "\u001b[31m        \u001b[0m\u001b[1;31m[\u001b[0m\u001b[1;31m0\u001b[0m\u001b[31m., \u001b[0m\u001b[1;31m0\u001b[0m\u001b[31m., \u001b[0m\u001b[1;31m1\u001b[0m\u001b[31m., \u001b[0m\u001b[31m...\u001b[0m\u001b[31m, \u001b[0m\u001b[1;31m0\u001b[0m\u001b[31m., \u001b[0m\u001b[1;31m0\u001b[0m\u001b[31m., \u001b[0m\u001b[1;31m0\u001b[0m\u001b[31m.\u001b[0m\u001b[1;31m]\u001b[0m\u001b[31m,\u001b[0m\n",
              "\u001b[31m        \u001b[0m\u001b[1;31m[\u001b[0m\u001b[1;31m0\u001b[0m\u001b[31m., \u001b[0m\u001b[1;31m0\u001b[0m\u001b[31m., \u001b[0m\u001b[1;31m1\u001b[0m\u001b[31m., \u001b[0m\u001b[31m...\u001b[0m\u001b[31m, \u001b[0m\u001b[1;31m0\u001b[0m\u001b[31m., \u001b[0m\u001b[1;31m0\u001b[0m\u001b[31m., \u001b[0m\u001b[1;31m0\u001b[0m\u001b[31m.\u001b[0m\u001b[1;31m]\u001b[0m\u001b[1;31m]\u001b[0m\u001b[31m,\u001b[0m\n",
              "\n",
              "\u001b[31m       \u001b[0m\u001b[1;31m[\u001b[0m\u001b[1;31m[\u001b[0m\u001b[1;31m0\u001b[0m\u001b[31m., \u001b[0m\u001b[1;31m0\u001b[0m\u001b[31m., \u001b[0m\u001b[1;31m0\u001b[0m\u001b[31m., \u001b[0m\u001b[31m...\u001b[0m\u001b[31m, \u001b[0m\u001b[1;31m0\u001b[0m\u001b[31m., \u001b[0m\u001b[1;31m0\u001b[0m\u001b[31m., \u001b[0m\u001b[1;31m0\u001b[0m\u001b[31m.\u001b[0m\u001b[1;31m]\u001b[0m\u001b[31m,\u001b[0m\n",
              "\u001b[31m        \u001b[0m\u001b[1;31m[\u001b[0m\u001b[1;31m0\u001b[0m\u001b[31m., \u001b[0m\u001b[1;31m0\u001b[0m\u001b[31m., \u001b[0m\u001b[1;31m0\u001b[0m\u001b[31m., \u001b[0m\u001b[31m...\u001b[0m\u001b[31m, \u001b[0m\u001b[1;31m0\u001b[0m\u001b[31m., \u001b[0m\u001b[1;31m0\u001b[0m\u001b[31m., \u001b[0m\u001b[1;31m0\u001b[0m\u001b[31m.\u001b[0m\u001b[1;31m]\u001b[0m\u001b[31m,\u001b[0m\n",
              "\u001b[31m        \u001b[0m\u001b[1;31m[\u001b[0m\u001b[1;31m0\u001b[0m\u001b[31m., \u001b[0m\u001b[1;31m0\u001b[0m\u001b[31m., \u001b[0m\u001b[1;31m0\u001b[0m\u001b[31m., \u001b[0m\u001b[31m...\u001b[0m\u001b[31m, \u001b[0m\u001b[1;31m0\u001b[0m\u001b[31m., \u001b[0m\u001b[1;31m0\u001b[0m\u001b[31m., \u001b[0m\u001b[1;31m0\u001b[0m\u001b[31m.\u001b[0m\u001b[1;31m]\u001b[0m\u001b[31m,\u001b[0m\n",
              "\u001b[31m        \u001b[0m\u001b[1;31m[\u001b[0m\u001b[1;31m0\u001b[0m\u001b[31m., \u001b[0m\u001b[1;31m0\u001b[0m\u001b[31m., \u001b[0m\u001b[1;31m0\u001b[0m\u001b[31m., \u001b[0m\u001b[31m...\u001b[0m\u001b[31m, \u001b[0m\u001b[1;31m0\u001b[0m\u001b[31m., \u001b[0m\u001b[1;31m0\u001b[0m\u001b[31m., \u001b[0m\u001b[1;31m0\u001b[0m\u001b[31m.\u001b[0m\u001b[1;31m]\u001b[0m\u001b[31m,\u001b[0m\n",
              "\u001b[31m        \u001b[0m\u001b[1;31m[\u001b[0m\u001b[1;31m0\u001b[0m\u001b[31m., \u001b[0m\u001b[1;31m0\u001b[0m\u001b[31m., \u001b[0m\u001b[1;31m0\u001b[0m\u001b[31m., \u001b[0m\u001b[31m...\u001b[0m\u001b[31m, \u001b[0m\u001b[1;31m0\u001b[0m\u001b[31m., \u001b[0m\u001b[1;31m0\u001b[0m\u001b[31m., \u001b[0m\u001b[1;31m0\u001b[0m\u001b[31m.\u001b[0m\u001b[1;31m]\u001b[0m\u001b[1;31m]\u001b[0m\u001b[31m,\u001b[0m\n",
              "\n",
              "\u001b[31m       \u001b[0m\u001b[31m...\u001b[0m\u001b[31m,\u001b[0m\n",
              "\n",
              "\u001b[31m       \u001b[0m\u001b[1;31m[\u001b[0m\u001b[1;31m[\u001b[0m\u001b[1;31m0\u001b[0m\u001b[31m., \u001b[0m\u001b[1;31m0\u001b[0m\u001b[31m., \u001b[0m\u001b[1;31m0\u001b[0m\u001b[31m., \u001b[0m\u001b[31m...\u001b[0m\u001b[31m, \u001b[0m\u001b[1;31m0\u001b[0m\u001b[31m., \u001b[0m\u001b[1;31m0\u001b[0m\u001b[31m., \u001b[0m\u001b[1;31m0\u001b[0m\u001b[31m.\u001b[0m\u001b[1;31m]\u001b[0m\u001b[31m,\u001b[0m\n",
              "\u001b[31m        \u001b[0m\u001b[1;31m[\u001b[0m\u001b[1;31m0\u001b[0m\u001b[31m., \u001b[0m\u001b[1;31m0\u001b[0m\u001b[31m., \u001b[0m\u001b[1;31m0\u001b[0m\u001b[31m., \u001b[0m\u001b[31m...\u001b[0m\u001b[31m, \u001b[0m\u001b[1;31m0\u001b[0m\u001b[31m., \u001b[0m\u001b[1;31m1\u001b[0m\u001b[31m., \u001b[0m\u001b[1;31m0\u001b[0m\u001b[31m.\u001b[0m\u001b[1;31m]\u001b[0m\u001b[31m,\u001b[0m\n",
              "\u001b[31m        \u001b[0m\u001b[1;31m[\u001b[0m\u001b[1;31m0\u001b[0m\u001b[31m., \u001b[0m\u001b[1;31m0\u001b[0m\u001b[31m., \u001b[0m\u001b[1;31m0\u001b[0m\u001b[31m., \u001b[0m\u001b[31m...\u001b[0m\u001b[31m, \u001b[0m\u001b[1;31m0\u001b[0m\u001b[31m., \u001b[0m\u001b[1;31m1\u001b[0m\u001b[31m., \u001b[0m\u001b[1;31m0\u001b[0m\u001b[31m.\u001b[0m\u001b[1;31m]\u001b[0m\u001b[31m,\u001b[0m\n",
              "\u001b[31m        \u001b[0m\u001b[1;31m[\u001b[0m\u001b[1;31m0\u001b[0m\u001b[31m., \u001b[0m\u001b[1;31m0\u001b[0m\u001b[31m., \u001b[0m\u001b[1;31m0\u001b[0m\u001b[31m., \u001b[0m\u001b[31m...\u001b[0m\u001b[31m, \u001b[0m\u001b[1;31m0\u001b[0m\u001b[31m., \u001b[0m\u001b[1;31m1\u001b[0m\u001b[31m., \u001b[0m\u001b[1;31m0\u001b[0m\u001b[31m.\u001b[0m\u001b[1;31m]\u001b[0m\u001b[31m,\u001b[0m\n",
              "\u001b[31m        \u001b[0m\u001b[1;31m[\u001b[0m\u001b[1;31m0\u001b[0m\u001b[31m., \u001b[0m\u001b[1;31m0\u001b[0m\u001b[31m., \u001b[0m\u001b[1;31m0\u001b[0m\u001b[31m., \u001b[0m\u001b[31m...\u001b[0m\u001b[31m, \u001b[0m\u001b[1;31m0\u001b[0m\u001b[31m., \u001b[0m\u001b[1;31m1\u001b[0m\u001b[31m., \u001b[0m\u001b[1;31m0\u001b[0m\u001b[31m.\u001b[0m\u001b[1;31m]\u001b[0m\u001b[1;31m]\u001b[0m\u001b[31m,\u001b[0m\n",
              "\n",
              "\u001b[31m       \u001b[0m\u001b[1;31m[\u001b[0m\u001b[1;31m[\u001b[0m\u001b[1;31m0\u001b[0m\u001b[31m., \u001b[0m\u001b[1;31m0\u001b[0m\u001b[31m., \u001b[0m\u001b[1;31m0\u001b[0m\u001b[31m., \u001b[0m\u001b[31m...\u001b[0m\u001b[31m, \u001b[0m\u001b[1;31m0\u001b[0m\u001b[31m., \u001b[0m\u001b[1;31m0\u001b[0m\u001b[31m., \u001b[0m\u001b[1;31m0\u001b[0m\u001b[31m.\u001b[0m\u001b[1;31m]\u001b[0m\u001b[31m,\u001b[0m\n",
              "\u001b[31m        \u001b[0m\u001b[1;31m[\u001b[0m\u001b[1;31m0\u001b[0m\u001b[31m., \u001b[0m\u001b[1;31m0\u001b[0m\u001b[31m., \u001b[0m\u001b[1;31m0\u001b[0m\u001b[31m., \u001b[0m\u001b[31m...\u001b[0m\u001b[31m, \u001b[0m\u001b[1;31m0\u001b[0m\u001b[31m., \u001b[0m\u001b[1;31m0\u001b[0m\u001b[31m., \u001b[0m\u001b[1;31m1\u001b[0m\u001b[31m.\u001b[0m\u001b[1;31m]\u001b[0m\u001b[31m,\u001b[0m\n",
              "\u001b[31m        \u001b[0m\u001b[1;31m[\u001b[0m\u001b[1;31m0\u001b[0m\u001b[31m., \u001b[0m\u001b[1;31m0\u001b[0m\u001b[31m., \u001b[0m\u001b[1;31m0\u001b[0m\u001b[31m., \u001b[0m\u001b[31m...\u001b[0m\u001b[31m, \u001b[0m\u001b[1;31m0\u001b[0m\u001b[31m., \u001b[0m\u001b[1;31m0\u001b[0m\u001b[31m., \u001b[0m\u001b[1;31m1\u001b[0m\u001b[31m.\u001b[0m\u001b[1;31m]\u001b[0m\u001b[31m,\u001b[0m\n",
              "\u001b[31m        \u001b[0m\u001b[1;31m[\u001b[0m\u001b[1;31m0\u001b[0m\u001b[31m., \u001b[0m\u001b[1;31m0\u001b[0m\u001b[31m., \u001b[0m\u001b[1;31m0\u001b[0m\u001b[31m., \u001b[0m\u001b[31m...\u001b[0m\u001b[31m, \u001b[0m\u001b[1;31m0\u001b[0m\u001b[31m., \u001b[0m\u001b[1;31m0\u001b[0m\u001b[31m., \u001b[0m\u001b[1;31m1\u001b[0m\u001b[31m.\u001b[0m\u001b[1;31m]\u001b[0m\u001b[31m,\u001b[0m\n",
              "\u001b[31m        \u001b[0m\u001b[1;31m[\u001b[0m\u001b[1;31m0\u001b[0m\u001b[31m., \u001b[0m\u001b[1;31m0\u001b[0m\u001b[31m., \u001b[0m\u001b[1;31m0\u001b[0m\u001b[31m., \u001b[0m\u001b[31m...\u001b[0m\u001b[31m, \u001b[0m\u001b[1;31m0\u001b[0m\u001b[31m., \u001b[0m\u001b[1;31m0\u001b[0m\u001b[31m., \u001b[0m\u001b[1;31m1\u001b[0m\u001b[31m.\u001b[0m\u001b[1;31m]\u001b[0m\u001b[1;31m]\u001b[0m\u001b[31m,\u001b[0m\n",
              "\n",
              "\u001b[31m       \u001b[0m\u001b[1;31m[\u001b[0m\u001b[1;31m[\u001b[0m\u001b[1;31m0\u001b[0m\u001b[31m., \u001b[0m\u001b[1;31m0\u001b[0m\u001b[31m., \u001b[0m\u001b[1;31m0\u001b[0m\u001b[31m., \u001b[0m\u001b[31m...\u001b[0m\u001b[31m, \u001b[0m\u001b[1;31m0\u001b[0m\u001b[31m., \u001b[0m\u001b[1;31m0\u001b[0m\u001b[31m., \u001b[0m\u001b[1;31m1\u001b[0m\u001b[31m.\u001b[0m\u001b[1;31m]\u001b[0m\u001b[31m,\u001b[0m\n",
              "\u001b[31m        \u001b[0m\u001b[1;31m[\u001b[0m\u001b[1;31m0\u001b[0m\u001b[31m., \u001b[0m\u001b[1;31m0\u001b[0m\u001b[31m., \u001b[0m\u001b[1;31m0\u001b[0m\u001b[31m., \u001b[0m\u001b[31m...\u001b[0m\u001b[31m, \u001b[0m\u001b[1;31m0\u001b[0m\u001b[31m., \u001b[0m\u001b[1;31m0\u001b[0m\u001b[31m., \u001b[0m\u001b[1;31m1\u001b[0m\u001b[31m.\u001b[0m\u001b[1;31m]\u001b[0m\u001b[31m,\u001b[0m\n",
              "\u001b[31m        \u001b[0m\u001b[1;31m[\u001b[0m\u001b[1;31m0\u001b[0m\u001b[31m., \u001b[0m\u001b[1;31m0\u001b[0m\u001b[31m., \u001b[0m\u001b[1;31m0\u001b[0m\u001b[31m., \u001b[0m\u001b[31m...\u001b[0m\u001b[31m, \u001b[0m\u001b[1;31m0\u001b[0m\u001b[31m., \u001b[0m\u001b[1;31m0\u001b[0m\u001b[31m., \u001b[0m\u001b[1;31m1\u001b[0m\u001b[31m.\u001b[0m\u001b[1;31m]\u001b[0m\u001b[31m,\u001b[0m\n",
              "\u001b[31m        \u001b[0m\u001b[1;31m[\u001b[0m\u001b[1;31m0\u001b[0m\u001b[31m., \u001b[0m\u001b[1;31m0\u001b[0m\u001b[31m., \u001b[0m\u001b[1;31m0\u001b[0m\u001b[31m., \u001b[0m\u001b[31m...\u001b[0m\u001b[31m, \u001b[0m\u001b[1;31m0\u001b[0m\u001b[31m., \u001b[0m\u001b[1;31m0\u001b[0m\u001b[31m., \u001b[0m\u001b[1;31m1\u001b[0m\u001b[31m.\u001b[0m\u001b[1;31m]\u001b[0m\u001b[31m,\u001b[0m\n",
              "\u001b[31m        \u001b[0m\u001b[1;31m[\u001b[0m\u001b[1;31m0\u001b[0m\u001b[31m., \u001b[0m\u001b[1;31m0\u001b[0m\u001b[31m., \u001b[0m\u001b[1;31m0\u001b[0m\u001b[31m., \u001b[0m\u001b[31m...\u001b[0m\u001b[31m, \u001b[0m\u001b[1;31m0\u001b[0m\u001b[31m., \u001b[0m\u001b[1;31m0\u001b[0m\u001b[31m., \u001b[0m\u001b[1;31m1\u001b[0m\u001b[31m.\u001b[0m\u001b[1;31m]\u001b[0m\u001b[1;31m]\u001b[0m\u001b[1;31m]\u001b[0m\u001b[31m, \u001b[0m\u001b[31mdtype\u001b[0m\u001b[31m=\u001b[0m\u001b[31mfloat32\u001b[0m\u001b[1;31m)\u001b[0m\u001b[1;31m}\u001b[0m\n"
            ]
          },
          "metadata": {},
          "output_type": "display_data"
        },
        {
          "data": {
            "text/html": [
              "<pre style=\"white-space:pre;overflow-x:auto;line-height:normal;font-family:Menlo,'DejaVu Sans Mono',consolas,'Courier New',monospace\">To agent:\n",
              "</pre>\n"
            ],
            "text/plain": [
              "To agent:\n"
            ]
          },
          "metadata": {},
          "output_type": "display_data"
        },
        {
          "data": {
            "text/html": [
              "<pre style=\"white-space:pre;overflow-x:auto;line-height:normal;font-family:Menlo,'DejaVu Sans Mono',consolas,'Courier New',monospace\">Now you are going to play in a finite-horizon tabular Markov decision process, with length of horizon <span style=\"color: #008080; text-decoration-color: #008080; font-weight: bold\">10</span> <span style=\"font-weight: bold\">(</span>with time\n",
              "indices starting from <span style=\"color: #808000; text-decoration-color: #808000\">h</span>=<span style=\"color: #008080; text-decoration-color: #008080; font-weight: bold\">0</span> to <span style=\"color: #008080; text-decoration-color: #008080; font-weight: bold\">9</span><span style=\"font-weight: bold\">)</span>, number of states |S|=<span style=\"color: #008080; text-decoration-color: #008080; font-weight: bold\">120</span>, number of actions |A|=<span style=\"color: #008080; text-decoration-color: #008080; font-weight: bold\">5</span>. The transition matrix P is:\n",
              "stored in working memory. Full matrix is too large to be printed in context history.\n",
              "and reward matrix R is\n",
              "stored in working memory. Full matrix is too large to be printed in context history.\n",
              "\n",
              "</pre>\n"
            ],
            "text/plain": [
              "Now you are going to play in a finite-horizon tabular Markov decision process, with length of horizon \u001b[1;36m10\u001b[0m \u001b[1m(\u001b[0mwith time\n",
              "indices starting from \u001b[33mh\u001b[0m=\u001b[1;36m0\u001b[0m to \u001b[1;36m9\u001b[0m\u001b[1m)\u001b[0m, number of states |S|=\u001b[1;36m120\u001b[0m, number of actions |A|=\u001b[1;36m5\u001b[0m. The transition matrix P is:\n",
              "stored in working memory. Full matrix is too large to be printed in context history.\n",
              "and reward matrix R is\n",
              "stored in working memory. Full matrix is too large to be printed in context history.\n",
              "\n"
            ]
          },
          "metadata": {},
          "output_type": "display_data"
        },
        {
          "data": {
            "text/html": [
              "<pre style=\"white-space:pre;overflow-x:auto;line-height:normal;font-family:Menlo,'DejaVu Sans Mono',consolas,'Courier New',monospace\">Question: Now compute the optimal policy, that is, the optimal action at each step and each state.\n",
              "</pre>\n"
            ],
            "text/plain": [
              "Question: Now compute the optimal policy, that is, the optimal action at each step and each state.\n"
            ]
          },
          "metadata": {},
          "output_type": "display_data"
        },
        {
          "data": {
            "text/html": [
              "<pre style=\"white-space:pre;overflow-x:auto;line-height:normal;font-family:Menlo,'DejaVu Sans Mono',consolas,'Courier New',monospace\">Thought: To compute the optimal policy, we will use value iteration, iterating from the last time step <span style=\"color: #008080; text-decoration-color: #008080; font-weight: bold\">9</span> back to \n",
              "the first time step <span style=\"color: #008080; text-decoration-color: #008080; font-weight: bold\">0</span>. At the last time step <span style=\"color: #008080; text-decoration-color: #008080; font-weight: bold\">9</span>, the Q values simply equal the immediate reward of each state-action\n",
              "pair. We will start by updating the Q values for time step <span style=\"color: #008080; text-decoration-color: #008080; font-weight: bold\">9</span> with the immediate rewards and then compute the V \n",
              "values by taking the maximum of the Q values over actions.\n",
              "</pre>\n"
            ],
            "text/plain": [
              "Thought: To compute the optimal policy, we will use value iteration, iterating from the last time step \u001b[1;36m9\u001b[0m back to \n",
              "the first time step \u001b[1;36m0\u001b[0m. At the last time step \u001b[1;36m9\u001b[0m, the Q values simply equal the immediate reward of each state-action\n",
              "pair. We will start by updating the Q values for time step \u001b[1;36m9\u001b[0m with the immediate rewards and then compute the V \n",
              "values by taking the maximum of the Q values over actions.\n"
            ]
          },
          "metadata": {},
          "output_type": "display_data"
        },
        {
          "data": {
            "text/html": [
              "<pre style=\"white-space:pre;overflow-x:auto;line-height:normal;font-family:Menlo,'DejaVu Sans Mono',consolas,'Courier New',monospace\">Operation: call function UpdateQbyR with inputs <span style=\"color: #808000; text-decoration-color: #808000\">time_step</span>=<span style=\"color: #008080; text-decoration-color: #008080; font-weight: bold\">9</span>\n",
              "</pre>\n"
            ],
            "text/plain": [
              "Operation: call function UpdateQbyR with inputs \u001b[33mtime_step\u001b[0m=\u001b[1;36m9\u001b[0m\n"
            ]
          },
          "metadata": {},
          "output_type": "display_data"
        },
        {
          "data": {
            "text/html": [
              "<pre style=\"white-space:pre;overflow-x:auto;line-height:normal;font-family:Menlo,'DejaVu Sans Mono',consolas,'Courier New',monospace\">Result: Q values for time step <span style=\"color: #008080; text-decoration-color: #008080; font-weight: bold\">9</span> are updated with the immediate rewards and stored in the working memory.\n",
              "</pre>\n"
            ],
            "text/plain": [
              "Result: Q values for time step \u001b[1;36m9\u001b[0m are updated with the immediate rewards and stored in the working memory.\n"
            ]
          },
          "metadata": {},
          "output_type": "display_data"
        },
        {
          "data": {
            "text/html": [
              "<pre style=\"white-space:pre;overflow-x:auto;line-height:normal;font-family:Menlo,'DejaVu Sans Mono',consolas,'Courier New',monospace\">Thought: Now we need to compute the V values for time step <span style=\"color: #008080; text-decoration-color: #008080; font-weight: bold\">9</span> by taking the maximum of the Q values over actions.\n",
              "</pre>\n"
            ],
            "text/plain": [
              "Thought: Now we need to compute the V values for time step \u001b[1;36m9\u001b[0m by taking the maximum of the Q values over actions.\n"
            ]
          },
          "metadata": {},
          "output_type": "display_data"
        },
        {
          "data": {
            "text/html": [
              "<pre style=\"white-space:pre;overflow-x:auto;line-height:normal;font-family:Menlo,'DejaVu Sans Mono',consolas,'Courier New',monospace\">Operation: call function UpdateV with inputs <span style=\"color: #808000; text-decoration-color: #808000\">time_step</span>=<span style=\"color: #008080; text-decoration-color: #008080; font-weight: bold\">9</span>\n",
              "</pre>\n"
            ],
            "text/plain": [
              "Operation: call function UpdateV with inputs \u001b[33mtime_step\u001b[0m=\u001b[1;36m9\u001b[0m\n"
            ]
          },
          "metadata": {},
          "output_type": "display_data"
        },
        {
          "data": {
            "text/html": [
              "<pre style=\"white-space:pre;overflow-x:auto;line-height:normal;font-family:Menlo,'DejaVu Sans Mono',consolas,'Courier New',monospace\">Result: V values for time step <span style=\"color: #008080; text-decoration-color: #008080; font-weight: bold\">9</span> are updated based on the computed Q values and stored in the working memory.\n",
              "</pre>\n"
            ],
            "text/plain": [
              "Result: V values for time step \u001b[1;36m9\u001b[0m are updated based on the computed Q values and stored in the working memory.\n"
            ]
          },
          "metadata": {},
          "output_type": "display_data"
        },
        {
          "data": {
            "text/html": [
              "<pre style=\"white-space:pre;overflow-x:auto;line-height:normal;font-family:Menlo,'DejaVu Sans Mono',consolas,'Courier New',monospace\">Thought: Now we need to compute the Q values for time step <span style=\"color: #008080; text-decoration-color: #008080; font-weight: bold\">8</span>. Using the idea of dynamic programming, we compute the\n",
              "Q values in two steps. First, add the immediate rewards by calling function UpdateQbyR. Second, add the one-step \n",
              "lookahead by calling function UpdateQbyPV. Then the V values can be computed by calling UpdateV, which takes the \n",
              "maximum of the Q values over actions.\n",
              "</pre>\n"
            ],
            "text/plain": [
              "Thought: Now we need to compute the Q values for time step \u001b[1;36m8\u001b[0m. Using the idea of dynamic programming, we compute the\n",
              "Q values in two steps. First, add the immediate rewards by calling function UpdateQbyR. Second, add the one-step \n",
              "lookahead by calling function UpdateQbyPV. Then the V values can be computed by calling UpdateV, which takes the \n",
              "maximum of the Q values over actions.\n"
            ]
          },
          "metadata": {},
          "output_type": "display_data"
        },
        {
          "data": {
            "text/html": [
              "<pre style=\"white-space:pre;overflow-x:auto;line-height:normal;font-family:Menlo,'DejaVu Sans Mono',consolas,'Courier New',monospace\">Operation: call function UpdateQbyR with inputs <span style=\"color: #808000; text-decoration-color: #808000\">time_step</span>=<span style=\"color: #008080; text-decoration-color: #008080; font-weight: bold\">8</span>\n",
              "</pre>\n"
            ],
            "text/plain": [
              "Operation: call function UpdateQbyR with inputs \u001b[33mtime_step\u001b[0m=\u001b[1;36m8\u001b[0m\n"
            ]
          },
          "metadata": {},
          "output_type": "display_data"
        },
        {
          "data": {
            "text/html": [
              "<pre style=\"white-space:pre;overflow-x:auto;line-height:normal;font-family:Menlo,'DejaVu Sans Mono',consolas,'Courier New',monospace\">Result: Q values for time step <span style=\"color: #008080; text-decoration-color: #008080; font-weight: bold\">8</span> are updated with the immediate rewards and stored in the working memory.\n",
              "</pre>\n"
            ],
            "text/plain": [
              "Result: Q values for time step \u001b[1;36m8\u001b[0m are updated with the immediate rewards and stored in the working memory.\n"
            ]
          },
          "metadata": {},
          "output_type": "display_data"
        },
        {
          "data": {
            "text/html": [
              "<pre style=\"white-space:pre;overflow-x:auto;line-height:normal;font-family:Menlo,'DejaVu Sans Mono',consolas,'Courier New',monospace\">Operation: call function UpdateQbyPV with inputs <span style=\"color: #808000; text-decoration-color: #808000\">time_step</span>=<span style=\"color: #008080; text-decoration-color: #008080; font-weight: bold\">8</span>\n",
              "</pre>\n"
            ],
            "text/plain": [
              "Operation: call function UpdateQbyPV with inputs \u001b[33mtime_step\u001b[0m=\u001b[1;36m8\u001b[0m\n"
            ]
          },
          "metadata": {},
          "output_type": "display_data"
        },
        {
          "data": {
            "text/html": [
              "<pre style=\"white-space:pre;overflow-x:auto;line-height:normal;font-family:Menlo,'DejaVu Sans Mono',consolas,'Courier New',monospace\">Result: Q values for time step <span style=\"color: #008080; text-decoration-color: #008080; font-weight: bold\">8</span> are updated with the one-step look ahead and stored in the working memory.\n",
              "</pre>\n"
            ],
            "text/plain": [
              "Result: Q values for time step \u001b[1;36m8\u001b[0m are updated with the one-step look ahead and stored in the working memory.\n"
            ]
          },
          "metadata": {},
          "output_type": "display_data"
        },
        {
          "data": {
            "text/html": [
              "<pre style=\"white-space:pre;overflow-x:auto;line-height:normal;font-family:Menlo,'DejaVu Sans Mono',consolas,'Courier New',monospace\">Operation: call function UpdateV with inputs <span style=\"color: #808000; text-decoration-color: #808000\">time_step</span>=<span style=\"color: #008080; text-decoration-color: #008080; font-weight: bold\">8</span>\n",
              "</pre>\n"
            ],
            "text/plain": [
              "Operation: call function UpdateV with inputs \u001b[33mtime_step\u001b[0m=\u001b[1;36m8\u001b[0m\n"
            ]
          },
          "metadata": {},
          "output_type": "display_data"
        },
        {
          "data": {
            "text/html": [
              "<pre style=\"white-space:pre;overflow-x:auto;line-height:normal;font-family:Menlo,'DejaVu Sans Mono',consolas,'Courier New',monospace\">Result: V values for time step <span style=\"color: #008080; text-decoration-color: #008080; font-weight: bold\">8</span> are updated based on the computed Q values and stored in the working memory.\n",
              "</pre>\n"
            ],
            "text/plain": [
              "Result: V values for time step \u001b[1;36m8\u001b[0m are updated based on the computed Q values and stored in the working memory.\n"
            ]
          },
          "metadata": {},
          "output_type": "display_data"
        },
        {
          "data": {
            "text/html": [
              "<pre style=\"white-space:pre;overflow-x:auto;line-height:normal;font-family:Menlo,'DejaVu Sans Mono',consolas,'Courier New',monospace\">Thought: Now we need to compute the Q values for time step <span style=\"color: #008080; text-decoration-color: #008080; font-weight: bold\">7</span>. Using the idea of dynamic programming, we compute the\n",
              "Q values in two steps. First, add the immediate rewards by calling function UpdateQbyR. Second, add the one-step \n",
              "lookahead by calling function UpdateQbyPV. Then the V values can be computed by calling UpdateV, which takes the \n",
              "maximum of the Q values over actions.\n",
              "</pre>\n"
            ],
            "text/plain": [
              "Thought: Now we need to compute the Q values for time step \u001b[1;36m7\u001b[0m. Using the idea of dynamic programming, we compute the\n",
              "Q values in two steps. First, add the immediate rewards by calling function UpdateQbyR. Second, add the one-step \n",
              "lookahead by calling function UpdateQbyPV. Then the V values can be computed by calling UpdateV, which takes the \n",
              "maximum of the Q values over actions.\n"
            ]
          },
          "metadata": {},
          "output_type": "display_data"
        },
        {
          "data": {
            "text/html": [
              "<pre style=\"white-space:pre;overflow-x:auto;line-height:normal;font-family:Menlo,'DejaVu Sans Mono',consolas,'Courier New',monospace\">Operation: call function UpdateQbyR with inputs <span style=\"color: #808000; text-decoration-color: #808000\">time_step</span>=<span style=\"color: #008080; text-decoration-color: #008080; font-weight: bold\">7</span>\n",
              "</pre>\n"
            ],
            "text/plain": [
              "Operation: call function UpdateQbyR with inputs \u001b[33mtime_step\u001b[0m=\u001b[1;36m7\u001b[0m\n"
            ]
          },
          "metadata": {},
          "output_type": "display_data"
        },
        {
          "data": {
            "text/html": [
              "<pre style=\"white-space:pre;overflow-x:auto;line-height:normal;font-family:Menlo,'DejaVu Sans Mono',consolas,'Courier New',monospace\">Result: Q values for time step <span style=\"color: #008080; text-decoration-color: #008080; font-weight: bold\">7</span> are updated with the immediate rewards and stored in the working memory.\n",
              "</pre>\n"
            ],
            "text/plain": [
              "Result: Q values for time step \u001b[1;36m7\u001b[0m are updated with the immediate rewards and stored in the working memory.\n"
            ]
          },
          "metadata": {},
          "output_type": "display_data"
        },
        {
          "data": {
            "text/html": [
              "<pre style=\"white-space:pre;overflow-x:auto;line-height:normal;font-family:Menlo,'DejaVu Sans Mono',consolas,'Courier New',monospace\">Operation: call function UpdateQbyPV with inputs <span style=\"color: #808000; text-decoration-color: #808000\">time_step</span>=<span style=\"color: #008080; text-decoration-color: #008080; font-weight: bold\">7</span>\n",
              "</pre>\n"
            ],
            "text/plain": [
              "Operation: call function UpdateQbyPV with inputs \u001b[33mtime_step\u001b[0m=\u001b[1;36m7\u001b[0m\n"
            ]
          },
          "metadata": {},
          "output_type": "display_data"
        },
        {
          "data": {
            "text/html": [
              "<pre style=\"white-space:pre;overflow-x:auto;line-height:normal;font-family:Menlo,'DejaVu Sans Mono',consolas,'Courier New',monospace\">Result: Q values for time step <span style=\"color: #008080; text-decoration-color: #008080; font-weight: bold\">7</span> are updated with the one-step look ahead and stored in the working memory.\n",
              "</pre>\n"
            ],
            "text/plain": [
              "Result: Q values for time step \u001b[1;36m7\u001b[0m are updated with the one-step look ahead and stored in the working memory.\n"
            ]
          },
          "metadata": {},
          "output_type": "display_data"
        },
        {
          "data": {
            "text/html": [
              "<pre style=\"white-space:pre;overflow-x:auto;line-height:normal;font-family:Menlo,'DejaVu Sans Mono',consolas,'Courier New',monospace\">Operation: call function UpdateV with inputs <span style=\"color: #808000; text-decoration-color: #808000\">time_step</span>=<span style=\"color: #008080; text-decoration-color: #008080; font-weight: bold\">7</span>\n",
              "</pre>\n"
            ],
            "text/plain": [
              "Operation: call function UpdateV with inputs \u001b[33mtime_step\u001b[0m=\u001b[1;36m7\u001b[0m\n"
            ]
          },
          "metadata": {},
          "output_type": "display_data"
        },
        {
          "data": {
            "text/html": [
              "<pre style=\"white-space:pre;overflow-x:auto;line-height:normal;font-family:Menlo,'DejaVu Sans Mono',consolas,'Courier New',monospace\">Result: V values for time step <span style=\"color: #008080; text-decoration-color: #008080; font-weight: bold\">7</span> are updated based on the computed Q values and stored in the working memory.\n",
              "</pre>\n"
            ],
            "text/plain": [
              "Result: V values for time step \u001b[1;36m7\u001b[0m are updated based on the computed Q values and stored in the working memory.\n"
            ]
          },
          "metadata": {},
          "output_type": "display_data"
        },
        {
          "data": {
            "text/html": [
              "<pre style=\"white-space:pre;overflow-x:auto;line-height:normal;font-family:Menlo,'DejaVu Sans Mono',consolas,'Courier New',monospace\">Thought: Now we need to compute the Q values for time step <span style=\"color: #008080; text-decoration-color: #008080; font-weight: bold\">6</span>. Using the idea of dynamic programming, we compute the\n",
              "Q values in two steps. First, add the immediate rewards by calling function UpdateQbyR. Second, add the one-step \n",
              "lookahead by calling function UpdateQbyPV. Then the V values can be computed by calling UpdateV, which takes the \n",
              "maximum of the Q values over actions.\n",
              "</pre>\n"
            ],
            "text/plain": [
              "Thought: Now we need to compute the Q values for time step \u001b[1;36m6\u001b[0m. Using the idea of dynamic programming, we compute the\n",
              "Q values in two steps. First, add the immediate rewards by calling function UpdateQbyR. Second, add the one-step \n",
              "lookahead by calling function UpdateQbyPV. Then the V values can be computed by calling UpdateV, which takes the \n",
              "maximum of the Q values over actions.\n"
            ]
          },
          "metadata": {},
          "output_type": "display_data"
        },
        {
          "data": {
            "text/html": [
              "<pre style=\"white-space:pre;overflow-x:auto;line-height:normal;font-family:Menlo,'DejaVu Sans Mono',consolas,'Courier New',monospace\">Operation: call function UpdateQbyR with inputs <span style=\"color: #808000; text-decoration-color: #808000\">time_step</span>=<span style=\"color: #008080; text-decoration-color: #008080; font-weight: bold\">6</span>\n",
              "</pre>\n"
            ],
            "text/plain": [
              "Operation: call function UpdateQbyR with inputs \u001b[33mtime_step\u001b[0m=\u001b[1;36m6\u001b[0m\n"
            ]
          },
          "metadata": {},
          "output_type": "display_data"
        },
        {
          "data": {
            "text/html": [
              "<pre style=\"white-space:pre;overflow-x:auto;line-height:normal;font-family:Menlo,'DejaVu Sans Mono',consolas,'Courier New',monospace\">Result: Q values for time step <span style=\"color: #008080; text-decoration-color: #008080; font-weight: bold\">6</span> are updated with the immediate rewards and stored in the working memory.\n",
              "</pre>\n"
            ],
            "text/plain": [
              "Result: Q values for time step \u001b[1;36m6\u001b[0m are updated with the immediate rewards and stored in the working memory.\n"
            ]
          },
          "metadata": {},
          "output_type": "display_data"
        },
        {
          "data": {
            "text/html": [
              "<pre style=\"white-space:pre;overflow-x:auto;line-height:normal;font-family:Menlo,'DejaVu Sans Mono',consolas,'Courier New',monospace\">Operation: call function UpdateQbyPV with inputs <span style=\"color: #808000; text-decoration-color: #808000\">time_step</span>=<span style=\"color: #008080; text-decoration-color: #008080; font-weight: bold\">6</span>\n",
              "</pre>\n"
            ],
            "text/plain": [
              "Operation: call function UpdateQbyPV with inputs \u001b[33mtime_step\u001b[0m=\u001b[1;36m6\u001b[0m\n"
            ]
          },
          "metadata": {},
          "output_type": "display_data"
        },
        {
          "data": {
            "text/html": [
              "<pre style=\"white-space:pre;overflow-x:auto;line-height:normal;font-family:Menlo,'DejaVu Sans Mono',consolas,'Courier New',monospace\">Result: Q values for time step <span style=\"color: #008080; text-decoration-color: #008080; font-weight: bold\">6</span> are updated with the one-step look ahead and stored in the working memory.\n",
              "</pre>\n"
            ],
            "text/plain": [
              "Result: Q values for time step \u001b[1;36m6\u001b[0m are updated with the one-step look ahead and stored in the working memory.\n"
            ]
          },
          "metadata": {},
          "output_type": "display_data"
        },
        {
          "data": {
            "text/html": [
              "<pre style=\"white-space:pre;overflow-x:auto;line-height:normal;font-family:Menlo,'DejaVu Sans Mono',consolas,'Courier New',monospace\">Operation: call function UpdateV with inputs <span style=\"color: #808000; text-decoration-color: #808000\">time_step</span>=<span style=\"color: #008080; text-decoration-color: #008080; font-weight: bold\">6</span>\n",
              "</pre>\n"
            ],
            "text/plain": [
              "Operation: call function UpdateV with inputs \u001b[33mtime_step\u001b[0m=\u001b[1;36m6\u001b[0m\n"
            ]
          },
          "metadata": {},
          "output_type": "display_data"
        },
        {
          "data": {
            "text/html": [
              "<pre style=\"white-space:pre;overflow-x:auto;line-height:normal;font-family:Menlo,'DejaVu Sans Mono',consolas,'Courier New',monospace\">Result: V values for time step <span style=\"color: #008080; text-decoration-color: #008080; font-weight: bold\">6</span> are updated based on the computed Q values and stored in the working memory.\n",
              "</pre>\n"
            ],
            "text/plain": [
              "Result: V values for time step \u001b[1;36m6\u001b[0m are updated based on the computed Q values and stored in the working memory.\n"
            ]
          },
          "metadata": {},
          "output_type": "display_data"
        },
        {
          "data": {
            "text/html": [
              "<pre style=\"white-space:pre;overflow-x:auto;line-height:normal;font-family:Menlo,'DejaVu Sans Mono',consolas,'Courier New',monospace\">Thought: Now we need to compute the Q values for time step <span style=\"color: #008080; text-decoration-color: #008080; font-weight: bold\">5</span>. Using the idea of dynamic programming, we compute the\n",
              "Q values in two steps. First, add the immediate rewards by calling function UpdateQbyR. Second, add the one-step \n",
              "lookahead by calling function UpdateQbyPV. Then the V values can be computed by calling UpdateV, which takes the \n",
              "maximum of the Q values over actions.\n",
              "</pre>\n"
            ],
            "text/plain": [
              "Thought: Now we need to compute the Q values for time step \u001b[1;36m5\u001b[0m. Using the idea of dynamic programming, we compute the\n",
              "Q values in two steps. First, add the immediate rewards by calling function UpdateQbyR. Second, add the one-step \n",
              "lookahead by calling function UpdateQbyPV. Then the V values can be computed by calling UpdateV, which takes the \n",
              "maximum of the Q values over actions.\n"
            ]
          },
          "metadata": {},
          "output_type": "display_data"
        },
        {
          "data": {
            "text/html": [
              "<pre style=\"white-space:pre;overflow-x:auto;line-height:normal;font-family:Menlo,'DejaVu Sans Mono',consolas,'Courier New',monospace\">Operation: call function UpdateQbyR with inputs <span style=\"color: #808000; text-decoration-color: #808000\">time_step</span>=<span style=\"color: #008080; text-decoration-color: #008080; font-weight: bold\">5</span>\n",
              "</pre>\n"
            ],
            "text/plain": [
              "Operation: call function UpdateQbyR with inputs \u001b[33mtime_step\u001b[0m=\u001b[1;36m5\u001b[0m\n"
            ]
          },
          "metadata": {},
          "output_type": "display_data"
        },
        {
          "data": {
            "text/html": [
              "<pre style=\"white-space:pre;overflow-x:auto;line-height:normal;font-family:Menlo,'DejaVu Sans Mono',consolas,'Courier New',monospace\">Result: Q values for time step <span style=\"color: #008080; text-decoration-color: #008080; font-weight: bold\">5</span> are updated with the immediate rewards and stored in the working memory.\n",
              "</pre>\n"
            ],
            "text/plain": [
              "Result: Q values for time step \u001b[1;36m5\u001b[0m are updated with the immediate rewards and stored in the working memory.\n"
            ]
          },
          "metadata": {},
          "output_type": "display_data"
        },
        {
          "data": {
            "text/html": [
              "<pre style=\"white-space:pre;overflow-x:auto;line-height:normal;font-family:Menlo,'DejaVu Sans Mono',consolas,'Courier New',monospace\">Operation: call function UpdateQbyPV with inputs <span style=\"color: #808000; text-decoration-color: #808000\">time_step</span>=<span style=\"color: #008080; text-decoration-color: #008080; font-weight: bold\">5</span>\n",
              "</pre>\n"
            ],
            "text/plain": [
              "Operation: call function UpdateQbyPV with inputs \u001b[33mtime_step\u001b[0m=\u001b[1;36m5\u001b[0m\n"
            ]
          },
          "metadata": {},
          "output_type": "display_data"
        },
        {
          "data": {
            "text/html": [
              "<pre style=\"white-space:pre;overflow-x:auto;line-height:normal;font-family:Menlo,'DejaVu Sans Mono',consolas,'Courier New',monospace\">Result: Q values for time step <span style=\"color: #008080; text-decoration-color: #008080; font-weight: bold\">5</span> are updated with the one-step look ahead and stored in the working memory.\n",
              "</pre>\n"
            ],
            "text/plain": [
              "Result: Q values for time step \u001b[1;36m5\u001b[0m are updated with the one-step look ahead and stored in the working memory.\n"
            ]
          },
          "metadata": {},
          "output_type": "display_data"
        },
        {
          "data": {
            "text/html": [
              "<pre style=\"white-space:pre;overflow-x:auto;line-height:normal;font-family:Menlo,'DejaVu Sans Mono',consolas,'Courier New',monospace\">Operation: call function UpdateV with inputs <span style=\"color: #808000; text-decoration-color: #808000\">time_step</span>=<span style=\"color: #008080; text-decoration-color: #008080; font-weight: bold\">5</span>\n",
              "</pre>\n"
            ],
            "text/plain": [
              "Operation: call function UpdateV with inputs \u001b[33mtime_step\u001b[0m=\u001b[1;36m5\u001b[0m\n"
            ]
          },
          "metadata": {},
          "output_type": "display_data"
        },
        {
          "data": {
            "text/html": [
              "<pre style=\"white-space:pre;overflow-x:auto;line-height:normal;font-family:Menlo,'DejaVu Sans Mono',consolas,'Courier New',monospace\">Result: V values for time step <span style=\"color: #008080; text-decoration-color: #008080; font-weight: bold\">5</span> are updated based on the computed Q values and stored in the working memory.\n",
              "</pre>\n"
            ],
            "text/plain": [
              "Result: V values for time step \u001b[1;36m5\u001b[0m are updated based on the computed Q values and stored in the working memory.\n"
            ]
          },
          "metadata": {},
          "output_type": "display_data"
        },
        {
          "data": {
            "text/html": [
              "<pre style=\"white-space:pre;overflow-x:auto;line-height:normal;font-family:Menlo,'DejaVu Sans Mono',consolas,'Courier New',monospace\">Thought: Now we need to compute the Q values for time step <span style=\"color: #008080; text-decoration-color: #008080; font-weight: bold\">4</span>. Using the idea of dynamic programming, we compute the\n",
              "Q values in two steps. First, add the immediate rewards by calling function UpdateQbyR. Second, add the one-step \n",
              "lookahead by calling function UpdateQbyPV. Then the V values can be computed by calling UpdateV, which takes the \n",
              "maximum of the Q values over actions.\n",
              "</pre>\n"
            ],
            "text/plain": [
              "Thought: Now we need to compute the Q values for time step \u001b[1;36m4\u001b[0m. Using the idea of dynamic programming, we compute the\n",
              "Q values in two steps. First, add the immediate rewards by calling function UpdateQbyR. Second, add the one-step \n",
              "lookahead by calling function UpdateQbyPV. Then the V values can be computed by calling UpdateV, which takes the \n",
              "maximum of the Q values over actions.\n"
            ]
          },
          "metadata": {},
          "output_type": "display_data"
        },
        {
          "data": {
            "text/html": [
              "<pre style=\"white-space:pre;overflow-x:auto;line-height:normal;font-family:Menlo,'DejaVu Sans Mono',consolas,'Courier New',monospace\">Operation: call function UpdateQbyR with inputs <span style=\"color: #808000; text-decoration-color: #808000\">time_step</span>=<span style=\"color: #008080; text-decoration-color: #008080; font-weight: bold\">4</span>\n",
              "</pre>\n"
            ],
            "text/plain": [
              "Operation: call function UpdateQbyR with inputs \u001b[33mtime_step\u001b[0m=\u001b[1;36m4\u001b[0m\n"
            ]
          },
          "metadata": {},
          "output_type": "display_data"
        },
        {
          "data": {
            "text/html": [
              "<pre style=\"white-space:pre;overflow-x:auto;line-height:normal;font-family:Menlo,'DejaVu Sans Mono',consolas,'Courier New',monospace\">Result: Q values for time step <span style=\"color: #008080; text-decoration-color: #008080; font-weight: bold\">4</span> are updated with the immediate rewards and stored in the working memory.\n",
              "</pre>\n"
            ],
            "text/plain": [
              "Result: Q values for time step \u001b[1;36m4\u001b[0m are updated with the immediate rewards and stored in the working memory.\n"
            ]
          },
          "metadata": {},
          "output_type": "display_data"
        },
        {
          "data": {
            "text/html": [
              "<pre style=\"white-space:pre;overflow-x:auto;line-height:normal;font-family:Menlo,'DejaVu Sans Mono',consolas,'Courier New',monospace\">Operation: call function UpdateQbyPV with inputs <span style=\"color: #808000; text-decoration-color: #808000\">time_step</span>=<span style=\"color: #008080; text-decoration-color: #008080; font-weight: bold\">4</span>\n",
              "</pre>\n"
            ],
            "text/plain": [
              "Operation: call function UpdateQbyPV with inputs \u001b[33mtime_step\u001b[0m=\u001b[1;36m4\u001b[0m\n"
            ]
          },
          "metadata": {},
          "output_type": "display_data"
        },
        {
          "data": {
            "text/html": [
              "<pre style=\"white-space:pre;overflow-x:auto;line-height:normal;font-family:Menlo,'DejaVu Sans Mono',consolas,'Courier New',monospace\">Result: Q values for time step <span style=\"color: #008080; text-decoration-color: #008080; font-weight: bold\">4</span> are updated with the one-step look ahead and stored in the working memory.\n",
              "</pre>\n"
            ],
            "text/plain": [
              "Result: Q values for time step \u001b[1;36m4\u001b[0m are updated with the one-step look ahead and stored in the working memory.\n"
            ]
          },
          "metadata": {},
          "output_type": "display_data"
        },
        {
          "data": {
            "text/html": [
              "<pre style=\"white-space:pre;overflow-x:auto;line-height:normal;font-family:Menlo,'DejaVu Sans Mono',consolas,'Courier New',monospace\">Operation: call function UpdateV with inputs <span style=\"color: #808000; text-decoration-color: #808000\">time_step</span>=<span style=\"color: #008080; text-decoration-color: #008080; font-weight: bold\">4</span>\n",
              "</pre>\n"
            ],
            "text/plain": [
              "Operation: call function UpdateV with inputs \u001b[33mtime_step\u001b[0m=\u001b[1;36m4\u001b[0m\n"
            ]
          },
          "metadata": {},
          "output_type": "display_data"
        },
        {
          "data": {
            "text/html": [
              "<pre style=\"white-space:pre;overflow-x:auto;line-height:normal;font-family:Menlo,'DejaVu Sans Mono',consolas,'Courier New',monospace\">Result: V values for time step <span style=\"color: #008080; text-decoration-color: #008080; font-weight: bold\">4</span> are updated based on the computed Q values and stored in the working memory.\n",
              "</pre>\n"
            ],
            "text/plain": [
              "Result: V values for time step \u001b[1;36m4\u001b[0m are updated based on the computed Q values and stored in the working memory.\n"
            ]
          },
          "metadata": {},
          "output_type": "display_data"
        },
        {
          "data": {
            "text/html": [
              "<pre style=\"white-space:pre;overflow-x:auto;line-height:normal;font-family:Menlo,'DejaVu Sans Mono',consolas,'Courier New',monospace\">Thought: Now we need to compute the Q values for time step <span style=\"color: #008080; text-decoration-color: #008080; font-weight: bold\">3</span>. Using the idea of dynamic programming, we compute the\n",
              "Q values in two steps. First, add the immediate rewards by calling function UpdateQbyR. Second, add the one-step \n",
              "lookahead by calling function UpdateQbyPV. Then the V values can be computed by calling UpdateV, which takes the \n",
              "maximum of the Q values over actions.\n",
              "</pre>\n"
            ],
            "text/plain": [
              "Thought: Now we need to compute the Q values for time step \u001b[1;36m3\u001b[0m. Using the idea of dynamic programming, we compute the\n",
              "Q values in two steps. First, add the immediate rewards by calling function UpdateQbyR. Second, add the one-step \n",
              "lookahead by calling function UpdateQbyPV. Then the V values can be computed by calling UpdateV, which takes the \n",
              "maximum of the Q values over actions.\n"
            ]
          },
          "metadata": {},
          "output_type": "display_data"
        },
        {
          "data": {
            "text/html": [
              "<pre style=\"white-space:pre;overflow-x:auto;line-height:normal;font-family:Menlo,'DejaVu Sans Mono',consolas,'Courier New',monospace\">Operation: call function UpdateQbyR with inputs <span style=\"color: #808000; text-decoration-color: #808000\">time_step</span>=<span style=\"color: #008080; text-decoration-color: #008080; font-weight: bold\">3</span>\n",
              "</pre>\n"
            ],
            "text/plain": [
              "Operation: call function UpdateQbyR with inputs \u001b[33mtime_step\u001b[0m=\u001b[1;36m3\u001b[0m\n"
            ]
          },
          "metadata": {},
          "output_type": "display_data"
        },
        {
          "data": {
            "text/html": [
              "<pre style=\"white-space:pre;overflow-x:auto;line-height:normal;font-family:Menlo,'DejaVu Sans Mono',consolas,'Courier New',monospace\">Result: Q values for time step <span style=\"color: #008080; text-decoration-color: #008080; font-weight: bold\">3</span> are updated with the immediate rewards and stored in the working memory.\n",
              "</pre>\n"
            ],
            "text/plain": [
              "Result: Q values for time step \u001b[1;36m3\u001b[0m are updated with the immediate rewards and stored in the working memory.\n"
            ]
          },
          "metadata": {},
          "output_type": "display_data"
        },
        {
          "data": {
            "text/html": [
              "<pre style=\"white-space:pre;overflow-x:auto;line-height:normal;font-family:Menlo,'DejaVu Sans Mono',consolas,'Courier New',monospace\">Operation: call function UpdateQbyPV with inputs <span style=\"color: #808000; text-decoration-color: #808000\">time_step</span>=<span style=\"color: #008080; text-decoration-color: #008080; font-weight: bold\">3</span>\n",
              "</pre>\n"
            ],
            "text/plain": [
              "Operation: call function UpdateQbyPV with inputs \u001b[33mtime_step\u001b[0m=\u001b[1;36m3\u001b[0m\n"
            ]
          },
          "metadata": {},
          "output_type": "display_data"
        },
        {
          "data": {
            "text/html": [
              "<pre style=\"white-space:pre;overflow-x:auto;line-height:normal;font-family:Menlo,'DejaVu Sans Mono',consolas,'Courier New',monospace\">Result: Q values for time step <span style=\"color: #008080; text-decoration-color: #008080; font-weight: bold\">3</span> are updated with the one-step look ahead and stored in the working memory.\n",
              "</pre>\n"
            ],
            "text/plain": [
              "Result: Q values for time step \u001b[1;36m3\u001b[0m are updated with the one-step look ahead and stored in the working memory.\n"
            ]
          },
          "metadata": {},
          "output_type": "display_data"
        },
        {
          "data": {
            "text/html": [
              "<pre style=\"white-space:pre;overflow-x:auto;line-height:normal;font-family:Menlo,'DejaVu Sans Mono',consolas,'Courier New',monospace\">Operation: call function UpdateV with inputs <span style=\"color: #808000; text-decoration-color: #808000\">time_step</span>=<span style=\"color: #008080; text-decoration-color: #008080; font-weight: bold\">3</span>\n",
              "</pre>\n"
            ],
            "text/plain": [
              "Operation: call function UpdateV with inputs \u001b[33mtime_step\u001b[0m=\u001b[1;36m3\u001b[0m\n"
            ]
          },
          "metadata": {},
          "output_type": "display_data"
        },
        {
          "data": {
            "text/html": [
              "<pre style=\"white-space:pre;overflow-x:auto;line-height:normal;font-family:Menlo,'DejaVu Sans Mono',consolas,'Courier New',monospace\">Result: V values for time step <span style=\"color: #008080; text-decoration-color: #008080; font-weight: bold\">3</span> are updated based on the computed Q values and stored in the working memory.\n",
              "</pre>\n"
            ],
            "text/plain": [
              "Result: V values for time step \u001b[1;36m3\u001b[0m are updated based on the computed Q values and stored in the working memory.\n"
            ]
          },
          "metadata": {},
          "output_type": "display_data"
        },
        {
          "data": {
            "text/html": [
              "<pre style=\"white-space:pre;overflow-x:auto;line-height:normal;font-family:Menlo,'DejaVu Sans Mono',consolas,'Courier New',monospace\">Thought: Now we need to compute the Q values for time step <span style=\"color: #008080; text-decoration-color: #008080; font-weight: bold\">2</span>. Using the idea of dynamic programming, we compute the\n",
              "Q values in two steps. First, add the immediate rewards by calling function UpdateQbyR. Second, add the one-step \n",
              "lookahead by calling function UpdateQbyPV. Then the V values can be computed by calling UpdateV, which takes the \n",
              "maximum of the Q values over actions.\n",
              "</pre>\n"
            ],
            "text/plain": [
              "Thought: Now we need to compute the Q values for time step \u001b[1;36m2\u001b[0m. Using the idea of dynamic programming, we compute the\n",
              "Q values in two steps. First, add the immediate rewards by calling function UpdateQbyR. Second, add the one-step \n",
              "lookahead by calling function UpdateQbyPV. Then the V values can be computed by calling UpdateV, which takes the \n",
              "maximum of the Q values over actions.\n"
            ]
          },
          "metadata": {},
          "output_type": "display_data"
        },
        {
          "data": {
            "text/html": [
              "<pre style=\"white-space:pre;overflow-x:auto;line-height:normal;font-family:Menlo,'DejaVu Sans Mono',consolas,'Courier New',monospace\">Operation: call function UpdateQbyR with inputs <span style=\"color: #808000; text-decoration-color: #808000\">time_step</span>=<span style=\"color: #008080; text-decoration-color: #008080; font-weight: bold\">2</span>\n",
              "</pre>\n"
            ],
            "text/plain": [
              "Operation: call function UpdateQbyR with inputs \u001b[33mtime_step\u001b[0m=\u001b[1;36m2\u001b[0m\n"
            ]
          },
          "metadata": {},
          "output_type": "display_data"
        },
        {
          "data": {
            "text/html": [
              "<pre style=\"white-space:pre;overflow-x:auto;line-height:normal;font-family:Menlo,'DejaVu Sans Mono',consolas,'Courier New',monospace\">Result: Q values for time step <span style=\"color: #008080; text-decoration-color: #008080; font-weight: bold\">2</span> are updated with the immediate rewards and stored in the working memory.\n",
              "</pre>\n"
            ],
            "text/plain": [
              "Result: Q values for time step \u001b[1;36m2\u001b[0m are updated with the immediate rewards and stored in the working memory.\n"
            ]
          },
          "metadata": {},
          "output_type": "display_data"
        },
        {
          "data": {
            "text/html": [
              "<pre style=\"white-space:pre;overflow-x:auto;line-height:normal;font-family:Menlo,'DejaVu Sans Mono',consolas,'Courier New',monospace\">Operation: call function UpdateQbyPV with inputs <span style=\"color: #808000; text-decoration-color: #808000\">time_step</span>=<span style=\"color: #008080; text-decoration-color: #008080; font-weight: bold\">2</span>\n",
              "</pre>\n"
            ],
            "text/plain": [
              "Operation: call function UpdateQbyPV with inputs \u001b[33mtime_step\u001b[0m=\u001b[1;36m2\u001b[0m\n"
            ]
          },
          "metadata": {},
          "output_type": "display_data"
        },
        {
          "data": {
            "text/html": [
              "<pre style=\"white-space:pre;overflow-x:auto;line-height:normal;font-family:Menlo,'DejaVu Sans Mono',consolas,'Courier New',monospace\">Result: Q values for time step <span style=\"color: #008080; text-decoration-color: #008080; font-weight: bold\">2</span> are updated with the one-step look ahead and stored in the working memory.\n",
              "</pre>\n"
            ],
            "text/plain": [
              "Result: Q values for time step \u001b[1;36m2\u001b[0m are updated with the one-step look ahead and stored in the working memory.\n"
            ]
          },
          "metadata": {},
          "output_type": "display_data"
        },
        {
          "data": {
            "text/html": [
              "<pre style=\"white-space:pre;overflow-x:auto;line-height:normal;font-family:Menlo,'DejaVu Sans Mono',consolas,'Courier New',monospace\">Operation: call function UpdateV with inputs <span style=\"color: #808000; text-decoration-color: #808000\">time_step</span>=<span style=\"color: #008080; text-decoration-color: #008080; font-weight: bold\">2</span>\n",
              "</pre>\n"
            ],
            "text/plain": [
              "Operation: call function UpdateV with inputs \u001b[33mtime_step\u001b[0m=\u001b[1;36m2\u001b[0m\n"
            ]
          },
          "metadata": {},
          "output_type": "display_data"
        },
        {
          "data": {
            "text/html": [
              "<pre style=\"white-space:pre;overflow-x:auto;line-height:normal;font-family:Menlo,'DejaVu Sans Mono',consolas,'Courier New',monospace\">Result: V values for time step <span style=\"color: #008080; text-decoration-color: #008080; font-weight: bold\">2</span> are updated based on the computed Q values and stored in the working memory.\n",
              "</pre>\n"
            ],
            "text/plain": [
              "Result: V values for time step \u001b[1;36m2\u001b[0m are updated based on the computed Q values and stored in the working memory.\n"
            ]
          },
          "metadata": {},
          "output_type": "display_data"
        },
        {
          "data": {
            "text/html": [
              "<pre style=\"white-space:pre;overflow-x:auto;line-height:normal;font-family:Menlo,'DejaVu Sans Mono',consolas,'Courier New',monospace\">Thought: Now we need to compute the Q values for time step <span style=\"color: #008080; text-decoration-color: #008080; font-weight: bold\">1</span>. Using the idea of dynamic programming, we compute the\n",
              "Q values in two steps. First, add the immediate rewards by calling function UpdateQbyR. Second, add the one-step \n",
              "lookahead by calling function UpdateQbyPV. Then the V values can be computed by calling UpdateV, which takes the \n",
              "maximum of the Q values over actions.\n",
              "</pre>\n"
            ],
            "text/plain": [
              "Thought: Now we need to compute the Q values for time step \u001b[1;36m1\u001b[0m. Using the idea of dynamic programming, we compute the\n",
              "Q values in two steps. First, add the immediate rewards by calling function UpdateQbyR. Second, add the one-step \n",
              "lookahead by calling function UpdateQbyPV. Then the V values can be computed by calling UpdateV, which takes the \n",
              "maximum of the Q values over actions.\n"
            ]
          },
          "metadata": {},
          "output_type": "display_data"
        },
        {
          "data": {
            "text/html": [
              "<pre style=\"white-space:pre;overflow-x:auto;line-height:normal;font-family:Menlo,'DejaVu Sans Mono',consolas,'Courier New',monospace\">Operation: call function UpdateQbyR with inputs <span style=\"color: #808000; text-decoration-color: #808000\">time_step</span>=<span style=\"color: #008080; text-decoration-color: #008080; font-weight: bold\">1</span>\n",
              "</pre>\n"
            ],
            "text/plain": [
              "Operation: call function UpdateQbyR with inputs \u001b[33mtime_step\u001b[0m=\u001b[1;36m1\u001b[0m\n"
            ]
          },
          "metadata": {},
          "output_type": "display_data"
        },
        {
          "data": {
            "text/html": [
              "<pre style=\"white-space:pre;overflow-x:auto;line-height:normal;font-family:Menlo,'DejaVu Sans Mono',consolas,'Courier New',monospace\">Result: Q values for time step <span style=\"color: #008080; text-decoration-color: #008080; font-weight: bold\">1</span> are updated with the immediate rewards and stored in the working memory.\n",
              "</pre>\n"
            ],
            "text/plain": [
              "Result: Q values for time step \u001b[1;36m1\u001b[0m are updated with the immediate rewards and stored in the working memory.\n"
            ]
          },
          "metadata": {},
          "output_type": "display_data"
        },
        {
          "data": {
            "text/html": [
              "<pre style=\"white-space:pre;overflow-x:auto;line-height:normal;font-family:Menlo,'DejaVu Sans Mono',consolas,'Courier New',monospace\">Operation: call function UpdateQbyPV with inputs <span style=\"color: #808000; text-decoration-color: #808000\">time_step</span>=<span style=\"color: #008080; text-decoration-color: #008080; font-weight: bold\">1</span>\n",
              "</pre>\n"
            ],
            "text/plain": [
              "Operation: call function UpdateQbyPV with inputs \u001b[33mtime_step\u001b[0m=\u001b[1;36m1\u001b[0m\n"
            ]
          },
          "metadata": {},
          "output_type": "display_data"
        },
        {
          "data": {
            "text/html": [
              "<pre style=\"white-space:pre;overflow-x:auto;line-height:normal;font-family:Menlo,'DejaVu Sans Mono',consolas,'Courier New',monospace\">Result: Q values for time step <span style=\"color: #008080; text-decoration-color: #008080; font-weight: bold\">1</span> are updated with the one-step look ahead and stored in the working memory.\n",
              "</pre>\n"
            ],
            "text/plain": [
              "Result: Q values for time step \u001b[1;36m1\u001b[0m are updated with the one-step look ahead and stored in the working memory.\n"
            ]
          },
          "metadata": {},
          "output_type": "display_data"
        },
        {
          "data": {
            "text/html": [
              "<pre style=\"white-space:pre;overflow-x:auto;line-height:normal;font-family:Menlo,'DejaVu Sans Mono',consolas,'Courier New',monospace\">Operation: call function UpdateV with inputs <span style=\"color: #808000; text-decoration-color: #808000\">time_step</span>=<span style=\"color: #008080; text-decoration-color: #008080; font-weight: bold\">1</span>\n",
              "</pre>\n"
            ],
            "text/plain": [
              "Operation: call function UpdateV with inputs \u001b[33mtime_step\u001b[0m=\u001b[1;36m1\u001b[0m\n"
            ]
          },
          "metadata": {},
          "output_type": "display_data"
        },
        {
          "data": {
            "text/html": [
              "<pre style=\"white-space:pre;overflow-x:auto;line-height:normal;font-family:Menlo,'DejaVu Sans Mono',consolas,'Courier New',monospace\">Result: V values for time step <span style=\"color: #008080; text-decoration-color: #008080; font-weight: bold\">1</span> are updated based on the computed Q values and stored in the working memory.\n",
              "</pre>\n"
            ],
            "text/plain": [
              "Result: V values for time step \u001b[1;36m1\u001b[0m are updated based on the computed Q values and stored in the working memory.\n"
            ]
          },
          "metadata": {},
          "output_type": "display_data"
        },
        {
          "data": {
            "text/html": [
              "<pre style=\"white-space:pre;overflow-x:auto;line-height:normal;font-family:Menlo,'DejaVu Sans Mono',consolas,'Courier New',monospace\">Thought: Now we need to compute the Q values for time step <span style=\"color: #008080; text-decoration-color: #008080; font-weight: bold\">0</span>. Using the idea of dynamic programming, we compute the\n",
              "Q values in two steps. First, add the immediate rewards by calling function UpdateQbyR. Second, add the one-step \n",
              "lookahead by calling function UpdateQbyPV. Then the V values can be computed by calling UpdateV, which takes the \n",
              "maximum of the Q values over actions.\n",
              "</pre>\n"
            ],
            "text/plain": [
              "Thought: Now we need to compute the Q values for time step \u001b[1;36m0\u001b[0m. Using the idea of dynamic programming, we compute the\n",
              "Q values in two steps. First, add the immediate rewards by calling function UpdateQbyR. Second, add the one-step \n",
              "lookahead by calling function UpdateQbyPV. Then the V values can be computed by calling UpdateV, which takes the \n",
              "maximum of the Q values over actions.\n"
            ]
          },
          "metadata": {},
          "output_type": "display_data"
        },
        {
          "data": {
            "text/html": [
              "<pre style=\"white-space:pre;overflow-x:auto;line-height:normal;font-family:Menlo,'DejaVu Sans Mono',consolas,'Courier New',monospace\">Operation: call function UpdateQbyR with inputs <span style=\"color: #808000; text-decoration-color: #808000\">time_step</span>=<span style=\"color: #008080; text-decoration-color: #008080; font-weight: bold\">0</span>\n",
              "</pre>\n"
            ],
            "text/plain": [
              "Operation: call function UpdateQbyR with inputs \u001b[33mtime_step\u001b[0m=\u001b[1;36m0\u001b[0m\n"
            ]
          },
          "metadata": {},
          "output_type": "display_data"
        },
        {
          "data": {
            "text/html": [
              "<pre style=\"white-space:pre;overflow-x:auto;line-height:normal;font-family:Menlo,'DejaVu Sans Mono',consolas,'Courier New',monospace\">Result: Q values for time step <span style=\"color: #008080; text-decoration-color: #008080; font-weight: bold\">0</span> are updated with the immediate rewards and stored in the working memory.\n",
              "</pre>\n"
            ],
            "text/plain": [
              "Result: Q values for time step \u001b[1;36m0\u001b[0m are updated with the immediate rewards and stored in the working memory.\n"
            ]
          },
          "metadata": {},
          "output_type": "display_data"
        },
        {
          "data": {
            "text/html": [
              "<pre style=\"white-space:pre;overflow-x:auto;line-height:normal;font-family:Menlo,'DejaVu Sans Mono',consolas,'Courier New',monospace\">Operation: call function UpdateQbyPV with inputs <span style=\"color: #808000; text-decoration-color: #808000\">time_step</span>=<span style=\"color: #008080; text-decoration-color: #008080; font-weight: bold\">0</span>\n",
              "</pre>\n"
            ],
            "text/plain": [
              "Operation: call function UpdateQbyPV with inputs \u001b[33mtime_step\u001b[0m=\u001b[1;36m0\u001b[0m\n"
            ]
          },
          "metadata": {},
          "output_type": "display_data"
        },
        {
          "data": {
            "text/html": [
              "<pre style=\"white-space:pre;overflow-x:auto;line-height:normal;font-family:Menlo,'DejaVu Sans Mono',consolas,'Courier New',monospace\">Result: Q values for time step <span style=\"color: #008080; text-decoration-color: #008080; font-weight: bold\">0</span> are updated with the one-step look ahead and stored in the working memory.\n",
              "</pre>\n"
            ],
            "text/plain": [
              "Result: Q values for time step \u001b[1;36m0\u001b[0m are updated with the one-step look ahead and stored in the working memory.\n"
            ]
          },
          "metadata": {},
          "output_type": "display_data"
        },
        {
          "data": {
            "text/html": [
              "<pre style=\"white-space:pre;overflow-x:auto;line-height:normal;font-family:Menlo,'DejaVu Sans Mono',consolas,'Courier New',monospace\">Operation: call function UpdateV with inputs <span style=\"color: #808000; text-decoration-color: #808000\">time_step</span>=<span style=\"color: #008080; text-decoration-color: #008080; font-weight: bold\">0</span>\n",
              "</pre>\n"
            ],
            "text/plain": [
              "Operation: call function UpdateV with inputs \u001b[33mtime_step\u001b[0m=\u001b[1;36m0\u001b[0m\n"
            ]
          },
          "metadata": {},
          "output_type": "display_data"
        },
        {
          "data": {
            "text/html": [
              "<pre style=\"white-space:pre;overflow-x:auto;line-height:normal;font-family:Menlo,'DejaVu Sans Mono',consolas,'Courier New',monospace\">Result: V values for time step <span style=\"color: #008080; text-decoration-color: #008080; font-weight: bold\">0</span> are updated based on the computed Q values and stored in the working memory.\n",
              "</pre>\n"
            ],
            "text/plain": [
              "Result: V values for time step \u001b[1;36m0\u001b[0m are updated based on the computed Q values and stored in the working memory.\n"
            ]
          },
          "metadata": {},
          "output_type": "display_data"
        },
        {
          "data": {
            "text/html": [
              "<pre style=\"white-space:pre;overflow-x:auto;line-height:normal;font-family:Menlo,'DejaVu Sans Mono',consolas,'Courier New',monospace\">Thought: The Q values from the last time step <span style=\"color: #008080; text-decoration-color: #008080; font-weight: bold\">9</span> to time step <span style=\"color: #008080; text-decoration-color: #008080; font-weight: bold\">0</span> have now been calculated. We should exit the \n",
              "reasoning process.\n",
              "</pre>\n"
            ],
            "text/plain": [
              "Thought: The Q values from the last time step \u001b[1;36m9\u001b[0m to time step \u001b[1;36m0\u001b[0m have now been calculated. We should exit the \n",
              "reasoning process.\n"
            ]
          },
          "metadata": {},
          "output_type": "display_data"
        },
        {
          "data": {
            "text/html": [
              "<pre style=\"white-space:pre;overflow-x:auto;line-height:normal;font-family:Menlo,'DejaVu Sans Mono',consolas,'Courier New',monospace\"><span style=\"color: #800000; text-decoration-color: #800000\">This is time step </span><span style=\"color: #800000; text-decoration-color: #800000; font-weight: bold\">0</span><span style=\"color: #800000; text-decoration-color: #800000\">, the current state is </span><span style=\"color: #800000; text-decoration-color: #800000; font-weight: bold\">70</span><span style=\"color: #800000; text-decoration-color: #800000\">, and the available actions are </span><span style=\"color: #800000; text-decoration-color: #800000; font-weight: bold\">[</span><span style=\"color: #800000; text-decoration-color: #800000; font-weight: bold\">0</span><span style=\"color: #800000; text-decoration-color: #800000\">, </span><span style=\"color: #800000; text-decoration-color: #800000; font-weight: bold\">1</span><span style=\"color: #800000; text-decoration-color: #800000\">, </span><span style=\"color: #800000; text-decoration-color: #800000; font-weight: bold\">2</span><span style=\"color: #800000; text-decoration-color: #800000\">, </span><span style=\"color: #800000; text-decoration-color: #800000; font-weight: bold\">3</span><span style=\"color: #800000; text-decoration-color: #800000\">, </span><span style=\"color: #800000; text-decoration-color: #800000; font-weight: bold\">4</span><span style=\"color: #800000; text-decoration-color: #800000; font-weight: bold\">]</span><span style=\"color: #800000; text-decoration-color: #800000\">.</span>\n",
              "<span style=\"color: #800000; text-decoration-color: #800000\">Question: Now which action the agent should take?</span>\n",
              "</pre>\n"
            ],
            "text/plain": [
              "\u001b[31mThis is time step \u001b[0m\u001b[1;31m0\u001b[0m\u001b[31m, the current state is \u001b[0m\u001b[1;31m70\u001b[0m\u001b[31m, and the available actions are \u001b[0m\u001b[1;31m[\u001b[0m\u001b[1;31m0\u001b[0m\u001b[31m, \u001b[0m\u001b[1;31m1\u001b[0m\u001b[31m, \u001b[0m\u001b[1;31m2\u001b[0m\u001b[31m, \u001b[0m\u001b[1;31m3\u001b[0m\u001b[31m, \u001b[0m\u001b[1;31m4\u001b[0m\u001b[1;31m]\u001b[0m\u001b[31m.\u001b[0m\n",
              "\u001b[31mQuestion: Now which action the agent should take?\u001b[0m\n"
            ]
          },
          "metadata": {},
          "output_type": "display_data"
        },
        {
          "data": {
            "text/html": [
              "<pre style=\"white-space:pre;overflow-x:auto;line-height:normal;font-family:Menlo,'DejaVu Sans Mono',consolas,'Courier New',monospace\">Question: This is time step <span style=\"color: #008080; text-decoration-color: #008080; font-weight: bold\">0</span>, the current state is <span style=\"color: #008080; text-decoration-color: #008080; font-weight: bold\">70</span>, and the available actions are <span style=\"font-weight: bold\">[</span><span style=\"color: #008080; text-decoration-color: #008080; font-weight: bold\">0</span>, <span style=\"color: #008080; text-decoration-color: #008080; font-weight: bold\">1</span>, <span style=\"color: #008080; text-decoration-color: #008080; font-weight: bold\">2</span>, <span style=\"color: #008080; text-decoration-color: #008080; font-weight: bold\">3</span>, <span style=\"color: #008080; text-decoration-color: #008080; font-weight: bold\">4</span><span style=\"font-weight: bold\">]</span>.\n",
              "Question: Now which action the agent should take?\n",
              "</pre>\n"
            ],
            "text/plain": [
              "Question: This is time step \u001b[1;36m0\u001b[0m, the current state is \u001b[1;36m70\u001b[0m, and the available actions are \u001b[1m[\u001b[0m\u001b[1;36m0\u001b[0m, \u001b[1;36m1\u001b[0m, \u001b[1;36m2\u001b[0m, \u001b[1;36m3\u001b[0m, \u001b[1;36m4\u001b[0m\u001b[1m]\u001b[0m.\n",
              "Question: Now which action the agent should take?\n"
            ]
          },
          "metadata": {},
          "output_type": "display_data"
        },
        {
          "data": {
            "text/html": [
              "<pre style=\"white-space:pre;overflow-x:auto;line-height:normal;font-family:Menlo,'DejaVu Sans Mono',consolas,'Courier New',monospace\">Thought: I should retrieve the Q values for the current state, which is <span style=\"color: #008080; text-decoration-color: #008080; font-weight: bold\">70</span>, and time step, which is <span style=\"color: #008080; text-decoration-color: #008080; font-weight: bold\">0</span>.\n",
              "</pre>\n"
            ],
            "text/plain": [
              "Thought: I should retrieve the Q values for the current state, which is \u001b[1;36m70\u001b[0m, and time step, which is \u001b[1;36m0\u001b[0m.\n"
            ]
          },
          "metadata": {},
          "output_type": "display_data"
        },
        {
          "data": {
            "text/html": [
              "<pre style=\"white-space:pre;overflow-x:auto;line-height:normal;font-family:Menlo,'DejaVu Sans Mono',consolas,'Courier New',monospace\">Operation: call function GetQ with inputs <span style=\"color: #808000; text-decoration-color: #808000\">time_step</span>=<span style=\"color: #008080; text-decoration-color: #008080; font-weight: bold\">0</span> <span style=\"color: #808000; text-decoration-color: #808000\">state</span>=<span style=\"color: #008080; text-decoration-color: #008080; font-weight: bold\">70</span>\n",
              "</pre>\n"
            ],
            "text/plain": [
              "Operation: call function GetQ with inputs \u001b[33mtime_step\u001b[0m=\u001b[1;36m0\u001b[0m \u001b[33mstate\u001b[0m=\u001b[1;36m70\u001b[0m\n"
            ]
          },
          "metadata": {},
          "output_type": "display_data"
        },
        {
          "data": {
            "text/html": [
              "<pre style=\"white-space:pre;overflow-x:auto;line-height:normal;font-family:Menlo,'DejaVu Sans Mono',consolas,'Courier New',monospace\">Result: <span style=\"font-weight: bold\">[</span><span style=\"color: #008080; text-decoration-color: #008080; font-weight: bold\">53.3333</span> <span style=\"color: #008080; text-decoration-color: #008080; font-weight: bold\">55</span>.     <span style=\"color: #008080; text-decoration-color: #008080; font-weight: bold\">55</span>.     <span style=\"color: #008080; text-decoration-color: #008080; font-weight: bold\">64</span>.     <span style=\"color: #008080; text-decoration-color: #008080; font-weight: bold\">51</span>.    <span style=\"font-weight: bold\">]</span>\n",
              "</pre>\n"
            ],
            "text/plain": [
              "Result: \u001b[1m[\u001b[0m\u001b[1;36m53.3333\u001b[0m \u001b[1;36m55\u001b[0m.     \u001b[1;36m55\u001b[0m.     \u001b[1;36m64\u001b[0m.     \u001b[1;36m51\u001b[0m.    \u001b[1m]\u001b[0m\n"
            ]
          },
          "metadata": {},
          "output_type": "display_data"
        },
        {
          "data": {
            "text/html": [
              "<pre style=\"white-space:pre;overflow-x:auto;line-height:normal;font-family:Menlo,'DejaVu Sans Mono',consolas,'Courier New',monospace\">Thought: I should call function GetArgMax to get the action indices corresponding to the maximal value in the list \n",
              "<span style=\"font-weight: bold\">[</span><span style=\"color: #008080; text-decoration-color: #008080; font-weight: bold\">53.3333</span>, <span style=\"color: #008080; text-decoration-color: #008080; font-weight: bold\">55</span>, <span style=\"color: #008080; text-decoration-color: #008080; font-weight: bold\">55</span>, <span style=\"color: #008080; text-decoration-color: #008080; font-weight: bold\">64</span>, <span style=\"color: #008080; text-decoration-color: #008080; font-weight: bold\">51</span><span style=\"font-weight: bold\">]</span>.\n",
              "</pre>\n"
            ],
            "text/plain": [
              "Thought: I should call function GetArgMax to get the action indices corresponding to the maximal value in the list \n",
              "\u001b[1m[\u001b[0m\u001b[1;36m53.3333\u001b[0m, \u001b[1;36m55\u001b[0m, \u001b[1;36m55\u001b[0m, \u001b[1;36m64\u001b[0m, \u001b[1;36m51\u001b[0m\u001b[1m]\u001b[0m.\n"
            ]
          },
          "metadata": {},
          "output_type": "display_data"
        },
        {
          "data": {
            "text/html": [
              "<pre style=\"white-space:pre;overflow-x:auto;line-height:normal;font-family:Menlo,'DejaVu Sans Mono',consolas,'Courier New',monospace\">Operation: call function GetArgMax with inputs <span style=\"color: #808000; text-decoration-color: #808000\">number_list</span>=<span style=\"font-weight: bold\">[</span><span style=\"color: #008080; text-decoration-color: #008080; font-weight: bold\">53.3333</span>, <span style=\"color: #008080; text-decoration-color: #008080; font-weight: bold\">55.0</span>, <span style=\"color: #008080; text-decoration-color: #008080; font-weight: bold\">55.0</span>, <span style=\"color: #008080; text-decoration-color: #008080; font-weight: bold\">64.0</span>, <span style=\"color: #008080; text-decoration-color: #008080; font-weight: bold\">51.0</span><span style=\"font-weight: bold\">]</span>\n",
              "</pre>\n"
            ],
            "text/plain": [
              "Operation: call function GetArgMax with inputs \u001b[33mnumber_list\u001b[0m=\u001b[1m[\u001b[0m\u001b[1;36m53.3333\u001b[0m, \u001b[1;36m55.0\u001b[0m, \u001b[1;36m55.0\u001b[0m, \u001b[1;36m64.0\u001b[0m, \u001b[1;36m51.0\u001b[0m\u001b[1m]\u001b[0m\n"
            ]
          },
          "metadata": {},
          "output_type": "display_data"
        },
        {
          "data": {
            "text/html": [
              "<pre style=\"white-space:pre;overflow-x:auto;line-height:normal;font-family:Menlo,'DejaVu Sans Mono',consolas,'Courier New',monospace\">Result: <span style=\"font-weight: bold\">[</span><span style=\"color: #008080; text-decoration-color: #008080; font-weight: bold\">3</span><span style=\"font-weight: bold\">]</span>\n",
              "</pre>\n"
            ],
            "text/plain": [
              "Result: \u001b[1m[\u001b[0m\u001b[1;36m3\u001b[0m\u001b[1m]\u001b[0m\n"
            ]
          },
          "metadata": {},
          "output_type": "display_data"
        },
        {
          "data": {
            "text/html": [
              "<pre style=\"white-space:pre;overflow-x:auto;line-height:normal;font-family:Menlo,'DejaVu Sans Mono',consolas,'Courier New',monospace\">Thought: Now I can exit the reasoning process, and choose action <span style=\"color: #008080; text-decoration-color: #008080; font-weight: bold\">3</span>, as it maximizes the Q value <span style=\"font-weight: bold\">(</span>break the tie \n",
              "randomly if there are multiple maximums<span style=\"font-weight: bold\">)</span>.\n",
              "</pre>\n"
            ],
            "text/plain": [
              "Thought: Now I can exit the reasoning process, and choose action \u001b[1;36m3\u001b[0m, as it maximizes the Q value \u001b[1m(\u001b[0mbreak the tie \n",
              "randomly if there are multiple maximums\u001b[1m)\u001b[0m.\n"
            ]
          },
          "metadata": {},
          "output_type": "display_data"
        },
        {
          "data": {
            "text/html": [
              "<pre style=\"white-space:pre;overflow-x:auto;line-height:normal;font-family:Menlo,'DejaVu Sans Mono',consolas,'Courier New',monospace\">q_optimal for current step and state <span style=\"font-weight: bold\">[</span><span style=\"color: #008080; text-decoration-color: #008080; font-weight: bold\">53.33333333</span> <span style=\"color: #008080; text-decoration-color: #008080; font-weight: bold\">55</span>.         <span style=\"color: #008080; text-decoration-color: #008080; font-weight: bold\">55</span>.         <span style=\"color: #008080; text-decoration-color: #008080; font-weight: bold\">64</span>.         <span style=\"color: #008080; text-decoration-color: #008080; font-weight: bold\">51</span>.        <span style=\"font-weight: bold\">]</span>\n",
              "</pre>\n"
            ],
            "text/plain": [
              "q_optimal for current step and state \u001b[1m[\u001b[0m\u001b[1;36m53.33333333\u001b[0m \u001b[1;36m55\u001b[0m.         \u001b[1;36m55\u001b[0m.         \u001b[1;36m64\u001b[0m.         \u001b[1;36m51\u001b[0m.        \u001b[1m]\u001b[0m\n"
            ]
          },
          "metadata": {},
          "output_type": "display_data"
        },
        {
          "data": {
            "text/html": [
              "<pre style=\"white-space:pre;overflow-x:auto;line-height:normal;font-family:Menlo,'DejaVu Sans Mono',consolas,'Courier New',monospace\"><span style=\"color: #800000; text-decoration-color: #800000\">agent: </span><span style=\"color: #800000; text-decoration-color: #800000; font-weight: bold\">3</span>\n",
              "</pre>\n"
            ],
            "text/plain": [
              "\u001b[31magent: \u001b[0m\u001b[1;31m3\u001b[0m\n"
            ]
          },
          "metadata": {},
          "output_type": "display_data"
        },
        {
          "data": {
            "text/html": [
              "<pre style=\"white-space:pre;overflow-x:auto;line-height:normal;font-family:Menlo,'DejaVu Sans Mono',consolas,'Courier New',monospace\"><span style=\"color: #800000; text-decoration-color: #800000\">metric: </span><span style=\"color: #800000; text-decoration-color: #800000; font-style: italic\">True</span>\n",
              "</pre>\n"
            ],
            "text/plain": [
              "\u001b[31mmetric: \u001b[0m\u001b[3;31mTrue\u001b[0m\n"
            ]
          },
          "metadata": {},
          "output_type": "display_data"
        },
        {
          "data": {
            "text/html": [
              "<pre style=\"white-space:pre;overflow-x:auto;line-height:normal;font-family:Menlo,'DejaVu Sans Mono',consolas,'Courier New',monospace\"><span style=\"color: #800000; text-decoration-color: #800000\">This is time step </span><span style=\"color: #800000; text-decoration-color: #800000; font-weight: bold\">1</span><span style=\"color: #800000; text-decoration-color: #800000\">, the current state is </span><span style=\"color: #800000; text-decoration-color: #800000; font-weight: bold\">111</span><span style=\"color: #800000; text-decoration-color: #800000\">, and the available actions are </span><span style=\"color: #800000; text-decoration-color: #800000; font-weight: bold\">[</span><span style=\"color: #800000; text-decoration-color: #800000; font-weight: bold\">0</span><span style=\"color: #800000; text-decoration-color: #800000\">, </span><span style=\"color: #800000; text-decoration-color: #800000; font-weight: bold\">1</span><span style=\"color: #800000; text-decoration-color: #800000\">, </span><span style=\"color: #800000; text-decoration-color: #800000; font-weight: bold\">2</span><span style=\"color: #800000; text-decoration-color: #800000\">, </span><span style=\"color: #800000; text-decoration-color: #800000; font-weight: bold\">3</span><span style=\"color: #800000; text-decoration-color: #800000\">, </span><span style=\"color: #800000; text-decoration-color: #800000; font-weight: bold\">4</span><span style=\"color: #800000; text-decoration-color: #800000; font-weight: bold\">]</span><span style=\"color: #800000; text-decoration-color: #800000\">.</span>\n",
              "<span style=\"color: #800000; text-decoration-color: #800000\">Question: Now which action the agent should take?</span>\n",
              "</pre>\n"
            ],
            "text/plain": [
              "\u001b[31mThis is time step \u001b[0m\u001b[1;31m1\u001b[0m\u001b[31m, the current state is \u001b[0m\u001b[1;31m111\u001b[0m\u001b[31m, and the available actions are \u001b[0m\u001b[1;31m[\u001b[0m\u001b[1;31m0\u001b[0m\u001b[31m, \u001b[0m\u001b[1;31m1\u001b[0m\u001b[31m, \u001b[0m\u001b[1;31m2\u001b[0m\u001b[31m, \u001b[0m\u001b[1;31m3\u001b[0m\u001b[31m, \u001b[0m\u001b[1;31m4\u001b[0m\u001b[1;31m]\u001b[0m\u001b[31m.\u001b[0m\n",
              "\u001b[31mQuestion: Now which action the agent should take?\u001b[0m\n"
            ]
          },
          "metadata": {},
          "output_type": "display_data"
        },
        {
          "data": {
            "text/html": [
              "<pre style=\"white-space:pre;overflow-x:auto;line-height:normal;font-family:Menlo,'DejaVu Sans Mono',consolas,'Courier New',monospace\">Question: This is time step <span style=\"color: #008080; text-decoration-color: #008080; font-weight: bold\">1</span>, the current state is <span style=\"color: #008080; text-decoration-color: #008080; font-weight: bold\">111</span>, and the available actions are <span style=\"font-weight: bold\">[</span><span style=\"color: #008080; text-decoration-color: #008080; font-weight: bold\">0</span>, <span style=\"color: #008080; text-decoration-color: #008080; font-weight: bold\">1</span>, <span style=\"color: #008080; text-decoration-color: #008080; font-weight: bold\">2</span>, <span style=\"color: #008080; text-decoration-color: #008080; font-weight: bold\">3</span>, <span style=\"color: #008080; text-decoration-color: #008080; font-weight: bold\">4</span><span style=\"font-weight: bold\">]</span>.\n",
              "Question: Now which action the agent should take?\n",
              "</pre>\n"
            ],
            "text/plain": [
              "Question: This is time step \u001b[1;36m1\u001b[0m, the current state is \u001b[1;36m111\u001b[0m, and the available actions are \u001b[1m[\u001b[0m\u001b[1;36m0\u001b[0m, \u001b[1;36m1\u001b[0m, \u001b[1;36m2\u001b[0m, \u001b[1;36m3\u001b[0m, \u001b[1;36m4\u001b[0m\u001b[1m]\u001b[0m.\n",
              "Question: Now which action the agent should take?\n"
            ]
          },
          "metadata": {},
          "output_type": "display_data"
        },
        {
          "data": {
            "text/html": [
              "<pre style=\"white-space:pre;overflow-x:auto;line-height:normal;font-family:Menlo,'DejaVu Sans Mono',consolas,'Courier New',monospace\">Thought: I should retrieve the Q values for the current state, which is <span style=\"color: #008080; text-decoration-color: #008080; font-weight: bold\">111</span>, and time step, which is <span style=\"color: #008080; text-decoration-color: #008080; font-weight: bold\">1</span>.\n",
              "</pre>\n"
            ],
            "text/plain": [
              "Thought: I should retrieve the Q values for the current state, which is \u001b[1;36m111\u001b[0m, and time step, which is \u001b[1;36m1\u001b[0m.\n"
            ]
          },
          "metadata": {},
          "output_type": "display_data"
        },
        {
          "data": {
            "text/html": [
              "<pre style=\"white-space:pre;overflow-x:auto;line-height:normal;font-family:Menlo,'DejaVu Sans Mono',consolas,'Courier New',monospace\">Operation: call function GetQ with inputs <span style=\"color: #808000; text-decoration-color: #808000\">time_step</span>=<span style=\"color: #008080; text-decoration-color: #008080; font-weight: bold\">1</span> <span style=\"color: #808000; text-decoration-color: #808000\">state</span>=<span style=\"color: #008080; text-decoration-color: #008080; font-weight: bold\">111</span>\n",
              "</pre>\n"
            ],
            "text/plain": [
              "Operation: call function GetQ with inputs \u001b[33mtime_step\u001b[0m=\u001b[1;36m1\u001b[0m \u001b[33mstate\u001b[0m=\u001b[1;36m111\u001b[0m\n"
            ]
          },
          "metadata": {},
          "output_type": "display_data"
        },
        {
          "data": {
            "text/html": [
              "<pre style=\"white-space:pre;overflow-x:auto;line-height:normal;font-family:Menlo,'DejaVu Sans Mono',consolas,'Courier New',monospace\">Result: <span style=\"font-weight: bold\">[</span><span style=\"color: #008080; text-decoration-color: #008080; font-weight: bold\">58</span>.      <span style=\"color: #008080; text-decoration-color: #008080; font-weight: bold\">9.6667</span>  <span style=\"color: #008080; text-decoration-color: #008080; font-weight: bold\">9.6667</span>  <span style=\"color: #008080; text-decoration-color: #008080; font-weight: bold\">9.6667</span>  <span style=\"color: #008080; text-decoration-color: #008080; font-weight: bold\">9.6667</span><span style=\"font-weight: bold\">]</span>\n",
              "</pre>\n"
            ],
            "text/plain": [
              "Result: \u001b[1m[\u001b[0m\u001b[1;36m58\u001b[0m.      \u001b[1;36m9.6667\u001b[0m  \u001b[1;36m9.6667\u001b[0m  \u001b[1;36m9.6667\u001b[0m  \u001b[1;36m9.6667\u001b[0m\u001b[1m]\u001b[0m\n"
            ]
          },
          "metadata": {},
          "output_type": "display_data"
        },
        {
          "data": {
            "text/html": [
              "<pre style=\"white-space:pre;overflow-x:auto;line-height:normal;font-family:Menlo,'DejaVu Sans Mono',consolas,'Courier New',monospace\">Thought: I should call function GetArgMax to get the action indices corresponding to the maximal value in the list \n",
              "<span style=\"font-weight: bold\">[</span><span style=\"color: #008080; text-decoration-color: #008080; font-weight: bold\">58</span>, <span style=\"color: #008080; text-decoration-color: #008080; font-weight: bold\">9.6667</span>, <span style=\"color: #008080; text-decoration-color: #008080; font-weight: bold\">9.6667</span>, <span style=\"color: #008080; text-decoration-color: #008080; font-weight: bold\">9.6667</span>, <span style=\"color: #008080; text-decoration-color: #008080; font-weight: bold\">9.6667</span><span style=\"font-weight: bold\">]</span>.\n",
              "</pre>\n"
            ],
            "text/plain": [
              "Thought: I should call function GetArgMax to get the action indices corresponding to the maximal value in the list \n",
              "\u001b[1m[\u001b[0m\u001b[1;36m58\u001b[0m, \u001b[1;36m9.6667\u001b[0m, \u001b[1;36m9.6667\u001b[0m, \u001b[1;36m9.6667\u001b[0m, \u001b[1;36m9.6667\u001b[0m\u001b[1m]\u001b[0m.\n"
            ]
          },
          "metadata": {},
          "output_type": "display_data"
        },
        {
          "data": {
            "text/html": [
              "<pre style=\"white-space:pre;overflow-x:auto;line-height:normal;font-family:Menlo,'DejaVu Sans Mono',consolas,'Courier New',monospace\">Operation: call function GetArgMax with inputs <span style=\"color: #808000; text-decoration-color: #808000\">number_list</span>=<span style=\"font-weight: bold\">[</span><span style=\"color: #008080; text-decoration-color: #008080; font-weight: bold\">58.0</span>, <span style=\"color: #008080; text-decoration-color: #008080; font-weight: bold\">9.6667</span>, <span style=\"color: #008080; text-decoration-color: #008080; font-weight: bold\">9.6667</span>, <span style=\"color: #008080; text-decoration-color: #008080; font-weight: bold\">9.6667</span>, <span style=\"color: #008080; text-decoration-color: #008080; font-weight: bold\">9.6667</span><span style=\"font-weight: bold\">]</span>\n",
              "</pre>\n"
            ],
            "text/plain": [
              "Operation: call function GetArgMax with inputs \u001b[33mnumber_list\u001b[0m=\u001b[1m[\u001b[0m\u001b[1;36m58.0\u001b[0m, \u001b[1;36m9.6667\u001b[0m, \u001b[1;36m9.6667\u001b[0m, \u001b[1;36m9.6667\u001b[0m, \u001b[1;36m9.6667\u001b[0m\u001b[1m]\u001b[0m\n"
            ]
          },
          "metadata": {},
          "output_type": "display_data"
        },
        {
          "data": {
            "text/html": [
              "<pre style=\"white-space:pre;overflow-x:auto;line-height:normal;font-family:Menlo,'DejaVu Sans Mono',consolas,'Courier New',monospace\">Result: <span style=\"font-weight: bold\">[</span><span style=\"color: #008080; text-decoration-color: #008080; font-weight: bold\">0</span><span style=\"font-weight: bold\">]</span>\n",
              "</pre>\n"
            ],
            "text/plain": [
              "Result: \u001b[1m[\u001b[0m\u001b[1;36m0\u001b[0m\u001b[1m]\u001b[0m\n"
            ]
          },
          "metadata": {},
          "output_type": "display_data"
        },
        {
          "data": {
            "text/html": [
              "<pre style=\"white-space:pre;overflow-x:auto;line-height:normal;font-family:Menlo,'DejaVu Sans Mono',consolas,'Courier New',monospace\">Thought: Now I can exit the reasoning process, and choose action <span style=\"color: #008080; text-decoration-color: #008080; font-weight: bold\">0</span>, as it maximizes the Q value <span style=\"font-weight: bold\">(</span>break the tie \n",
              "randomly if there are multiple maximums<span style=\"font-weight: bold\">)</span>.\n",
              "</pre>\n"
            ],
            "text/plain": [
              "Thought: Now I can exit the reasoning process, and choose action \u001b[1;36m0\u001b[0m, as it maximizes the Q value \u001b[1m(\u001b[0mbreak the tie \n",
              "randomly if there are multiple maximums\u001b[1m)\u001b[0m.\n"
            ]
          },
          "metadata": {},
          "output_type": "display_data"
        },
        {
          "data": {
            "text/html": [
              "<pre style=\"white-space:pre;overflow-x:auto;line-height:normal;font-family:Menlo,'DejaVu Sans Mono',consolas,'Courier New',monospace\">q_optimal for current step and state <span style=\"font-weight: bold\">[</span><span style=\"color: #008080; text-decoration-color: #008080; font-weight: bold\">58</span>.          <span style=\"color: #008080; text-decoration-color: #008080; font-weight: bold\">9.66666667</span>  <span style=\"color: #008080; text-decoration-color: #008080; font-weight: bold\">9.66666667</span>  <span style=\"color: #008080; text-decoration-color: #008080; font-weight: bold\">9.66666667</span>  <span style=\"color: #008080; text-decoration-color: #008080; font-weight: bold\">9.66666667</span><span style=\"font-weight: bold\">]</span>\n",
              "</pre>\n"
            ],
            "text/plain": [
              "q_optimal for current step and state \u001b[1m[\u001b[0m\u001b[1;36m58\u001b[0m.          \u001b[1;36m9.66666667\u001b[0m  \u001b[1;36m9.66666667\u001b[0m  \u001b[1;36m9.66666667\u001b[0m  \u001b[1;36m9.66666667\u001b[0m\u001b[1m]\u001b[0m\n"
            ]
          },
          "metadata": {},
          "output_type": "display_data"
        },
        {
          "data": {
            "text/html": [
              "<pre style=\"white-space:pre;overflow-x:auto;line-height:normal;font-family:Menlo,'DejaVu Sans Mono',consolas,'Courier New',monospace\"><span style=\"color: #800000; text-decoration-color: #800000\">agent: </span><span style=\"color: #800000; text-decoration-color: #800000; font-weight: bold\">0</span>\n",
              "</pre>\n"
            ],
            "text/plain": [
              "\u001b[31magent: \u001b[0m\u001b[1;31m0\u001b[0m\n"
            ]
          },
          "metadata": {},
          "output_type": "display_data"
        },
        {
          "data": {
            "text/html": [
              "<pre style=\"white-space:pre;overflow-x:auto;line-height:normal;font-family:Menlo,'DejaVu Sans Mono',consolas,'Courier New',monospace\"><span style=\"color: #800000; text-decoration-color: #800000\">metric: </span><span style=\"color: #800000; text-decoration-color: #800000; font-style: italic\">True</span>\n",
              "</pre>\n"
            ],
            "text/plain": [
              "\u001b[31mmetric: \u001b[0m\u001b[3;31mTrue\u001b[0m\n"
            ]
          },
          "metadata": {},
          "output_type": "display_data"
        },
        {
          "data": {
            "text/html": [
              "<pre style=\"white-space:pre;overflow-x:auto;line-height:normal;font-family:Menlo,'DejaVu Sans Mono',consolas,'Courier New',monospace\"><span style=\"color: #800000; text-decoration-color: #800000\">This is time step </span><span style=\"color: #800000; text-decoration-color: #800000; font-weight: bold\">2</span><span style=\"color: #800000; text-decoration-color: #800000\">, the current state is </span><span style=\"color: #800000; text-decoration-color: #800000; font-weight: bold\">102</span><span style=\"color: #800000; text-decoration-color: #800000\">, and the available actions are </span><span style=\"color: #800000; text-decoration-color: #800000; font-weight: bold\">[</span><span style=\"color: #800000; text-decoration-color: #800000; font-weight: bold\">0</span><span style=\"color: #800000; text-decoration-color: #800000\">, </span><span style=\"color: #800000; text-decoration-color: #800000; font-weight: bold\">1</span><span style=\"color: #800000; text-decoration-color: #800000\">, </span><span style=\"color: #800000; text-decoration-color: #800000; font-weight: bold\">2</span><span style=\"color: #800000; text-decoration-color: #800000\">, </span><span style=\"color: #800000; text-decoration-color: #800000; font-weight: bold\">3</span><span style=\"color: #800000; text-decoration-color: #800000\">, </span><span style=\"color: #800000; text-decoration-color: #800000; font-weight: bold\">4</span><span style=\"color: #800000; text-decoration-color: #800000; font-weight: bold\">]</span><span style=\"color: #800000; text-decoration-color: #800000\">.</span>\n",
              "<span style=\"color: #800000; text-decoration-color: #800000\">Question: Now which action the agent should take?</span>\n",
              "</pre>\n"
            ],
            "text/plain": [
              "\u001b[31mThis is time step \u001b[0m\u001b[1;31m2\u001b[0m\u001b[31m, the current state is \u001b[0m\u001b[1;31m102\u001b[0m\u001b[31m, and the available actions are \u001b[0m\u001b[1;31m[\u001b[0m\u001b[1;31m0\u001b[0m\u001b[31m, \u001b[0m\u001b[1;31m1\u001b[0m\u001b[31m, \u001b[0m\u001b[1;31m2\u001b[0m\u001b[31m, \u001b[0m\u001b[1;31m3\u001b[0m\u001b[31m, \u001b[0m\u001b[1;31m4\u001b[0m\u001b[1;31m]\u001b[0m\u001b[31m.\u001b[0m\n",
              "\u001b[31mQuestion: Now which action the agent should take?\u001b[0m\n"
            ]
          },
          "metadata": {},
          "output_type": "display_data"
        },
        {
          "data": {
            "text/html": [
              "<pre style=\"white-space:pre;overflow-x:auto;line-height:normal;font-family:Menlo,'DejaVu Sans Mono',consolas,'Courier New',monospace\">Question: This is time step <span style=\"color: #008080; text-decoration-color: #008080; font-weight: bold\">2</span>, the current state is <span style=\"color: #008080; text-decoration-color: #008080; font-weight: bold\">102</span>, and the available actions are <span style=\"font-weight: bold\">[</span><span style=\"color: #008080; text-decoration-color: #008080; font-weight: bold\">0</span>, <span style=\"color: #008080; text-decoration-color: #008080; font-weight: bold\">1</span>, <span style=\"color: #008080; text-decoration-color: #008080; font-weight: bold\">2</span>, <span style=\"color: #008080; text-decoration-color: #008080; font-weight: bold\">3</span>, <span style=\"color: #008080; text-decoration-color: #008080; font-weight: bold\">4</span><span style=\"font-weight: bold\">]</span>.\n",
              "Question: Now which action the agent should take?\n",
              "</pre>\n"
            ],
            "text/plain": [
              "Question: This is time step \u001b[1;36m2\u001b[0m, the current state is \u001b[1;36m102\u001b[0m, and the available actions are \u001b[1m[\u001b[0m\u001b[1;36m0\u001b[0m, \u001b[1;36m1\u001b[0m, \u001b[1;36m2\u001b[0m, \u001b[1;36m3\u001b[0m, \u001b[1;36m4\u001b[0m\u001b[1m]\u001b[0m.\n",
              "Question: Now which action the agent should take?\n"
            ]
          },
          "metadata": {},
          "output_type": "display_data"
        },
        {
          "data": {
            "text/html": [
              "<pre style=\"white-space:pre;overflow-x:auto;line-height:normal;font-family:Menlo,'DejaVu Sans Mono',consolas,'Courier New',monospace\">Thought: I should retrieve the Q values for the current state, which is <span style=\"color: #008080; text-decoration-color: #008080; font-weight: bold\">102</span>, and time step, which is <span style=\"color: #008080; text-decoration-color: #008080; font-weight: bold\">2</span>.\n",
              "</pre>\n"
            ],
            "text/plain": [
              "Thought: I should retrieve the Q values for the current state, which is \u001b[1;36m102\u001b[0m, and time step, which is \u001b[1;36m2\u001b[0m.\n"
            ]
          },
          "metadata": {},
          "output_type": "display_data"
        },
        {
          "data": {
            "text/html": [
              "<pre style=\"white-space:pre;overflow-x:auto;line-height:normal;font-family:Menlo,'DejaVu Sans Mono',consolas,'Courier New',monospace\">Operation: call function GetQ with inputs <span style=\"color: #808000; text-decoration-color: #808000\">time_step</span>=<span style=\"color: #008080; text-decoration-color: #008080; font-weight: bold\">2</span> <span style=\"color: #808000; text-decoration-color: #808000\">state</span>=<span style=\"color: #008080; text-decoration-color: #008080; font-weight: bold\">102</span>\n",
              "</pre>\n"
            ],
            "text/plain": [
              "Operation: call function GetQ with inputs \u001b[33mtime_step\u001b[0m=\u001b[1;36m2\u001b[0m \u001b[33mstate\u001b[0m=\u001b[1;36m102\u001b[0m\n"
            ]
          },
          "metadata": {},
          "output_type": "display_data"
        },
        {
          "data": {
            "text/html": [
              "<pre style=\"white-space:pre;overflow-x:auto;line-height:normal;font-family:Menlo,'DejaVu Sans Mono',consolas,'Courier New',monospace\">Result: <span style=\"font-weight: bold\">[</span>  <span style=\"color: #008080; text-decoration-color: #008080; font-weight: bold\">49.3333</span>   <span style=\"color: #008080; text-decoration-color: #008080; font-weight: bold\">51</span>.     <span style=\"color: #008080; text-decoration-color: #008080; font-weight: bold\">-645.6667</span>   <span style=\"color: #008080; text-decoration-color: #008080; font-weight: bold\">51</span>.       <span style=\"color: #008080; text-decoration-color: #008080; font-weight: bold\">51</span>.    <span style=\"font-weight: bold\">]</span>\n",
              "</pre>\n"
            ],
            "text/plain": [
              "Result: \u001b[1m[\u001b[0m  \u001b[1;36m49.3333\u001b[0m   \u001b[1;36m51\u001b[0m.     \u001b[1;36m-645.6667\u001b[0m   \u001b[1;36m51\u001b[0m.       \u001b[1;36m51\u001b[0m.    \u001b[1m]\u001b[0m\n"
            ]
          },
          "metadata": {},
          "output_type": "display_data"
        },
        {
          "data": {
            "text/html": [
              "<pre style=\"white-space:pre;overflow-x:auto;line-height:normal;font-family:Menlo,'DejaVu Sans Mono',consolas,'Courier New',monospace\">Thought: I should call function GetArgMax to get the action indices corresponding to the maximal value in the list \n",
              "<span style=\"font-weight: bold\">[</span><span style=\"color: #008080; text-decoration-color: #008080; font-weight: bold\">49.3333</span>, <span style=\"color: #008080; text-decoration-color: #008080; font-weight: bold\">51</span>, <span style=\"color: #008080; text-decoration-color: #008080; font-weight: bold\">-645.6667</span>, <span style=\"color: #008080; text-decoration-color: #008080; font-weight: bold\">51</span>, <span style=\"color: #008080; text-decoration-color: #008080; font-weight: bold\">51</span><span style=\"font-weight: bold\">]</span>.\n",
              "</pre>\n"
            ],
            "text/plain": [
              "Thought: I should call function GetArgMax to get the action indices corresponding to the maximal value in the list \n",
              "\u001b[1m[\u001b[0m\u001b[1;36m49.3333\u001b[0m, \u001b[1;36m51\u001b[0m, \u001b[1;36m-645.6667\u001b[0m, \u001b[1;36m51\u001b[0m, \u001b[1;36m51\u001b[0m\u001b[1m]\u001b[0m.\n"
            ]
          },
          "metadata": {},
          "output_type": "display_data"
        },
        {
          "data": {
            "text/html": [
              "<pre style=\"white-space:pre;overflow-x:auto;line-height:normal;font-family:Menlo,'DejaVu Sans Mono',consolas,'Courier New',monospace\">Operation: call function GetArgMax with inputs <span style=\"color: #808000; text-decoration-color: #808000\">number_list</span>=<span style=\"font-weight: bold\">[</span><span style=\"color: #008080; text-decoration-color: #008080; font-weight: bold\">49.3333</span>, <span style=\"color: #008080; text-decoration-color: #008080; font-weight: bold\">51.0</span>, <span style=\"color: #008080; text-decoration-color: #008080; font-weight: bold\">-645.6667</span>, <span style=\"color: #008080; text-decoration-color: #008080; font-weight: bold\">51.0</span>, <span style=\"color: #008080; text-decoration-color: #008080; font-weight: bold\">51.0</span><span style=\"font-weight: bold\">]</span>\n",
              "</pre>\n"
            ],
            "text/plain": [
              "Operation: call function GetArgMax with inputs \u001b[33mnumber_list\u001b[0m=\u001b[1m[\u001b[0m\u001b[1;36m49.3333\u001b[0m, \u001b[1;36m51.0\u001b[0m, \u001b[1;36m-645.6667\u001b[0m, \u001b[1;36m51.0\u001b[0m, \u001b[1;36m51.0\u001b[0m\u001b[1m]\u001b[0m\n"
            ]
          },
          "metadata": {},
          "output_type": "display_data"
        },
        {
          "data": {
            "text/html": [
              "<pre style=\"white-space:pre;overflow-x:auto;line-height:normal;font-family:Menlo,'DejaVu Sans Mono',consolas,'Courier New',monospace\">Result: <span style=\"font-weight: bold\">[</span><span style=\"color: #008080; text-decoration-color: #008080; font-weight: bold\">1</span> <span style=\"color: #008080; text-decoration-color: #008080; font-weight: bold\">3</span> <span style=\"color: #008080; text-decoration-color: #008080; font-weight: bold\">4</span><span style=\"font-weight: bold\">]</span>\n",
              "</pre>\n"
            ],
            "text/plain": [
              "Result: \u001b[1m[\u001b[0m\u001b[1;36m1\u001b[0m \u001b[1;36m3\u001b[0m \u001b[1;36m4\u001b[0m\u001b[1m]\u001b[0m\n"
            ]
          },
          "metadata": {},
          "output_type": "display_data"
        },
        {
          "data": {
            "text/html": [
              "<pre style=\"white-space:pre;overflow-x:auto;line-height:normal;font-family:Menlo,'DejaVu Sans Mono',consolas,'Courier New',monospace\">Thought: There are multiple actions <span style=\"font-weight: bold\">(</span><span style=\"color: #008080; text-decoration-color: #008080; font-weight: bold\">1</span>, <span style=\"color: #008080; text-decoration-color: #008080; font-weight: bold\">3</span>, and <span style=\"color: #008080; text-decoration-color: #008080; font-weight: bold\">4</span><span style=\"font-weight: bold\">)</span> that maximize the Q value. I will randomly choose one of these \n",
              "actions.\n",
              "</pre>\n"
            ],
            "text/plain": [
              "Thought: There are multiple actions \u001b[1m(\u001b[0m\u001b[1;36m1\u001b[0m, \u001b[1;36m3\u001b[0m, and \u001b[1;36m4\u001b[0m\u001b[1m)\u001b[0m that maximize the Q value. I will randomly choose one of these \n",
              "actions.\n"
            ]
          },
          "metadata": {},
          "output_type": "display_data"
        },
        {
          "data": {
            "text/html": [
              "<pre style=\"white-space:pre;overflow-x:auto;line-height:normal;font-family:Menlo,'DejaVu Sans Mono',consolas,'Courier New',monospace\">q_optimal for current step and state <span style=\"font-weight: bold\">[</span>  <span style=\"color: #008080; text-decoration-color: #008080; font-weight: bold\">49.33333333</span>   <span style=\"color: #008080; text-decoration-color: #008080; font-weight: bold\">51</span>.         <span style=\"color: #008080; text-decoration-color: #008080; font-weight: bold\">-645.66666667</span>   <span style=\"color: #008080; text-decoration-color: #008080; font-weight: bold\">51</span>.           <span style=\"color: #008080; text-decoration-color: #008080; font-weight: bold\">51</span>.        <span style=\"font-weight: bold\">]</span>\n",
              "</pre>\n"
            ],
            "text/plain": [
              "q_optimal for current step and state \u001b[1m[\u001b[0m  \u001b[1;36m49.33333333\u001b[0m   \u001b[1;36m51\u001b[0m.         \u001b[1;36m-645.66666667\u001b[0m   \u001b[1;36m51\u001b[0m.           \u001b[1;36m51\u001b[0m.        \u001b[1m]\u001b[0m\n"
            ]
          },
          "metadata": {},
          "output_type": "display_data"
        },
        {
          "data": {
            "text/html": [
              "<pre style=\"white-space:pre;overflow-x:auto;line-height:normal;font-family:Menlo,'DejaVu Sans Mono',consolas,'Courier New',monospace\"><span style=\"color: #800000; text-decoration-color: #800000\">agent: </span><span style=\"color: #800000; text-decoration-color: #800000; font-weight: bold\">1</span>\n",
              "</pre>\n"
            ],
            "text/plain": [
              "\u001b[31magent: \u001b[0m\u001b[1;31m1\u001b[0m\n"
            ]
          },
          "metadata": {},
          "output_type": "display_data"
        },
        {
          "data": {
            "text/html": [
              "<pre style=\"white-space:pre;overflow-x:auto;line-height:normal;font-family:Menlo,'DejaVu Sans Mono',consolas,'Courier New',monospace\"><span style=\"color: #800000; text-decoration-color: #800000\">metric: </span><span style=\"color: #800000; text-decoration-color: #800000; font-style: italic\">True</span>\n",
              "</pre>\n"
            ],
            "text/plain": [
              "\u001b[31mmetric: \u001b[0m\u001b[3;31mTrue\u001b[0m\n"
            ]
          },
          "metadata": {},
          "output_type": "display_data"
        },
        {
          "data": {
            "text/html": [
              "<pre style=\"white-space:pre;overflow-x:auto;line-height:normal;font-family:Menlo,'DejaVu Sans Mono',consolas,'Courier New',monospace\"><span style=\"color: #800000; text-decoration-color: #800000\">This is time step </span><span style=\"color: #800000; text-decoration-color: #800000; font-weight: bold\">3</span><span style=\"color: #800000; text-decoration-color: #800000\">, the current state is </span><span style=\"color: #800000; text-decoration-color: #800000; font-weight: bold\">103</span><span style=\"color: #800000; text-decoration-color: #800000\">, and the available actions are </span><span style=\"color: #800000; text-decoration-color: #800000; font-weight: bold\">[</span><span style=\"color: #800000; text-decoration-color: #800000; font-weight: bold\">0</span><span style=\"color: #800000; text-decoration-color: #800000\">, </span><span style=\"color: #800000; text-decoration-color: #800000; font-weight: bold\">1</span><span style=\"color: #800000; text-decoration-color: #800000\">, </span><span style=\"color: #800000; text-decoration-color: #800000; font-weight: bold\">2</span><span style=\"color: #800000; text-decoration-color: #800000\">, </span><span style=\"color: #800000; text-decoration-color: #800000; font-weight: bold\">3</span><span style=\"color: #800000; text-decoration-color: #800000\">, </span><span style=\"color: #800000; text-decoration-color: #800000; font-weight: bold\">4</span><span style=\"color: #800000; text-decoration-color: #800000; font-weight: bold\">]</span><span style=\"color: #800000; text-decoration-color: #800000\">.</span>\n",
              "<span style=\"color: #800000; text-decoration-color: #800000\">Question: Now which action the agent should take?</span>\n",
              "</pre>\n"
            ],
            "text/plain": [
              "\u001b[31mThis is time step \u001b[0m\u001b[1;31m3\u001b[0m\u001b[31m, the current state is \u001b[0m\u001b[1;31m103\u001b[0m\u001b[31m, and the available actions are \u001b[0m\u001b[1;31m[\u001b[0m\u001b[1;31m0\u001b[0m\u001b[31m, \u001b[0m\u001b[1;31m1\u001b[0m\u001b[31m, \u001b[0m\u001b[1;31m2\u001b[0m\u001b[31m, \u001b[0m\u001b[1;31m3\u001b[0m\u001b[31m, \u001b[0m\u001b[1;31m4\u001b[0m\u001b[1;31m]\u001b[0m\u001b[31m.\u001b[0m\n",
              "\u001b[31mQuestion: Now which action the agent should take?\u001b[0m\n"
            ]
          },
          "metadata": {},
          "output_type": "display_data"
        },
        {
          "data": {
            "text/html": [
              "<pre style=\"white-space:pre;overflow-x:auto;line-height:normal;font-family:Menlo,'DejaVu Sans Mono',consolas,'Courier New',monospace\">Question: This is time step <span style=\"color: #008080; text-decoration-color: #008080; font-weight: bold\">3</span>, the current state is <span style=\"color: #008080; text-decoration-color: #008080; font-weight: bold\">103</span>, and the available actions are <span style=\"font-weight: bold\">[</span><span style=\"color: #008080; text-decoration-color: #008080; font-weight: bold\">0</span>, <span style=\"color: #008080; text-decoration-color: #008080; font-weight: bold\">1</span>, <span style=\"color: #008080; text-decoration-color: #008080; font-weight: bold\">2</span>, <span style=\"color: #008080; text-decoration-color: #008080; font-weight: bold\">3</span>, <span style=\"color: #008080; text-decoration-color: #008080; font-weight: bold\">4</span><span style=\"font-weight: bold\">]</span>.\n",
              "Question: Now which action the agent should take?\n",
              "</pre>\n"
            ],
            "text/plain": [
              "Question: This is time step \u001b[1;36m3\u001b[0m, the current state is \u001b[1;36m103\u001b[0m, and the available actions are \u001b[1m[\u001b[0m\u001b[1;36m0\u001b[0m, \u001b[1;36m1\u001b[0m, \u001b[1;36m2\u001b[0m, \u001b[1;36m3\u001b[0m, \u001b[1;36m4\u001b[0m\u001b[1m]\u001b[0m.\n",
              "Question: Now which action the agent should take?\n"
            ]
          },
          "metadata": {},
          "output_type": "display_data"
        },
        {
          "data": {
            "text/html": [
              "<pre style=\"white-space:pre;overflow-x:auto;line-height:normal;font-family:Menlo,'DejaVu Sans Mono',consolas,'Courier New',monospace\">Thought: I should retrieve the Q values for the current state, which is <span style=\"color: #008080; text-decoration-color: #008080; font-weight: bold\">103</span>, and time step, which is <span style=\"color: #008080; text-decoration-color: #008080; font-weight: bold\">3</span>.\n",
              "</pre>\n"
            ],
            "text/plain": [
              "Thought: I should retrieve the Q values for the current state, which is \u001b[1;36m103\u001b[0m, and time step, which is \u001b[1;36m3\u001b[0m.\n"
            ]
          },
          "metadata": {},
          "output_type": "display_data"
        },
        {
          "data": {
            "text/html": [
              "<pre style=\"white-space:pre;overflow-x:auto;line-height:normal;font-family:Menlo,'DejaVu Sans Mono',consolas,'Courier New',monospace\">Operation: call function GetQ with inputs <span style=\"color: #808000; text-decoration-color: #808000\">time_step</span>=<span style=\"color: #008080; text-decoration-color: #008080; font-weight: bold\">3</span> <span style=\"color: #808000; text-decoration-color: #808000\">state</span>=<span style=\"color: #008080; text-decoration-color: #008080; font-weight: bold\">103</span>\n",
              "</pre>\n"
            ],
            "text/plain": [
              "Operation: call function GetQ with inputs \u001b[33mtime_step\u001b[0m=\u001b[1;36m3\u001b[0m \u001b[33mstate\u001b[0m=\u001b[1;36m103\u001b[0m\n"
            ]
          },
          "metadata": {},
          "output_type": "display_data"
        },
        {
          "data": {
            "text/html": [
              "<pre style=\"white-space:pre;overflow-x:auto;line-height:normal;font-family:Menlo,'DejaVu Sans Mono',consolas,'Courier New',monospace\">Result: <span style=\"font-weight: bold\">[</span>  <span style=\"color: #008080; text-decoration-color: #008080; font-weight: bold\">42.3333</span>   <span style=\"color: #008080; text-decoration-color: #008080; font-weight: bold\">45.6667</span> <span style=\"color: #008080; text-decoration-color: #008080; font-weight: bold\">-552.6667</span>   <span style=\"color: #008080; text-decoration-color: #008080; font-weight: bold\">45.6667</span>   <span style=\"color: #008080; text-decoration-color: #008080; font-weight: bold\">45.6667</span><span style=\"font-weight: bold\">]</span>\n",
              "</pre>\n"
            ],
            "text/plain": [
              "Result: \u001b[1m[\u001b[0m  \u001b[1;36m42.3333\u001b[0m   \u001b[1;36m45.6667\u001b[0m \u001b[1;36m-552.6667\u001b[0m   \u001b[1;36m45.6667\u001b[0m   \u001b[1;36m45.6667\u001b[0m\u001b[1m]\u001b[0m\n"
            ]
          },
          "metadata": {},
          "output_type": "display_data"
        },
        {
          "data": {
            "text/html": [
              "<pre style=\"white-space:pre;overflow-x:auto;line-height:normal;font-family:Menlo,'DejaVu Sans Mono',consolas,'Courier New',monospace\">Thought: I should call function GetArgMax to get the action indices corresponding to the maximal value in the list \n",
              "<span style=\"font-weight: bold\">[</span><span style=\"color: #008080; text-decoration-color: #008080; font-weight: bold\">42.3333</span>, <span style=\"color: #008080; text-decoration-color: #008080; font-weight: bold\">45.6667</span>, <span style=\"color: #008080; text-decoration-color: #008080; font-weight: bold\">-552.6667</span>, <span style=\"color: #008080; text-decoration-color: #008080; font-weight: bold\">45.6667</span>, <span style=\"color: #008080; text-decoration-color: #008080; font-weight: bold\">45.6667</span><span style=\"font-weight: bold\">]</span>.\n",
              "</pre>\n"
            ],
            "text/plain": [
              "Thought: I should call function GetArgMax to get the action indices corresponding to the maximal value in the list \n",
              "\u001b[1m[\u001b[0m\u001b[1;36m42.3333\u001b[0m, \u001b[1;36m45.6667\u001b[0m, \u001b[1;36m-552.6667\u001b[0m, \u001b[1;36m45.6667\u001b[0m, \u001b[1;36m45.6667\u001b[0m\u001b[1m]\u001b[0m.\n"
            ]
          },
          "metadata": {},
          "output_type": "display_data"
        },
        {
          "data": {
            "text/html": [
              "<pre style=\"white-space:pre;overflow-x:auto;line-height:normal;font-family:Menlo,'DejaVu Sans Mono',consolas,'Courier New',monospace\">Operation: call function GetArgMax with inputs <span style=\"color: #808000; text-decoration-color: #808000\">number_list</span>=<span style=\"font-weight: bold\">[</span><span style=\"color: #008080; text-decoration-color: #008080; font-weight: bold\">42.3333</span>, <span style=\"color: #008080; text-decoration-color: #008080; font-weight: bold\">45.6667</span>, <span style=\"color: #008080; text-decoration-color: #008080; font-weight: bold\">-552.6667</span>, <span style=\"color: #008080; text-decoration-color: #008080; font-weight: bold\">45.6667</span>, <span style=\"color: #008080; text-decoration-color: #008080; font-weight: bold\">45.6667</span><span style=\"font-weight: bold\">]</span>\n",
              "</pre>\n"
            ],
            "text/plain": [
              "Operation: call function GetArgMax with inputs \u001b[33mnumber_list\u001b[0m=\u001b[1m[\u001b[0m\u001b[1;36m42.3333\u001b[0m, \u001b[1;36m45.6667\u001b[0m, \u001b[1;36m-552.6667\u001b[0m, \u001b[1;36m45.6667\u001b[0m, \u001b[1;36m45.6667\u001b[0m\u001b[1m]\u001b[0m\n"
            ]
          },
          "metadata": {},
          "output_type": "display_data"
        },
        {
          "data": {
            "text/html": [
              "<pre style=\"white-space:pre;overflow-x:auto;line-height:normal;font-family:Menlo,'DejaVu Sans Mono',consolas,'Courier New',monospace\">Result: <span style=\"font-weight: bold\">[</span><span style=\"color: #008080; text-decoration-color: #008080; font-weight: bold\">1</span> <span style=\"color: #008080; text-decoration-color: #008080; font-weight: bold\">3</span> <span style=\"color: #008080; text-decoration-color: #008080; font-weight: bold\">4</span><span style=\"font-weight: bold\">]</span>\n",
              "</pre>\n"
            ],
            "text/plain": [
              "Result: \u001b[1m[\u001b[0m\u001b[1;36m1\u001b[0m \u001b[1;36m3\u001b[0m \u001b[1;36m4\u001b[0m\u001b[1m]\u001b[0m\n"
            ]
          },
          "metadata": {},
          "output_type": "display_data"
        },
        {
          "data": {
            "text/html": [
              "<pre style=\"white-space:pre;overflow-x:auto;line-height:normal;font-family:Menlo,'DejaVu Sans Mono',consolas,'Courier New',monospace\">Thought: There are multiple actions <span style=\"font-weight: bold\">(</span><span style=\"color: #008080; text-decoration-color: #008080; font-weight: bold\">1</span>, <span style=\"color: #008080; text-decoration-color: #008080; font-weight: bold\">3</span>, and <span style=\"color: #008080; text-decoration-color: #008080; font-weight: bold\">4</span><span style=\"font-weight: bold\">)</span> that maximize the Q value. I will randomly choose one of these \n",
              "actions.\n",
              "</pre>\n"
            ],
            "text/plain": [
              "Thought: There are multiple actions \u001b[1m(\u001b[0m\u001b[1;36m1\u001b[0m, \u001b[1;36m3\u001b[0m, and \u001b[1;36m4\u001b[0m\u001b[1m)\u001b[0m that maximize the Q value. I will randomly choose one of these \n",
              "actions.\n"
            ]
          },
          "metadata": {},
          "output_type": "display_data"
        },
        {
          "data": {
            "text/html": [
              "<pre style=\"white-space:pre;overflow-x:auto;line-height:normal;font-family:Menlo,'DejaVu Sans Mono',consolas,'Courier New',monospace\">q_optimal for current step and state <span style=\"font-weight: bold\">[</span>  <span style=\"color: #008080; text-decoration-color: #008080; font-weight: bold\">42.33333333</span>   <span style=\"color: #008080; text-decoration-color: #008080; font-weight: bold\">45.66666667</span> <span style=\"color: #008080; text-decoration-color: #008080; font-weight: bold\">-552.66666667</span>   <span style=\"color: #008080; text-decoration-color: #008080; font-weight: bold\">45.66666667</span>   <span style=\"color: #008080; text-decoration-color: #008080; font-weight: bold\">45.66666667</span><span style=\"font-weight: bold\">]</span>\n",
              "</pre>\n"
            ],
            "text/plain": [
              "q_optimal for current step and state \u001b[1m[\u001b[0m  \u001b[1;36m42.33333333\u001b[0m   \u001b[1;36m45.66666667\u001b[0m \u001b[1;36m-552.66666667\u001b[0m   \u001b[1;36m45.66666667\u001b[0m   \u001b[1;36m45.66666667\u001b[0m\u001b[1m]\u001b[0m\n"
            ]
          },
          "metadata": {},
          "output_type": "display_data"
        },
        {
          "data": {
            "text/html": [
              "<pre style=\"white-space:pre;overflow-x:auto;line-height:normal;font-family:Menlo,'DejaVu Sans Mono',consolas,'Courier New',monospace\"><span style=\"color: #800000; text-decoration-color: #800000\">agent: </span><span style=\"color: #800000; text-decoration-color: #800000; font-weight: bold\">1</span>\n",
              "</pre>\n"
            ],
            "text/plain": [
              "\u001b[31magent: \u001b[0m\u001b[1;31m1\u001b[0m\n"
            ]
          },
          "metadata": {},
          "output_type": "display_data"
        },
        {
          "data": {
            "text/html": [
              "<pre style=\"white-space:pre;overflow-x:auto;line-height:normal;font-family:Menlo,'DejaVu Sans Mono',consolas,'Courier New',monospace\"><span style=\"color: #800000; text-decoration-color: #800000\">metric: </span><span style=\"color: #800000; text-decoration-color: #800000; font-style: italic\">True</span>\n",
              "</pre>\n"
            ],
            "text/plain": [
              "\u001b[31mmetric: \u001b[0m\u001b[3;31mTrue\u001b[0m\n"
            ]
          },
          "metadata": {},
          "output_type": "display_data"
        },
        {
          "data": {
            "text/html": [
              "<pre style=\"white-space:pre;overflow-x:auto;line-height:normal;font-family:Menlo,'DejaVu Sans Mono',consolas,'Courier New',monospace\"><span style=\"color: #800000; text-decoration-color: #800000\">This is time step </span><span style=\"color: #800000; text-decoration-color: #800000; font-weight: bold\">4</span><span style=\"color: #800000; text-decoration-color: #800000\">, the current state is </span><span style=\"color: #800000; text-decoration-color: #800000; font-weight: bold\">104</span><span style=\"color: #800000; text-decoration-color: #800000\">, and the available actions are </span><span style=\"color: #800000; text-decoration-color: #800000; font-weight: bold\">[</span><span style=\"color: #800000; text-decoration-color: #800000; font-weight: bold\">0</span><span style=\"color: #800000; text-decoration-color: #800000\">, </span><span style=\"color: #800000; text-decoration-color: #800000; font-weight: bold\">1</span><span style=\"color: #800000; text-decoration-color: #800000\">, </span><span style=\"color: #800000; text-decoration-color: #800000; font-weight: bold\">2</span><span style=\"color: #800000; text-decoration-color: #800000\">, </span><span style=\"color: #800000; text-decoration-color: #800000; font-weight: bold\">3</span><span style=\"color: #800000; text-decoration-color: #800000\">, </span><span style=\"color: #800000; text-decoration-color: #800000; font-weight: bold\">4</span><span style=\"color: #800000; text-decoration-color: #800000; font-weight: bold\">]</span><span style=\"color: #800000; text-decoration-color: #800000\">.</span>\n",
              "<span style=\"color: #800000; text-decoration-color: #800000\">Question: Now which action the agent should take?</span>\n",
              "</pre>\n"
            ],
            "text/plain": [
              "\u001b[31mThis is time step \u001b[0m\u001b[1;31m4\u001b[0m\u001b[31m, the current state is \u001b[0m\u001b[1;31m104\u001b[0m\u001b[31m, and the available actions are \u001b[0m\u001b[1;31m[\u001b[0m\u001b[1;31m0\u001b[0m\u001b[31m, \u001b[0m\u001b[1;31m1\u001b[0m\u001b[31m, \u001b[0m\u001b[1;31m2\u001b[0m\u001b[31m, \u001b[0m\u001b[1;31m3\u001b[0m\u001b[31m, \u001b[0m\u001b[1;31m4\u001b[0m\u001b[1;31m]\u001b[0m\u001b[31m.\u001b[0m\n",
              "\u001b[31mQuestion: Now which action the agent should take?\u001b[0m\n"
            ]
          },
          "metadata": {},
          "output_type": "display_data"
        },
        {
          "data": {
            "text/html": [
              "<pre style=\"white-space:pre;overflow-x:auto;line-height:normal;font-family:Menlo,'DejaVu Sans Mono',consolas,'Courier New',monospace\">Question: This is time step <span style=\"color: #008080; text-decoration-color: #008080; font-weight: bold\">4</span>, the current state is <span style=\"color: #008080; text-decoration-color: #008080; font-weight: bold\">104</span>, and the available actions are <span style=\"font-weight: bold\">[</span><span style=\"color: #008080; text-decoration-color: #008080; font-weight: bold\">0</span>, <span style=\"color: #008080; text-decoration-color: #008080; font-weight: bold\">1</span>, <span style=\"color: #008080; text-decoration-color: #008080; font-weight: bold\">2</span>, <span style=\"color: #008080; text-decoration-color: #008080; font-weight: bold\">3</span>, <span style=\"color: #008080; text-decoration-color: #008080; font-weight: bold\">4</span><span style=\"font-weight: bold\">]</span>.\n",
              "Question: Now which action the agent should take?\n",
              "</pre>\n"
            ],
            "text/plain": [
              "Question: This is time step \u001b[1;36m4\u001b[0m, the current state is \u001b[1;36m104\u001b[0m, and the available actions are \u001b[1m[\u001b[0m\u001b[1;36m0\u001b[0m, \u001b[1;36m1\u001b[0m, \u001b[1;36m2\u001b[0m, \u001b[1;36m3\u001b[0m, \u001b[1;36m4\u001b[0m\u001b[1m]\u001b[0m.\n",
              "Question: Now which action the agent should take?\n"
            ]
          },
          "metadata": {},
          "output_type": "display_data"
        },
        {
          "data": {
            "text/html": [
              "<pre style=\"white-space:pre;overflow-x:auto;line-height:normal;font-family:Menlo,'DejaVu Sans Mono',consolas,'Courier New',monospace\">Thought: I should retrieve the Q values for the current state, which is <span style=\"color: #008080; text-decoration-color: #008080; font-weight: bold\">104</span>, and time step, which is <span style=\"color: #008080; text-decoration-color: #008080; font-weight: bold\">4</span>.\n",
              "</pre>\n"
            ],
            "text/plain": [
              "Thought: I should retrieve the Q values for the current state, which is \u001b[1;36m104\u001b[0m, and time step, which is \u001b[1;36m4\u001b[0m.\n"
            ]
          },
          "metadata": {},
          "output_type": "display_data"
        },
        {
          "data": {
            "text/html": [
              "<pre style=\"white-space:pre;overflow-x:auto;line-height:normal;font-family:Menlo,'DejaVu Sans Mono',consolas,'Courier New',monospace\">Operation: call function GetQ with inputs <span style=\"color: #808000; text-decoration-color: #808000\">time_step</span>=<span style=\"color: #008080; text-decoration-color: #008080; font-weight: bold\">4</span> <span style=\"color: #808000; text-decoration-color: #808000\">state</span>=<span style=\"color: #008080; text-decoration-color: #008080; font-weight: bold\">104</span>\n",
              "</pre>\n"
            ],
            "text/plain": [
              "Operation: call function GetQ with inputs \u001b[33mtime_step\u001b[0m=\u001b[1;36m4\u001b[0m \u001b[33mstate\u001b[0m=\u001b[1;36m104\u001b[0m\n"
            ]
          },
          "metadata": {},
          "output_type": "display_data"
        },
        {
          "data": {
            "text/html": [
              "<pre style=\"white-space:pre;overflow-x:auto;line-height:normal;font-family:Menlo,'DejaVu Sans Mono',consolas,'Courier New',monospace\">Result: <span style=\"font-weight: bold\">[</span><span style=\"color: #008080; text-decoration-color: #008080; font-weight: bold\">35.3333</span> <span style=\"color: #008080; text-decoration-color: #008080; font-weight: bold\">38.6667</span> <span style=\"color: #008080; text-decoration-color: #008080; font-weight: bold\">40.3333</span> <span style=\"color: #008080; text-decoration-color: #008080; font-weight: bold\">38.6667</span> <span style=\"color: #008080; text-decoration-color: #008080; font-weight: bold\">38.6667</span><span style=\"font-weight: bold\">]</span>\n",
              "</pre>\n"
            ],
            "text/plain": [
              "Result: \u001b[1m[\u001b[0m\u001b[1;36m35.3333\u001b[0m \u001b[1;36m38.6667\u001b[0m \u001b[1;36m40.3333\u001b[0m \u001b[1;36m38.6667\u001b[0m \u001b[1;36m38.6667\u001b[0m\u001b[1m]\u001b[0m\n"
            ]
          },
          "metadata": {},
          "output_type": "display_data"
        },
        {
          "data": {
            "text/html": [
              "<pre style=\"white-space:pre;overflow-x:auto;line-height:normal;font-family:Menlo,'DejaVu Sans Mono',consolas,'Courier New',monospace\">Thought: I should call function GetArgMax to get the action indices corresponding to the maximal value in the list \n",
              "<span style=\"font-weight: bold\">[</span><span style=\"color: #008080; text-decoration-color: #008080; font-weight: bold\">35.3333</span>, <span style=\"color: #008080; text-decoration-color: #008080; font-weight: bold\">38.6667</span>, <span style=\"color: #008080; text-decoration-color: #008080; font-weight: bold\">40.3333</span>, <span style=\"color: #008080; text-decoration-color: #008080; font-weight: bold\">38.6667</span>, <span style=\"color: #008080; text-decoration-color: #008080; font-weight: bold\">38.6667</span><span style=\"font-weight: bold\">]</span>.\n",
              "</pre>\n"
            ],
            "text/plain": [
              "Thought: I should call function GetArgMax to get the action indices corresponding to the maximal value in the list \n",
              "\u001b[1m[\u001b[0m\u001b[1;36m35.3333\u001b[0m, \u001b[1;36m38.6667\u001b[0m, \u001b[1;36m40.3333\u001b[0m, \u001b[1;36m38.6667\u001b[0m, \u001b[1;36m38.6667\u001b[0m\u001b[1m]\u001b[0m.\n"
            ]
          },
          "metadata": {},
          "output_type": "display_data"
        },
        {
          "data": {
            "text/html": [
              "<pre style=\"white-space:pre;overflow-x:auto;line-height:normal;font-family:Menlo,'DejaVu Sans Mono',consolas,'Courier New',monospace\">Operation: call function GetArgMax with inputs <span style=\"color: #808000; text-decoration-color: #808000\">number_list</span>=<span style=\"font-weight: bold\">[</span><span style=\"color: #008080; text-decoration-color: #008080; font-weight: bold\">35.3333</span>, <span style=\"color: #008080; text-decoration-color: #008080; font-weight: bold\">38.6667</span>, <span style=\"color: #008080; text-decoration-color: #008080; font-weight: bold\">40.3333</span>, <span style=\"color: #008080; text-decoration-color: #008080; font-weight: bold\">38.6667</span>, <span style=\"color: #008080; text-decoration-color: #008080; font-weight: bold\">38.6667</span><span style=\"font-weight: bold\">]</span>\n",
              "</pre>\n"
            ],
            "text/plain": [
              "Operation: call function GetArgMax with inputs \u001b[33mnumber_list\u001b[0m=\u001b[1m[\u001b[0m\u001b[1;36m35.3333\u001b[0m, \u001b[1;36m38.6667\u001b[0m, \u001b[1;36m40.3333\u001b[0m, \u001b[1;36m38.6667\u001b[0m, \u001b[1;36m38.6667\u001b[0m\u001b[1m]\u001b[0m\n"
            ]
          },
          "metadata": {},
          "output_type": "display_data"
        },
        {
          "data": {
            "text/html": [
              "<pre style=\"white-space:pre;overflow-x:auto;line-height:normal;font-family:Menlo,'DejaVu Sans Mono',consolas,'Courier New',monospace\">Result: <span style=\"font-weight: bold\">[</span><span style=\"color: #008080; text-decoration-color: #008080; font-weight: bold\">2</span><span style=\"font-weight: bold\">]</span>\n",
              "</pre>\n"
            ],
            "text/plain": [
              "Result: \u001b[1m[\u001b[0m\u001b[1;36m2\u001b[0m\u001b[1m]\u001b[0m\n"
            ]
          },
          "metadata": {},
          "output_type": "display_data"
        },
        {
          "data": {
            "text/html": [
              "<pre style=\"white-space:pre;overflow-x:auto;line-height:normal;font-family:Menlo,'DejaVu Sans Mono',consolas,'Courier New',monospace\">Thought: Now I can exit the reasoning process, and choose action <span style=\"color: #008080; text-decoration-color: #008080; font-weight: bold\">2</span>, as it maximizes the Q value <span style=\"font-weight: bold\">(</span>break the tie \n",
              "randomly if there are multiple maximums<span style=\"font-weight: bold\">)</span>.\n",
              "</pre>\n"
            ],
            "text/plain": [
              "Thought: Now I can exit the reasoning process, and choose action \u001b[1;36m2\u001b[0m, as it maximizes the Q value \u001b[1m(\u001b[0mbreak the tie \n",
              "randomly if there are multiple maximums\u001b[1m)\u001b[0m.\n"
            ]
          },
          "metadata": {},
          "output_type": "display_data"
        },
        {
          "data": {
            "text/html": [
              "<pre style=\"white-space:pre;overflow-x:auto;line-height:normal;font-family:Menlo,'DejaVu Sans Mono',consolas,'Courier New',monospace\">q_optimal for current step and state <span style=\"font-weight: bold\">[</span><span style=\"color: #008080; text-decoration-color: #008080; font-weight: bold\">35.33333333</span> <span style=\"color: #008080; text-decoration-color: #008080; font-weight: bold\">38.66666667</span> <span style=\"color: #008080; text-decoration-color: #008080; font-weight: bold\">40.33333333</span> <span style=\"color: #008080; text-decoration-color: #008080; font-weight: bold\">38.66666667</span> <span style=\"color: #008080; text-decoration-color: #008080; font-weight: bold\">38.66666667</span><span style=\"font-weight: bold\">]</span>\n",
              "</pre>\n"
            ],
            "text/plain": [
              "q_optimal for current step and state \u001b[1m[\u001b[0m\u001b[1;36m35.33333333\u001b[0m \u001b[1;36m38.66666667\u001b[0m \u001b[1;36m40.33333333\u001b[0m \u001b[1;36m38.66666667\u001b[0m \u001b[1;36m38.66666667\u001b[0m\u001b[1m]\u001b[0m\n"
            ]
          },
          "metadata": {},
          "output_type": "display_data"
        },
        {
          "data": {
            "text/html": [
              "<pre style=\"white-space:pre;overflow-x:auto;line-height:normal;font-family:Menlo,'DejaVu Sans Mono',consolas,'Courier New',monospace\"><span style=\"color: #800000; text-decoration-color: #800000\">agent: </span><span style=\"color: #800000; text-decoration-color: #800000; font-weight: bold\">2</span>\n",
              "</pre>\n"
            ],
            "text/plain": [
              "\u001b[31magent: \u001b[0m\u001b[1;31m2\u001b[0m\n"
            ]
          },
          "metadata": {},
          "output_type": "display_data"
        },
        {
          "data": {
            "text/html": [
              "<pre style=\"white-space:pre;overflow-x:auto;line-height:normal;font-family:Menlo,'DejaVu Sans Mono',consolas,'Courier New',monospace\"><span style=\"color: #800000; text-decoration-color: #800000\">metric: </span><span style=\"color: #800000; text-decoration-color: #800000; font-style: italic\">True</span>\n",
              "</pre>\n"
            ],
            "text/plain": [
              "\u001b[31mmetric: \u001b[0m\u001b[3;31mTrue\u001b[0m\n"
            ]
          },
          "metadata": {},
          "output_type": "display_data"
        },
        {
          "data": {
            "text/html": [
              "<pre style=\"white-space:pre;overflow-x:auto;line-height:normal;font-family:Menlo,'DejaVu Sans Mono',consolas,'Courier New',monospace\"><span style=\"color: #800000; text-decoration-color: #800000\">This is time step </span><span style=\"color: #800000; text-decoration-color: #800000; font-weight: bold\">5</span><span style=\"color: #800000; text-decoration-color: #800000\">, the current state is </span><span style=\"color: #800000; text-decoration-color: #800000; font-weight: bold\">115</span><span style=\"color: #800000; text-decoration-color: #800000\">, and the available actions are </span><span style=\"color: #800000; text-decoration-color: #800000; font-weight: bold\">[</span><span style=\"color: #800000; text-decoration-color: #800000; font-weight: bold\">0</span><span style=\"color: #800000; text-decoration-color: #800000\">, </span><span style=\"color: #800000; text-decoration-color: #800000; font-weight: bold\">1</span><span style=\"color: #800000; text-decoration-color: #800000\">, </span><span style=\"color: #800000; text-decoration-color: #800000; font-weight: bold\">2</span><span style=\"color: #800000; text-decoration-color: #800000\">, </span><span style=\"color: #800000; text-decoration-color: #800000; font-weight: bold\">3</span><span style=\"color: #800000; text-decoration-color: #800000\">, </span><span style=\"color: #800000; text-decoration-color: #800000; font-weight: bold\">4</span><span style=\"color: #800000; text-decoration-color: #800000; font-weight: bold\">]</span><span style=\"color: #800000; text-decoration-color: #800000\">.</span>\n",
              "<span style=\"color: #800000; text-decoration-color: #800000\">Question: Now which action the agent should take?</span>\n",
              "</pre>\n"
            ],
            "text/plain": [
              "\u001b[31mThis is time step \u001b[0m\u001b[1;31m5\u001b[0m\u001b[31m, the current state is \u001b[0m\u001b[1;31m115\u001b[0m\u001b[31m, and the available actions are \u001b[0m\u001b[1;31m[\u001b[0m\u001b[1;31m0\u001b[0m\u001b[31m, \u001b[0m\u001b[1;31m1\u001b[0m\u001b[31m, \u001b[0m\u001b[1;31m2\u001b[0m\u001b[31m, \u001b[0m\u001b[1;31m3\u001b[0m\u001b[31m, \u001b[0m\u001b[1;31m4\u001b[0m\u001b[1;31m]\u001b[0m\u001b[31m.\u001b[0m\n",
              "\u001b[31mQuestion: Now which action the agent should take?\u001b[0m\n"
            ]
          },
          "metadata": {},
          "output_type": "display_data"
        },
        {
          "data": {
            "text/html": [
              "<pre style=\"white-space:pre;overflow-x:auto;line-height:normal;font-family:Menlo,'DejaVu Sans Mono',consolas,'Courier New',monospace\">Question: This is time step <span style=\"color: #008080; text-decoration-color: #008080; font-weight: bold\">5</span>, the current state is <span style=\"color: #008080; text-decoration-color: #008080; font-weight: bold\">115</span>, and the available actions are <span style=\"font-weight: bold\">[</span><span style=\"color: #008080; text-decoration-color: #008080; font-weight: bold\">0</span>, <span style=\"color: #008080; text-decoration-color: #008080; font-weight: bold\">1</span>, <span style=\"color: #008080; text-decoration-color: #008080; font-weight: bold\">2</span>, <span style=\"color: #008080; text-decoration-color: #008080; font-weight: bold\">3</span>, <span style=\"color: #008080; text-decoration-color: #008080; font-weight: bold\">4</span><span style=\"font-weight: bold\">]</span>.\n",
              "Question: Now which action the agent should take?\n",
              "</pre>\n"
            ],
            "text/plain": [
              "Question: This is time step \u001b[1;36m5\u001b[0m, the current state is \u001b[1;36m115\u001b[0m, and the available actions are \u001b[1m[\u001b[0m\u001b[1;36m0\u001b[0m, \u001b[1;36m1\u001b[0m, \u001b[1;36m2\u001b[0m, \u001b[1;36m3\u001b[0m, \u001b[1;36m4\u001b[0m\u001b[1m]\u001b[0m.\n",
              "Question: Now which action the agent should take?\n"
            ]
          },
          "metadata": {},
          "output_type": "display_data"
        },
        {
          "data": {
            "text/html": [
              "<pre style=\"white-space:pre;overflow-x:auto;line-height:normal;font-family:Menlo,'DejaVu Sans Mono',consolas,'Courier New',monospace\">Thought: I should retrieve the Q values for the current state, which is <span style=\"color: #008080; text-decoration-color: #008080; font-weight: bold\">115</span>, and time step, which is <span style=\"color: #008080; text-decoration-color: #008080; font-weight: bold\">5</span>.\n",
              "</pre>\n"
            ],
            "text/plain": [
              "Thought: I should retrieve the Q values for the current state, which is \u001b[1;36m115\u001b[0m, and time step, which is \u001b[1;36m5\u001b[0m.\n"
            ]
          },
          "metadata": {},
          "output_type": "display_data"
        },
        {
          "data": {
            "text/html": [
              "<pre style=\"white-space:pre;overflow-x:auto;line-height:normal;font-family:Menlo,'DejaVu Sans Mono',consolas,'Courier New',monospace\">Operation: call function GetQ with inputs <span style=\"color: #808000; text-decoration-color: #808000\">time_step</span>=<span style=\"color: #008080; text-decoration-color: #008080; font-weight: bold\">5</span> <span style=\"color: #808000; text-decoration-color: #808000\">state</span>=<span style=\"color: #008080; text-decoration-color: #008080; font-weight: bold\">115</span>\n",
              "</pre>\n"
            ],
            "text/plain": [
              "Operation: call function GetQ with inputs \u001b[33mtime_step\u001b[0m=\u001b[1;36m5\u001b[0m \u001b[33mstate\u001b[0m=\u001b[1;36m115\u001b[0m\n"
            ]
          },
          "metadata": {},
          "output_type": "display_data"
        },
        {
          "data": {
            "text/html": [
              "<pre style=\"white-space:pre;overflow-x:auto;line-height:normal;font-family:Menlo,'DejaVu Sans Mono',consolas,'Courier New',monospace\">Result: <span style=\"font-weight: bold\">[</span><span style=\"color: #008080; text-decoration-color: #008080; font-weight: bold\">33.3333</span> <span style=\"color: #008080; text-decoration-color: #008080; font-weight: bold\">35</span>.     <span style=\"color: #008080; text-decoration-color: #008080; font-weight: bold\">35</span>.     <span style=\"color: #008080; text-decoration-color: #008080; font-weight: bold\">35</span>.     <span style=\"color: #008080; text-decoration-color: #008080; font-weight: bold\">35</span>.    <span style=\"font-weight: bold\">]</span>\n",
              "</pre>\n"
            ],
            "text/plain": [
              "Result: \u001b[1m[\u001b[0m\u001b[1;36m33.3333\u001b[0m \u001b[1;36m35\u001b[0m.     \u001b[1;36m35\u001b[0m.     \u001b[1;36m35\u001b[0m.     \u001b[1;36m35\u001b[0m.    \u001b[1m]\u001b[0m\n"
            ]
          },
          "metadata": {},
          "output_type": "display_data"
        },
        {
          "data": {
            "text/html": [
              "<pre style=\"white-space:pre;overflow-x:auto;line-height:normal;font-family:Menlo,'DejaVu Sans Mono',consolas,'Courier New',monospace\">Thought: I should call function GetArgMax to get the action indices corresponding to the maximal value in the list \n",
              "<span style=\"font-weight: bold\">[</span><span style=\"color: #008080; text-decoration-color: #008080; font-weight: bold\">33.3333</span>, <span style=\"color: #008080; text-decoration-color: #008080; font-weight: bold\">35</span>, <span style=\"color: #008080; text-decoration-color: #008080; font-weight: bold\">35</span>, <span style=\"color: #008080; text-decoration-color: #008080; font-weight: bold\">35</span>, <span style=\"color: #008080; text-decoration-color: #008080; font-weight: bold\">35</span><span style=\"font-weight: bold\">]</span>.\n",
              "</pre>\n"
            ],
            "text/plain": [
              "Thought: I should call function GetArgMax to get the action indices corresponding to the maximal value in the list \n",
              "\u001b[1m[\u001b[0m\u001b[1;36m33.3333\u001b[0m, \u001b[1;36m35\u001b[0m, \u001b[1;36m35\u001b[0m, \u001b[1;36m35\u001b[0m, \u001b[1;36m35\u001b[0m\u001b[1m]\u001b[0m.\n"
            ]
          },
          "metadata": {},
          "output_type": "display_data"
        },
        {
          "data": {
            "text/html": [
              "<pre style=\"white-space:pre;overflow-x:auto;line-height:normal;font-family:Menlo,'DejaVu Sans Mono',consolas,'Courier New',monospace\">Operation: call function GetArgMax with inputs <span style=\"color: #808000; text-decoration-color: #808000\">number_list</span>=<span style=\"font-weight: bold\">[</span><span style=\"color: #008080; text-decoration-color: #008080; font-weight: bold\">33.3333</span>, <span style=\"color: #008080; text-decoration-color: #008080; font-weight: bold\">35.0</span>, <span style=\"color: #008080; text-decoration-color: #008080; font-weight: bold\">35.0</span>, <span style=\"color: #008080; text-decoration-color: #008080; font-weight: bold\">35.0</span>, <span style=\"color: #008080; text-decoration-color: #008080; font-weight: bold\">35.0</span><span style=\"font-weight: bold\">]</span>\n",
              "</pre>\n"
            ],
            "text/plain": [
              "Operation: call function GetArgMax with inputs \u001b[33mnumber_list\u001b[0m=\u001b[1m[\u001b[0m\u001b[1;36m33.3333\u001b[0m, \u001b[1;36m35.0\u001b[0m, \u001b[1;36m35.0\u001b[0m, \u001b[1;36m35.0\u001b[0m, \u001b[1;36m35.0\u001b[0m\u001b[1m]\u001b[0m\n"
            ]
          },
          "metadata": {},
          "output_type": "display_data"
        },
        {
          "data": {
            "text/html": [
              "<pre style=\"white-space:pre;overflow-x:auto;line-height:normal;font-family:Menlo,'DejaVu Sans Mono',consolas,'Courier New',monospace\">Result: <span style=\"font-weight: bold\">[</span><span style=\"color: #008080; text-decoration-color: #008080; font-weight: bold\">1</span> <span style=\"color: #008080; text-decoration-color: #008080; font-weight: bold\">2</span> <span style=\"color: #008080; text-decoration-color: #008080; font-weight: bold\">3</span> <span style=\"color: #008080; text-decoration-color: #008080; font-weight: bold\">4</span><span style=\"font-weight: bold\">]</span>\n",
              "</pre>\n"
            ],
            "text/plain": [
              "Result: \u001b[1m[\u001b[0m\u001b[1;36m1\u001b[0m \u001b[1;36m2\u001b[0m \u001b[1;36m3\u001b[0m \u001b[1;36m4\u001b[0m\u001b[1m]\u001b[0m\n"
            ]
          },
          "metadata": {},
          "output_type": "display_data"
        },
        {
          "data": {
            "text/html": [
              "<pre style=\"white-space:pre;overflow-x:auto;line-height:normal;font-family:Menlo,'DejaVu Sans Mono',consolas,'Courier New',monospace\">Thought: There are multiple actions <span style=\"font-weight: bold\">(</span><span style=\"color: #008080; text-decoration-color: #008080; font-weight: bold\">1</span>, <span style=\"color: #008080; text-decoration-color: #008080; font-weight: bold\">2</span>, <span style=\"color: #008080; text-decoration-color: #008080; font-weight: bold\">3</span>, and <span style=\"color: #008080; text-decoration-color: #008080; font-weight: bold\">4</span><span style=\"font-weight: bold\">)</span> that maximize the Q value. I will randomly choose one of these\n",
              "actions.\n",
              "</pre>\n"
            ],
            "text/plain": [
              "Thought: There are multiple actions \u001b[1m(\u001b[0m\u001b[1;36m1\u001b[0m, \u001b[1;36m2\u001b[0m, \u001b[1;36m3\u001b[0m, and \u001b[1;36m4\u001b[0m\u001b[1m)\u001b[0m that maximize the Q value. I will randomly choose one of these\n",
              "actions.\n"
            ]
          },
          "metadata": {},
          "output_type": "display_data"
        },
        {
          "data": {
            "text/html": [
              "<pre style=\"white-space:pre;overflow-x:auto;line-height:normal;font-family:Menlo,'DejaVu Sans Mono',consolas,'Courier New',monospace\">q_optimal for current step and state <span style=\"font-weight: bold\">[</span><span style=\"color: #008080; text-decoration-color: #008080; font-weight: bold\">33.33333333</span> <span style=\"color: #008080; text-decoration-color: #008080; font-weight: bold\">35</span>.         <span style=\"color: #008080; text-decoration-color: #008080; font-weight: bold\">35</span>.         <span style=\"color: #008080; text-decoration-color: #008080; font-weight: bold\">35</span>.         <span style=\"color: #008080; text-decoration-color: #008080; font-weight: bold\">35</span>.        <span style=\"font-weight: bold\">]</span>\n",
              "</pre>\n"
            ],
            "text/plain": [
              "q_optimal for current step and state \u001b[1m[\u001b[0m\u001b[1;36m33.33333333\u001b[0m \u001b[1;36m35\u001b[0m.         \u001b[1;36m35\u001b[0m.         \u001b[1;36m35\u001b[0m.         \u001b[1;36m35\u001b[0m.        \u001b[1m]\u001b[0m\n"
            ]
          },
          "metadata": {},
          "output_type": "display_data"
        },
        {
          "data": {
            "text/html": [
              "<pre style=\"white-space:pre;overflow-x:auto;line-height:normal;font-family:Menlo,'DejaVu Sans Mono',consolas,'Courier New',monospace\"><span style=\"color: #800000; text-decoration-color: #800000\">agent: </span><span style=\"color: #800000; text-decoration-color: #800000; font-weight: bold\">1</span>\n",
              "</pre>\n"
            ],
            "text/plain": [
              "\u001b[31magent: \u001b[0m\u001b[1;31m1\u001b[0m\n"
            ]
          },
          "metadata": {},
          "output_type": "display_data"
        },
        {
          "data": {
            "text/html": [
              "<pre style=\"white-space:pre;overflow-x:auto;line-height:normal;font-family:Menlo,'DejaVu Sans Mono',consolas,'Courier New',monospace\"><span style=\"color: #800000; text-decoration-color: #800000\">metric: </span><span style=\"color: #800000; text-decoration-color: #800000; font-style: italic\">True</span>\n",
              "</pre>\n"
            ],
            "text/plain": [
              "\u001b[31mmetric: \u001b[0m\u001b[3;31mTrue\u001b[0m\n"
            ]
          },
          "metadata": {},
          "output_type": "display_data"
        },
        {
          "data": {
            "text/html": [
              "<pre style=\"white-space:pre;overflow-x:auto;line-height:normal;font-family:Menlo,'DejaVu Sans Mono',consolas,'Courier New',monospace\"><span style=\"color: #800000; text-decoration-color: #800000\">This is time step </span><span style=\"color: #800000; text-decoration-color: #800000; font-weight: bold\">6</span><span style=\"color: #800000; text-decoration-color: #800000\">, the current state is </span><span style=\"color: #800000; text-decoration-color: #800000; font-weight: bold\">116</span><span style=\"color: #800000; text-decoration-color: #800000\">, and the available actions are </span><span style=\"color: #800000; text-decoration-color: #800000; font-weight: bold\">[</span><span style=\"color: #800000; text-decoration-color: #800000; font-weight: bold\">0</span><span style=\"color: #800000; text-decoration-color: #800000\">, </span><span style=\"color: #800000; text-decoration-color: #800000; font-weight: bold\">1</span><span style=\"color: #800000; text-decoration-color: #800000\">, </span><span style=\"color: #800000; text-decoration-color: #800000; font-weight: bold\">2</span><span style=\"color: #800000; text-decoration-color: #800000\">, </span><span style=\"color: #800000; text-decoration-color: #800000; font-weight: bold\">3</span><span style=\"color: #800000; text-decoration-color: #800000\">, </span><span style=\"color: #800000; text-decoration-color: #800000; font-weight: bold\">4</span><span style=\"color: #800000; text-decoration-color: #800000; font-weight: bold\">]</span><span style=\"color: #800000; text-decoration-color: #800000\">.</span>\n",
              "<span style=\"color: #800000; text-decoration-color: #800000\">Question: Now which action the agent should take?</span>\n",
              "</pre>\n"
            ],
            "text/plain": [
              "\u001b[31mThis is time step \u001b[0m\u001b[1;31m6\u001b[0m\u001b[31m, the current state is \u001b[0m\u001b[1;31m116\u001b[0m\u001b[31m, and the available actions are \u001b[0m\u001b[1;31m[\u001b[0m\u001b[1;31m0\u001b[0m\u001b[31m, \u001b[0m\u001b[1;31m1\u001b[0m\u001b[31m, \u001b[0m\u001b[1;31m2\u001b[0m\u001b[31m, \u001b[0m\u001b[1;31m3\u001b[0m\u001b[31m, \u001b[0m\u001b[1;31m4\u001b[0m\u001b[1;31m]\u001b[0m\u001b[31m.\u001b[0m\n",
              "\u001b[31mQuestion: Now which action the agent should take?\u001b[0m\n"
            ]
          },
          "metadata": {},
          "output_type": "display_data"
        },
        {
          "data": {
            "text/html": [
              "<pre style=\"white-space:pre;overflow-x:auto;line-height:normal;font-family:Menlo,'DejaVu Sans Mono',consolas,'Courier New',monospace\">Question: This is time step <span style=\"color: #008080; text-decoration-color: #008080; font-weight: bold\">6</span>, the current state is <span style=\"color: #008080; text-decoration-color: #008080; font-weight: bold\">116</span>, and the available actions are <span style=\"font-weight: bold\">[</span><span style=\"color: #008080; text-decoration-color: #008080; font-weight: bold\">0</span>, <span style=\"color: #008080; text-decoration-color: #008080; font-weight: bold\">1</span>, <span style=\"color: #008080; text-decoration-color: #008080; font-weight: bold\">2</span>, <span style=\"color: #008080; text-decoration-color: #008080; font-weight: bold\">3</span>, <span style=\"color: #008080; text-decoration-color: #008080; font-weight: bold\">4</span><span style=\"font-weight: bold\">]</span>.\n",
              "Question: Now which action the agent should take?\n",
              "</pre>\n"
            ],
            "text/plain": [
              "Question: This is time step \u001b[1;36m6\u001b[0m, the current state is \u001b[1;36m116\u001b[0m, and the available actions are \u001b[1m[\u001b[0m\u001b[1;36m0\u001b[0m, \u001b[1;36m1\u001b[0m, \u001b[1;36m2\u001b[0m, \u001b[1;36m3\u001b[0m, \u001b[1;36m4\u001b[0m\u001b[1m]\u001b[0m.\n",
              "Question: Now which action the agent should take?\n"
            ]
          },
          "metadata": {},
          "output_type": "display_data"
        },
        {
          "data": {
            "text/html": [
              "<pre style=\"white-space:pre;overflow-x:auto;line-height:normal;font-family:Menlo,'DejaVu Sans Mono',consolas,'Courier New',monospace\">Thought: I should retrieve the Q values for the current state, which is <span style=\"color: #008080; text-decoration-color: #008080; font-weight: bold\">116</span>, and time step, which is <span style=\"color: #008080; text-decoration-color: #008080; font-weight: bold\">6</span>.\n",
              "</pre>\n"
            ],
            "text/plain": [
              "Thought: I should retrieve the Q values for the current state, which is \u001b[1;36m116\u001b[0m, and time step, which is \u001b[1;36m6\u001b[0m.\n"
            ]
          },
          "metadata": {},
          "output_type": "display_data"
        },
        {
          "data": {
            "text/html": [
              "<pre style=\"white-space:pre;overflow-x:auto;line-height:normal;font-family:Menlo,'DejaVu Sans Mono',consolas,'Courier New',monospace\">Operation: call function GetQ with inputs <span style=\"color: #808000; text-decoration-color: #808000\">time_step</span>=<span style=\"color: #008080; text-decoration-color: #008080; font-weight: bold\">6</span> <span style=\"color: #808000; text-decoration-color: #808000\">state</span>=<span style=\"color: #008080; text-decoration-color: #008080; font-weight: bold\">116</span>\n",
              "</pre>\n"
            ],
            "text/plain": [
              "Operation: call function GetQ with inputs \u001b[33mtime_step\u001b[0m=\u001b[1;36m6\u001b[0m \u001b[33mstate\u001b[0m=\u001b[1;36m116\u001b[0m\n"
            ]
          },
          "metadata": {},
          "output_type": "display_data"
        },
        {
          "data": {
            "text/html": [
              "<pre style=\"white-space:pre;overflow-x:auto;line-height:normal;font-family:Menlo,'DejaVu Sans Mono',consolas,'Courier New',monospace\">Result: <span style=\"font-weight: bold\">[</span><span style=\"color: #008080; text-decoration-color: #008080; font-weight: bold\">26.3333</span> <span style=\"color: #008080; text-decoration-color: #008080; font-weight: bold\">28</span>.     <span style=\"color: #008080; text-decoration-color: #008080; font-weight: bold\">28</span>.     <span style=\"color: #008080; text-decoration-color: #008080; font-weight: bold\">28</span>.     <span style=\"color: #008080; text-decoration-color: #008080; font-weight: bold\">28</span>.    <span style=\"font-weight: bold\">]</span>\n",
              "</pre>\n"
            ],
            "text/plain": [
              "Result: \u001b[1m[\u001b[0m\u001b[1;36m26.3333\u001b[0m \u001b[1;36m28\u001b[0m.     \u001b[1;36m28\u001b[0m.     \u001b[1;36m28\u001b[0m.     \u001b[1;36m28\u001b[0m.    \u001b[1m]\u001b[0m\n"
            ]
          },
          "metadata": {},
          "output_type": "display_data"
        },
        {
          "data": {
            "text/html": [
              "<pre style=\"white-space:pre;overflow-x:auto;line-height:normal;font-family:Menlo,'DejaVu Sans Mono',consolas,'Courier New',monospace\">Thought: I should call function GetArgMax to get the action indices corresponding to the maximal value in the list \n",
              "<span style=\"font-weight: bold\">[</span><span style=\"color: #008080; text-decoration-color: #008080; font-weight: bold\">26.3333</span>, <span style=\"color: #008080; text-decoration-color: #008080; font-weight: bold\">28</span>, <span style=\"color: #008080; text-decoration-color: #008080; font-weight: bold\">28</span>, <span style=\"color: #008080; text-decoration-color: #008080; font-weight: bold\">28</span>, <span style=\"color: #008080; text-decoration-color: #008080; font-weight: bold\">28</span><span style=\"font-weight: bold\">]</span>.\n",
              "</pre>\n"
            ],
            "text/plain": [
              "Thought: I should call function GetArgMax to get the action indices corresponding to the maximal value in the list \n",
              "\u001b[1m[\u001b[0m\u001b[1;36m26.3333\u001b[0m, \u001b[1;36m28\u001b[0m, \u001b[1;36m28\u001b[0m, \u001b[1;36m28\u001b[0m, \u001b[1;36m28\u001b[0m\u001b[1m]\u001b[0m.\n"
            ]
          },
          "metadata": {},
          "output_type": "display_data"
        },
        {
          "data": {
            "text/html": [
              "<pre style=\"white-space:pre;overflow-x:auto;line-height:normal;font-family:Menlo,'DejaVu Sans Mono',consolas,'Courier New',monospace\">Operation: call function GetArgMax with inputs <span style=\"color: #808000; text-decoration-color: #808000\">number_list</span>=<span style=\"font-weight: bold\">[</span><span style=\"color: #008080; text-decoration-color: #008080; font-weight: bold\">26.3333</span>, <span style=\"color: #008080; text-decoration-color: #008080; font-weight: bold\">28.0</span>, <span style=\"color: #008080; text-decoration-color: #008080; font-weight: bold\">28.0</span>, <span style=\"color: #008080; text-decoration-color: #008080; font-weight: bold\">28.0</span>, <span style=\"color: #008080; text-decoration-color: #008080; font-weight: bold\">28.0</span><span style=\"font-weight: bold\">]</span>\n",
              "</pre>\n"
            ],
            "text/plain": [
              "Operation: call function GetArgMax with inputs \u001b[33mnumber_list\u001b[0m=\u001b[1m[\u001b[0m\u001b[1;36m26.3333\u001b[0m, \u001b[1;36m28.0\u001b[0m, \u001b[1;36m28.0\u001b[0m, \u001b[1;36m28.0\u001b[0m, \u001b[1;36m28.0\u001b[0m\u001b[1m]\u001b[0m\n"
            ]
          },
          "metadata": {},
          "output_type": "display_data"
        },
        {
          "data": {
            "text/html": [
              "<pre style=\"white-space:pre;overflow-x:auto;line-height:normal;font-family:Menlo,'DejaVu Sans Mono',consolas,'Courier New',monospace\">Result: <span style=\"font-weight: bold\">[</span><span style=\"color: #008080; text-decoration-color: #008080; font-weight: bold\">1</span> <span style=\"color: #008080; text-decoration-color: #008080; font-weight: bold\">2</span> <span style=\"color: #008080; text-decoration-color: #008080; font-weight: bold\">3</span> <span style=\"color: #008080; text-decoration-color: #008080; font-weight: bold\">4</span><span style=\"font-weight: bold\">]</span>\n",
              "</pre>\n"
            ],
            "text/plain": [
              "Result: \u001b[1m[\u001b[0m\u001b[1;36m1\u001b[0m \u001b[1;36m2\u001b[0m \u001b[1;36m3\u001b[0m \u001b[1;36m4\u001b[0m\u001b[1m]\u001b[0m\n"
            ]
          },
          "metadata": {},
          "output_type": "display_data"
        },
        {
          "data": {
            "text/html": [
              "<pre style=\"white-space:pre;overflow-x:auto;line-height:normal;font-family:Menlo,'DejaVu Sans Mono',consolas,'Courier New',monospace\">Thought: There are multiple actions <span style=\"font-weight: bold\">(</span><span style=\"color: #008080; text-decoration-color: #008080; font-weight: bold\">1</span>, <span style=\"color: #008080; text-decoration-color: #008080; font-weight: bold\">2</span>, <span style=\"color: #008080; text-decoration-color: #008080; font-weight: bold\">3</span>, and <span style=\"color: #008080; text-decoration-color: #008080; font-weight: bold\">4</span><span style=\"font-weight: bold\">)</span> that maximize the Q value. I will randomly choose one of these\n",
              "actions.\n",
              "</pre>\n"
            ],
            "text/plain": [
              "Thought: There are multiple actions \u001b[1m(\u001b[0m\u001b[1;36m1\u001b[0m, \u001b[1;36m2\u001b[0m, \u001b[1;36m3\u001b[0m, and \u001b[1;36m4\u001b[0m\u001b[1m)\u001b[0m that maximize the Q value. I will randomly choose one of these\n",
              "actions.\n"
            ]
          },
          "metadata": {},
          "output_type": "display_data"
        },
        {
          "data": {
            "text/html": [
              "<pre style=\"white-space:pre;overflow-x:auto;line-height:normal;font-family:Menlo,'DejaVu Sans Mono',consolas,'Courier New',monospace\">q_optimal for current step and state <span style=\"font-weight: bold\">[</span><span style=\"color: #008080; text-decoration-color: #008080; font-weight: bold\">26.33333333</span> <span style=\"color: #008080; text-decoration-color: #008080; font-weight: bold\">28</span>.         <span style=\"color: #008080; text-decoration-color: #008080; font-weight: bold\">28</span>.         <span style=\"color: #008080; text-decoration-color: #008080; font-weight: bold\">28</span>.         <span style=\"color: #008080; text-decoration-color: #008080; font-weight: bold\">28</span>.        <span style=\"font-weight: bold\">]</span>\n",
              "</pre>\n"
            ],
            "text/plain": [
              "q_optimal for current step and state \u001b[1m[\u001b[0m\u001b[1;36m26.33333333\u001b[0m \u001b[1;36m28\u001b[0m.         \u001b[1;36m28\u001b[0m.         \u001b[1;36m28\u001b[0m.         \u001b[1;36m28\u001b[0m.        \u001b[1m]\u001b[0m\n"
            ]
          },
          "metadata": {},
          "output_type": "display_data"
        },
        {
          "data": {
            "text/html": [
              "<pre style=\"white-space:pre;overflow-x:auto;line-height:normal;font-family:Menlo,'DejaVu Sans Mono',consolas,'Courier New',monospace\"><span style=\"color: #800000; text-decoration-color: #800000\">agent: </span><span style=\"color: #800000; text-decoration-color: #800000; font-weight: bold\">2</span>\n",
              "</pre>\n"
            ],
            "text/plain": [
              "\u001b[31magent: \u001b[0m\u001b[1;31m2\u001b[0m\n"
            ]
          },
          "metadata": {},
          "output_type": "display_data"
        },
        {
          "data": {
            "text/html": [
              "<pre style=\"white-space:pre;overflow-x:auto;line-height:normal;font-family:Menlo,'DejaVu Sans Mono',consolas,'Courier New',monospace\"><span style=\"color: #800000; text-decoration-color: #800000\">metric: </span><span style=\"color: #800000; text-decoration-color: #800000; font-style: italic\">True</span>\n",
              "</pre>\n"
            ],
            "text/plain": [
              "\u001b[31mmetric: \u001b[0m\u001b[3;31mTrue\u001b[0m\n"
            ]
          },
          "metadata": {},
          "output_type": "display_data"
        },
        {
          "data": {
            "text/html": [
              "<pre style=\"white-space:pre;overflow-x:auto;line-height:normal;font-family:Menlo,'DejaVu Sans Mono',consolas,'Courier New',monospace\"><span style=\"color: #800000; text-decoration-color: #800000\">This is time step </span><span style=\"color: #800000; text-decoration-color: #800000; font-weight: bold\">7</span><span style=\"color: #800000; text-decoration-color: #800000\">, the current state is </span><span style=\"color: #800000; text-decoration-color: #800000; font-weight: bold\">117</span><span style=\"color: #800000; text-decoration-color: #800000\">, and the available actions are </span><span style=\"color: #800000; text-decoration-color: #800000; font-weight: bold\">[</span><span style=\"color: #800000; text-decoration-color: #800000; font-weight: bold\">0</span><span style=\"color: #800000; text-decoration-color: #800000\">, </span><span style=\"color: #800000; text-decoration-color: #800000; font-weight: bold\">1</span><span style=\"color: #800000; text-decoration-color: #800000\">, </span><span style=\"color: #800000; text-decoration-color: #800000; font-weight: bold\">2</span><span style=\"color: #800000; text-decoration-color: #800000\">, </span><span style=\"color: #800000; text-decoration-color: #800000; font-weight: bold\">3</span><span style=\"color: #800000; text-decoration-color: #800000\">, </span><span style=\"color: #800000; text-decoration-color: #800000; font-weight: bold\">4</span><span style=\"color: #800000; text-decoration-color: #800000; font-weight: bold\">]</span><span style=\"color: #800000; text-decoration-color: #800000\">.</span>\n",
              "<span style=\"color: #800000; text-decoration-color: #800000\">Question: Now which action the agent should take?</span>\n",
              "</pre>\n"
            ],
            "text/plain": [
              "\u001b[31mThis is time step \u001b[0m\u001b[1;31m7\u001b[0m\u001b[31m, the current state is \u001b[0m\u001b[1;31m117\u001b[0m\u001b[31m, and the available actions are \u001b[0m\u001b[1;31m[\u001b[0m\u001b[1;31m0\u001b[0m\u001b[31m, \u001b[0m\u001b[1;31m1\u001b[0m\u001b[31m, \u001b[0m\u001b[1;31m2\u001b[0m\u001b[31m, \u001b[0m\u001b[1;31m3\u001b[0m\u001b[31m, \u001b[0m\u001b[1;31m4\u001b[0m\u001b[1;31m]\u001b[0m\u001b[31m.\u001b[0m\n",
              "\u001b[31mQuestion: Now which action the agent should take?\u001b[0m\n"
            ]
          },
          "metadata": {},
          "output_type": "display_data"
        },
        {
          "data": {
            "text/html": [
              "<pre style=\"white-space:pre;overflow-x:auto;line-height:normal;font-family:Menlo,'DejaVu Sans Mono',consolas,'Courier New',monospace\">Question: This is time step <span style=\"color: #008080; text-decoration-color: #008080; font-weight: bold\">7</span>, the current state is <span style=\"color: #008080; text-decoration-color: #008080; font-weight: bold\">117</span>, and the available actions are <span style=\"font-weight: bold\">[</span><span style=\"color: #008080; text-decoration-color: #008080; font-weight: bold\">0</span>, <span style=\"color: #008080; text-decoration-color: #008080; font-weight: bold\">1</span>, <span style=\"color: #008080; text-decoration-color: #008080; font-weight: bold\">2</span>, <span style=\"color: #008080; text-decoration-color: #008080; font-weight: bold\">3</span>, <span style=\"color: #008080; text-decoration-color: #008080; font-weight: bold\">4</span><span style=\"font-weight: bold\">]</span>.\n",
              "Question: Now which action the agent should take?\n",
              "</pre>\n"
            ],
            "text/plain": [
              "Question: This is time step \u001b[1;36m7\u001b[0m, the current state is \u001b[1;36m117\u001b[0m, and the available actions are \u001b[1m[\u001b[0m\u001b[1;36m0\u001b[0m, \u001b[1;36m1\u001b[0m, \u001b[1;36m2\u001b[0m, \u001b[1;36m3\u001b[0m, \u001b[1;36m4\u001b[0m\u001b[1m]\u001b[0m.\n",
              "Question: Now which action the agent should take?\n"
            ]
          },
          "metadata": {},
          "output_type": "display_data"
        },
        {
          "data": {
            "text/html": [
              "<pre style=\"white-space:pre;overflow-x:auto;line-height:normal;font-family:Menlo,'DejaVu Sans Mono',consolas,'Courier New',monospace\">Thought: I should retrieve the Q values for the current state, which is <span style=\"color: #008080; text-decoration-color: #008080; font-weight: bold\">117</span>, and time step, which is <span style=\"color: #008080; text-decoration-color: #008080; font-weight: bold\">7</span>.\n",
              "</pre>\n"
            ],
            "text/plain": [
              "Thought: I should retrieve the Q values for the current state, which is \u001b[1;36m117\u001b[0m, and time step, which is \u001b[1;36m7\u001b[0m.\n"
            ]
          },
          "metadata": {},
          "output_type": "display_data"
        },
        {
          "data": {
            "text/html": [
              "<pre style=\"white-space:pre;overflow-x:auto;line-height:normal;font-family:Menlo,'DejaVu Sans Mono',consolas,'Courier New',monospace\">Operation: call function GetQ with inputs <span style=\"color: #808000; text-decoration-color: #808000\">time_step</span>=<span style=\"color: #008080; text-decoration-color: #008080; font-weight: bold\">7</span> <span style=\"color: #808000; text-decoration-color: #808000\">state</span>=<span style=\"color: #008080; text-decoration-color: #008080; font-weight: bold\">117</span>\n",
              "</pre>\n"
            ],
            "text/plain": [
              "Operation: call function GetQ with inputs \u001b[33mtime_step\u001b[0m=\u001b[1;36m7\u001b[0m \u001b[33mstate\u001b[0m=\u001b[1;36m117\u001b[0m\n"
            ]
          },
          "metadata": {},
          "output_type": "display_data"
        },
        {
          "data": {
            "text/html": [
              "<pre style=\"white-space:pre;overflow-x:auto;line-height:normal;font-family:Menlo,'DejaVu Sans Mono',consolas,'Courier New',monospace\">Result: <span style=\"font-weight: bold\">[</span><span style=\"color: #008080; text-decoration-color: #008080; font-weight: bold\">19.3333</span> <span style=\"color: #008080; text-decoration-color: #008080; font-weight: bold\">21</span>.     <span style=\"color: #008080; text-decoration-color: #008080; font-weight: bold\">21</span>.     <span style=\"color: #008080; text-decoration-color: #008080; font-weight: bold\">21</span>.     <span style=\"color: #008080; text-decoration-color: #008080; font-weight: bold\">21</span>.    <span style=\"font-weight: bold\">]</span>\n",
              "</pre>\n"
            ],
            "text/plain": [
              "Result: \u001b[1m[\u001b[0m\u001b[1;36m19.3333\u001b[0m \u001b[1;36m21\u001b[0m.     \u001b[1;36m21\u001b[0m.     \u001b[1;36m21\u001b[0m.     \u001b[1;36m21\u001b[0m.    \u001b[1m]\u001b[0m\n"
            ]
          },
          "metadata": {},
          "output_type": "display_data"
        },
        {
          "data": {
            "text/html": [
              "<pre style=\"white-space:pre;overflow-x:auto;line-height:normal;font-family:Menlo,'DejaVu Sans Mono',consolas,'Courier New',monospace\">Thought: I should call function GetArgMax to get the action indices corresponding to the maximal value in the list \n",
              "<span style=\"font-weight: bold\">[</span><span style=\"color: #008080; text-decoration-color: #008080; font-weight: bold\">19.3333</span>, <span style=\"color: #008080; text-decoration-color: #008080; font-weight: bold\">21</span>, <span style=\"color: #008080; text-decoration-color: #008080; font-weight: bold\">21</span>, <span style=\"color: #008080; text-decoration-color: #008080; font-weight: bold\">21</span>, <span style=\"color: #008080; text-decoration-color: #008080; font-weight: bold\">21</span><span style=\"font-weight: bold\">]</span>.\n",
              "</pre>\n"
            ],
            "text/plain": [
              "Thought: I should call function GetArgMax to get the action indices corresponding to the maximal value in the list \n",
              "\u001b[1m[\u001b[0m\u001b[1;36m19.3333\u001b[0m, \u001b[1;36m21\u001b[0m, \u001b[1;36m21\u001b[0m, \u001b[1;36m21\u001b[0m, \u001b[1;36m21\u001b[0m\u001b[1m]\u001b[0m.\n"
            ]
          },
          "metadata": {},
          "output_type": "display_data"
        },
        {
          "data": {
            "text/html": [
              "<pre style=\"white-space:pre;overflow-x:auto;line-height:normal;font-family:Menlo,'DejaVu Sans Mono',consolas,'Courier New',monospace\">Operation: call function GetArgMax with inputs <span style=\"color: #808000; text-decoration-color: #808000\">number_list</span>=<span style=\"font-weight: bold\">[</span><span style=\"color: #008080; text-decoration-color: #008080; font-weight: bold\">19.3333</span>, <span style=\"color: #008080; text-decoration-color: #008080; font-weight: bold\">21.0</span>, <span style=\"color: #008080; text-decoration-color: #008080; font-weight: bold\">21.0</span>, <span style=\"color: #008080; text-decoration-color: #008080; font-weight: bold\">21.0</span>, <span style=\"color: #008080; text-decoration-color: #008080; font-weight: bold\">21.0</span><span style=\"font-weight: bold\">]</span>\n",
              "</pre>\n"
            ],
            "text/plain": [
              "Operation: call function GetArgMax with inputs \u001b[33mnumber_list\u001b[0m=\u001b[1m[\u001b[0m\u001b[1;36m19.3333\u001b[0m, \u001b[1;36m21.0\u001b[0m, \u001b[1;36m21.0\u001b[0m, \u001b[1;36m21.0\u001b[0m, \u001b[1;36m21.0\u001b[0m\u001b[1m]\u001b[0m\n"
            ]
          },
          "metadata": {},
          "output_type": "display_data"
        },
        {
          "data": {
            "text/html": [
              "<pre style=\"white-space:pre;overflow-x:auto;line-height:normal;font-family:Menlo,'DejaVu Sans Mono',consolas,'Courier New',monospace\">Result: <span style=\"font-weight: bold\">[</span><span style=\"color: #008080; text-decoration-color: #008080; font-weight: bold\">1</span> <span style=\"color: #008080; text-decoration-color: #008080; font-weight: bold\">2</span> <span style=\"color: #008080; text-decoration-color: #008080; font-weight: bold\">3</span> <span style=\"color: #008080; text-decoration-color: #008080; font-weight: bold\">4</span><span style=\"font-weight: bold\">]</span>\n",
              "</pre>\n"
            ],
            "text/plain": [
              "Result: \u001b[1m[\u001b[0m\u001b[1;36m1\u001b[0m \u001b[1;36m2\u001b[0m \u001b[1;36m3\u001b[0m \u001b[1;36m4\u001b[0m\u001b[1m]\u001b[0m\n"
            ]
          },
          "metadata": {},
          "output_type": "display_data"
        },
        {
          "data": {
            "text/html": [
              "<pre style=\"white-space:pre;overflow-x:auto;line-height:normal;font-family:Menlo,'DejaVu Sans Mono',consolas,'Courier New',monospace\">Thought: There are multiple actions <span style=\"font-weight: bold\">(</span><span style=\"color: #008080; text-decoration-color: #008080; font-weight: bold\">1</span>, <span style=\"color: #008080; text-decoration-color: #008080; font-weight: bold\">2</span>, <span style=\"color: #008080; text-decoration-color: #008080; font-weight: bold\">3</span>, and <span style=\"color: #008080; text-decoration-color: #008080; font-weight: bold\">4</span><span style=\"font-weight: bold\">)</span> that maximize the Q value. I will randomly choose one of these\n",
              "actions.\n",
              "</pre>\n"
            ],
            "text/plain": [
              "Thought: There are multiple actions \u001b[1m(\u001b[0m\u001b[1;36m1\u001b[0m, \u001b[1;36m2\u001b[0m, \u001b[1;36m3\u001b[0m, and \u001b[1;36m4\u001b[0m\u001b[1m)\u001b[0m that maximize the Q value. I will randomly choose one of these\n",
              "actions.\n"
            ]
          },
          "metadata": {},
          "output_type": "display_data"
        },
        {
          "data": {
            "text/html": [
              "<pre style=\"white-space:pre;overflow-x:auto;line-height:normal;font-family:Menlo,'DejaVu Sans Mono',consolas,'Courier New',monospace\">q_optimal for current step and state <span style=\"font-weight: bold\">[</span><span style=\"color: #008080; text-decoration-color: #008080; font-weight: bold\">19.33333333</span> <span style=\"color: #008080; text-decoration-color: #008080; font-weight: bold\">21</span>.         <span style=\"color: #008080; text-decoration-color: #008080; font-weight: bold\">21</span>.         <span style=\"color: #008080; text-decoration-color: #008080; font-weight: bold\">21</span>.         <span style=\"color: #008080; text-decoration-color: #008080; font-weight: bold\">21</span>.        <span style=\"font-weight: bold\">]</span>\n",
              "</pre>\n"
            ],
            "text/plain": [
              "q_optimal for current step and state \u001b[1m[\u001b[0m\u001b[1;36m19.33333333\u001b[0m \u001b[1;36m21\u001b[0m.         \u001b[1;36m21\u001b[0m.         \u001b[1;36m21\u001b[0m.         \u001b[1;36m21\u001b[0m.        \u001b[1m]\u001b[0m\n"
            ]
          },
          "metadata": {},
          "output_type": "display_data"
        },
        {
          "data": {
            "text/html": [
              "<pre style=\"white-space:pre;overflow-x:auto;line-height:normal;font-family:Menlo,'DejaVu Sans Mono',consolas,'Courier New',monospace\"><span style=\"color: #800000; text-decoration-color: #800000\">agent: </span><span style=\"color: #800000; text-decoration-color: #800000; font-weight: bold\">2</span>\n",
              "</pre>\n"
            ],
            "text/plain": [
              "\u001b[31magent: \u001b[0m\u001b[1;31m2\u001b[0m\n"
            ]
          },
          "metadata": {},
          "output_type": "display_data"
        },
        {
          "data": {
            "text/html": [
              "<pre style=\"white-space:pre;overflow-x:auto;line-height:normal;font-family:Menlo,'DejaVu Sans Mono',consolas,'Courier New',monospace\"><span style=\"color: #800000; text-decoration-color: #800000\">metric: </span><span style=\"color: #800000; text-decoration-color: #800000; font-style: italic\">True</span>\n",
              "</pre>\n"
            ],
            "text/plain": [
              "\u001b[31mmetric: \u001b[0m\u001b[3;31mTrue\u001b[0m\n"
            ]
          },
          "metadata": {},
          "output_type": "display_data"
        },
        {
          "data": {
            "text/html": [
              "<pre style=\"white-space:pre;overflow-x:auto;line-height:normal;font-family:Menlo,'DejaVu Sans Mono',consolas,'Courier New',monospace\"><span style=\"color: #800000; text-decoration-color: #800000\">This is time step </span><span style=\"color: #800000; text-decoration-color: #800000; font-weight: bold\">8</span><span style=\"color: #800000; text-decoration-color: #800000\">, the current state is </span><span style=\"color: #800000; text-decoration-color: #800000; font-weight: bold\">118</span><span style=\"color: #800000; text-decoration-color: #800000\">, and the available actions are </span><span style=\"color: #800000; text-decoration-color: #800000; font-weight: bold\">[</span><span style=\"color: #800000; text-decoration-color: #800000; font-weight: bold\">0</span><span style=\"color: #800000; text-decoration-color: #800000\">, </span><span style=\"color: #800000; text-decoration-color: #800000; font-weight: bold\">1</span><span style=\"color: #800000; text-decoration-color: #800000\">, </span><span style=\"color: #800000; text-decoration-color: #800000; font-weight: bold\">2</span><span style=\"color: #800000; text-decoration-color: #800000\">, </span><span style=\"color: #800000; text-decoration-color: #800000; font-weight: bold\">3</span><span style=\"color: #800000; text-decoration-color: #800000\">, </span><span style=\"color: #800000; text-decoration-color: #800000; font-weight: bold\">4</span><span style=\"color: #800000; text-decoration-color: #800000; font-weight: bold\">]</span><span style=\"color: #800000; text-decoration-color: #800000\">.</span>\n",
              "<span style=\"color: #800000; text-decoration-color: #800000\">Question: Now which action the agent should take?</span>\n",
              "</pre>\n"
            ],
            "text/plain": [
              "\u001b[31mThis is time step \u001b[0m\u001b[1;31m8\u001b[0m\u001b[31m, the current state is \u001b[0m\u001b[1;31m118\u001b[0m\u001b[31m, and the available actions are \u001b[0m\u001b[1;31m[\u001b[0m\u001b[1;31m0\u001b[0m\u001b[31m, \u001b[0m\u001b[1;31m1\u001b[0m\u001b[31m, \u001b[0m\u001b[1;31m2\u001b[0m\u001b[31m, \u001b[0m\u001b[1;31m3\u001b[0m\u001b[31m, \u001b[0m\u001b[1;31m4\u001b[0m\u001b[1;31m]\u001b[0m\u001b[31m.\u001b[0m\n",
              "\u001b[31mQuestion: Now which action the agent should take?\u001b[0m\n"
            ]
          },
          "metadata": {},
          "output_type": "display_data"
        },
        {
          "data": {
            "text/html": [
              "<pre style=\"white-space:pre;overflow-x:auto;line-height:normal;font-family:Menlo,'DejaVu Sans Mono',consolas,'Courier New',monospace\">Question: This is time step <span style=\"color: #008080; text-decoration-color: #008080; font-weight: bold\">8</span>, the current state is <span style=\"color: #008080; text-decoration-color: #008080; font-weight: bold\">118</span>, and the available actions are <span style=\"font-weight: bold\">[</span><span style=\"color: #008080; text-decoration-color: #008080; font-weight: bold\">0</span>, <span style=\"color: #008080; text-decoration-color: #008080; font-weight: bold\">1</span>, <span style=\"color: #008080; text-decoration-color: #008080; font-weight: bold\">2</span>, <span style=\"color: #008080; text-decoration-color: #008080; font-weight: bold\">3</span>, <span style=\"color: #008080; text-decoration-color: #008080; font-weight: bold\">4</span><span style=\"font-weight: bold\">]</span>.\n",
              "Question: Now which action the agent should take?\n",
              "</pre>\n"
            ],
            "text/plain": [
              "Question: This is time step \u001b[1;36m8\u001b[0m, the current state is \u001b[1;36m118\u001b[0m, and the available actions are \u001b[1m[\u001b[0m\u001b[1;36m0\u001b[0m, \u001b[1;36m1\u001b[0m, \u001b[1;36m2\u001b[0m, \u001b[1;36m3\u001b[0m, \u001b[1;36m4\u001b[0m\u001b[1m]\u001b[0m.\n",
              "Question: Now which action the agent should take?\n"
            ]
          },
          "metadata": {},
          "output_type": "display_data"
        },
        {
          "data": {
            "text/html": [
              "<pre style=\"white-space:pre;overflow-x:auto;line-height:normal;font-family:Menlo,'DejaVu Sans Mono',consolas,'Courier New',monospace\">Thought: I should retrieve the Q values for the current state, which is <span style=\"color: #008080; text-decoration-color: #008080; font-weight: bold\">118</span>, and time step, which is <span style=\"color: #008080; text-decoration-color: #008080; font-weight: bold\">8</span>.\n",
              "</pre>\n"
            ],
            "text/plain": [
              "Thought: I should retrieve the Q values for the current state, which is \u001b[1;36m118\u001b[0m, and time step, which is \u001b[1;36m8\u001b[0m.\n"
            ]
          },
          "metadata": {},
          "output_type": "display_data"
        },
        {
          "data": {
            "text/html": [
              "<pre style=\"white-space:pre;overflow-x:auto;line-height:normal;font-family:Menlo,'DejaVu Sans Mono',consolas,'Courier New',monospace\">Operation: call function GetQ with inputs <span style=\"color: #808000; text-decoration-color: #808000\">time_step</span>=<span style=\"color: #008080; text-decoration-color: #008080; font-weight: bold\">8</span> <span style=\"color: #808000; text-decoration-color: #808000\">state</span>=<span style=\"color: #008080; text-decoration-color: #008080; font-weight: bold\">118</span>\n",
              "</pre>\n"
            ],
            "text/plain": [
              "Operation: call function GetQ with inputs \u001b[33mtime_step\u001b[0m=\u001b[1;36m8\u001b[0m \u001b[33mstate\u001b[0m=\u001b[1;36m118\u001b[0m\n"
            ]
          },
          "metadata": {},
          "output_type": "display_data"
        },
        {
          "data": {
            "text/html": [
              "<pre style=\"white-space:pre;overflow-x:auto;line-height:normal;font-family:Menlo,'DejaVu Sans Mono',consolas,'Courier New',monospace\">Result: <span style=\"font-weight: bold\">[</span><span style=\"color: #008080; text-decoration-color: #008080; font-weight: bold\">12.3333</span> <span style=\"color: #008080; text-decoration-color: #008080; font-weight: bold\">14</span>.     <span style=\"color: #008080; text-decoration-color: #008080; font-weight: bold\">14</span>.     <span style=\"color: #008080; text-decoration-color: #008080; font-weight: bold\">14</span>.     <span style=\"color: #008080; text-decoration-color: #008080; font-weight: bold\">14</span>.    <span style=\"font-weight: bold\">]</span>\n",
              "</pre>\n"
            ],
            "text/plain": [
              "Result: \u001b[1m[\u001b[0m\u001b[1;36m12.3333\u001b[0m \u001b[1;36m14\u001b[0m.     \u001b[1;36m14\u001b[0m.     \u001b[1;36m14\u001b[0m.     \u001b[1;36m14\u001b[0m.    \u001b[1m]\u001b[0m\n"
            ]
          },
          "metadata": {},
          "output_type": "display_data"
        },
        {
          "data": {
            "text/html": [
              "<pre style=\"white-space:pre;overflow-x:auto;line-height:normal;font-family:Menlo,'DejaVu Sans Mono',consolas,'Courier New',monospace\">Thought: I should call function GetArgMax to get the action indices corresponding to the maximal value in the list \n",
              "<span style=\"font-weight: bold\">[</span><span style=\"color: #008080; text-decoration-color: #008080; font-weight: bold\">12.3333</span>, <span style=\"color: #008080; text-decoration-color: #008080; font-weight: bold\">14</span>, <span style=\"color: #008080; text-decoration-color: #008080; font-weight: bold\">14</span>, <span style=\"color: #008080; text-decoration-color: #008080; font-weight: bold\">14</span>, <span style=\"color: #008080; text-decoration-color: #008080; font-weight: bold\">14</span><span style=\"font-weight: bold\">]</span>.\n",
              "</pre>\n"
            ],
            "text/plain": [
              "Thought: I should call function GetArgMax to get the action indices corresponding to the maximal value in the list \n",
              "\u001b[1m[\u001b[0m\u001b[1;36m12.3333\u001b[0m, \u001b[1;36m14\u001b[0m, \u001b[1;36m14\u001b[0m, \u001b[1;36m14\u001b[0m, \u001b[1;36m14\u001b[0m\u001b[1m]\u001b[0m.\n"
            ]
          },
          "metadata": {},
          "output_type": "display_data"
        },
        {
          "data": {
            "text/html": [
              "<pre style=\"white-space:pre;overflow-x:auto;line-height:normal;font-family:Menlo,'DejaVu Sans Mono',consolas,'Courier New',monospace\">Operation: call function GetArgMax with inputs <span style=\"color: #808000; text-decoration-color: #808000\">number_list</span>=<span style=\"font-weight: bold\">[</span><span style=\"color: #008080; text-decoration-color: #008080; font-weight: bold\">12.3333</span>, <span style=\"color: #008080; text-decoration-color: #008080; font-weight: bold\">14.0</span>, <span style=\"color: #008080; text-decoration-color: #008080; font-weight: bold\">14.0</span>, <span style=\"color: #008080; text-decoration-color: #008080; font-weight: bold\">14.0</span>, <span style=\"color: #008080; text-decoration-color: #008080; font-weight: bold\">14.0</span><span style=\"font-weight: bold\">]</span>\n",
              "</pre>\n"
            ],
            "text/plain": [
              "Operation: call function GetArgMax with inputs \u001b[33mnumber_list\u001b[0m=\u001b[1m[\u001b[0m\u001b[1;36m12.3333\u001b[0m, \u001b[1;36m14.0\u001b[0m, \u001b[1;36m14.0\u001b[0m, \u001b[1;36m14.0\u001b[0m, \u001b[1;36m14.0\u001b[0m\u001b[1m]\u001b[0m\n"
            ]
          },
          "metadata": {},
          "output_type": "display_data"
        },
        {
          "data": {
            "text/html": [
              "<pre style=\"white-space:pre;overflow-x:auto;line-height:normal;font-family:Menlo,'DejaVu Sans Mono',consolas,'Courier New',monospace\">Result: <span style=\"font-weight: bold\">[</span><span style=\"color: #008080; text-decoration-color: #008080; font-weight: bold\">1</span> <span style=\"color: #008080; text-decoration-color: #008080; font-weight: bold\">2</span> <span style=\"color: #008080; text-decoration-color: #008080; font-weight: bold\">3</span> <span style=\"color: #008080; text-decoration-color: #008080; font-weight: bold\">4</span><span style=\"font-weight: bold\">]</span>\n",
              "</pre>\n"
            ],
            "text/plain": [
              "Result: \u001b[1m[\u001b[0m\u001b[1;36m1\u001b[0m \u001b[1;36m2\u001b[0m \u001b[1;36m3\u001b[0m \u001b[1;36m4\u001b[0m\u001b[1m]\u001b[0m\n"
            ]
          },
          "metadata": {},
          "output_type": "display_data"
        },
        {
          "data": {
            "text/html": [
              "<pre style=\"white-space:pre;overflow-x:auto;line-height:normal;font-family:Menlo,'DejaVu Sans Mono',consolas,'Courier New',monospace\">Thought: There are multiple actions <span style=\"font-weight: bold\">(</span><span style=\"color: #008080; text-decoration-color: #008080; font-weight: bold\">1</span>, <span style=\"color: #008080; text-decoration-color: #008080; font-weight: bold\">2</span>, <span style=\"color: #008080; text-decoration-color: #008080; font-weight: bold\">3</span>, and <span style=\"color: #008080; text-decoration-color: #008080; font-weight: bold\">4</span><span style=\"font-weight: bold\">)</span> that maximize the Q value. I will randomly choose one of these\n",
              "actions.\n",
              "</pre>\n"
            ],
            "text/plain": [
              "Thought: There are multiple actions \u001b[1m(\u001b[0m\u001b[1;36m1\u001b[0m, \u001b[1;36m2\u001b[0m, \u001b[1;36m3\u001b[0m, and \u001b[1;36m4\u001b[0m\u001b[1m)\u001b[0m that maximize the Q value. I will randomly choose one of these\n",
              "actions.\n"
            ]
          },
          "metadata": {},
          "output_type": "display_data"
        },
        {
          "data": {
            "text/html": [
              "<pre style=\"white-space:pre;overflow-x:auto;line-height:normal;font-family:Menlo,'DejaVu Sans Mono',consolas,'Courier New',monospace\">q_optimal for current step and state <span style=\"font-weight: bold\">[</span><span style=\"color: #008080; text-decoration-color: #008080; font-weight: bold\">12.33333333</span> <span style=\"color: #008080; text-decoration-color: #008080; font-weight: bold\">14</span>.         <span style=\"color: #008080; text-decoration-color: #008080; font-weight: bold\">14</span>.         <span style=\"color: #008080; text-decoration-color: #008080; font-weight: bold\">14</span>.         <span style=\"color: #008080; text-decoration-color: #008080; font-weight: bold\">14</span>.        <span style=\"font-weight: bold\">]</span>\n",
              "</pre>\n"
            ],
            "text/plain": [
              "q_optimal for current step and state \u001b[1m[\u001b[0m\u001b[1;36m12.33333333\u001b[0m \u001b[1;36m14\u001b[0m.         \u001b[1;36m14\u001b[0m.         \u001b[1;36m14\u001b[0m.         \u001b[1;36m14\u001b[0m.        \u001b[1m]\u001b[0m\n"
            ]
          },
          "metadata": {},
          "output_type": "display_data"
        },
        {
          "data": {
            "text/html": [
              "<pre style=\"white-space:pre;overflow-x:auto;line-height:normal;font-family:Menlo,'DejaVu Sans Mono',consolas,'Courier New',monospace\"><span style=\"color: #800000; text-decoration-color: #800000\">agent: </span><span style=\"color: #800000; text-decoration-color: #800000; font-weight: bold\">2</span>\n",
              "</pre>\n"
            ],
            "text/plain": [
              "\u001b[31magent: \u001b[0m\u001b[1;31m2\u001b[0m\n"
            ]
          },
          "metadata": {},
          "output_type": "display_data"
        },
        {
          "data": {
            "text/html": [
              "<pre style=\"white-space:pre;overflow-x:auto;line-height:normal;font-family:Menlo,'DejaVu Sans Mono',consolas,'Courier New',monospace\"><span style=\"color: #800000; text-decoration-color: #800000\">metric: </span><span style=\"color: #800000; text-decoration-color: #800000; font-style: italic\">True</span>\n",
              "</pre>\n"
            ],
            "text/plain": [
              "\u001b[31mmetric: \u001b[0m\u001b[3;31mTrue\u001b[0m\n"
            ]
          },
          "metadata": {},
          "output_type": "display_data"
        },
        {
          "data": {
            "text/html": [
              "<pre style=\"white-space:pre;overflow-x:auto;line-height:normal;font-family:Menlo,'DejaVu Sans Mono',consolas,'Courier New',monospace\"><span style=\"color: #800000; text-decoration-color: #800000\">This is time step </span><span style=\"color: #800000; text-decoration-color: #800000; font-weight: bold\">9</span><span style=\"color: #800000; text-decoration-color: #800000\">, the current state is </span><span style=\"color: #800000; text-decoration-color: #800000; font-weight: bold\">119</span><span style=\"color: #800000; text-decoration-color: #800000\">, and the available actions are </span><span style=\"color: #800000; text-decoration-color: #800000; font-weight: bold\">[</span><span style=\"color: #800000; text-decoration-color: #800000; font-weight: bold\">0</span><span style=\"color: #800000; text-decoration-color: #800000\">, </span><span style=\"color: #800000; text-decoration-color: #800000; font-weight: bold\">1</span><span style=\"color: #800000; text-decoration-color: #800000\">, </span><span style=\"color: #800000; text-decoration-color: #800000; font-weight: bold\">2</span><span style=\"color: #800000; text-decoration-color: #800000\">, </span><span style=\"color: #800000; text-decoration-color: #800000; font-weight: bold\">3</span><span style=\"color: #800000; text-decoration-color: #800000\">, </span><span style=\"color: #800000; text-decoration-color: #800000; font-weight: bold\">4</span><span style=\"color: #800000; text-decoration-color: #800000; font-weight: bold\">]</span><span style=\"color: #800000; text-decoration-color: #800000\">.</span>\n",
              "<span style=\"color: #800000; text-decoration-color: #800000\">Question: Now which action the agent should take?</span>\n",
              "</pre>\n"
            ],
            "text/plain": [
              "\u001b[31mThis is time step \u001b[0m\u001b[1;31m9\u001b[0m\u001b[31m, the current state is \u001b[0m\u001b[1;31m119\u001b[0m\u001b[31m, and the available actions are \u001b[0m\u001b[1;31m[\u001b[0m\u001b[1;31m0\u001b[0m\u001b[31m, \u001b[0m\u001b[1;31m1\u001b[0m\u001b[31m, \u001b[0m\u001b[1;31m2\u001b[0m\u001b[31m, \u001b[0m\u001b[1;31m3\u001b[0m\u001b[31m, \u001b[0m\u001b[1;31m4\u001b[0m\u001b[1;31m]\u001b[0m\u001b[31m.\u001b[0m\n",
              "\u001b[31mQuestion: Now which action the agent should take?\u001b[0m\n"
            ]
          },
          "metadata": {},
          "output_type": "display_data"
        },
        {
          "data": {
            "text/html": [
              "<pre style=\"white-space:pre;overflow-x:auto;line-height:normal;font-family:Menlo,'DejaVu Sans Mono',consolas,'Courier New',monospace\">Question: This is time step <span style=\"color: #008080; text-decoration-color: #008080; font-weight: bold\">9</span>, the current state is <span style=\"color: #008080; text-decoration-color: #008080; font-weight: bold\">119</span>, and the available actions are <span style=\"font-weight: bold\">[</span><span style=\"color: #008080; text-decoration-color: #008080; font-weight: bold\">0</span>, <span style=\"color: #008080; text-decoration-color: #008080; font-weight: bold\">1</span>, <span style=\"color: #008080; text-decoration-color: #008080; font-weight: bold\">2</span>, <span style=\"color: #008080; text-decoration-color: #008080; font-weight: bold\">3</span>, <span style=\"color: #008080; text-decoration-color: #008080; font-weight: bold\">4</span><span style=\"font-weight: bold\">]</span>.\n",
              "Question: Now which action the agent should take?\n",
              "</pre>\n"
            ],
            "text/plain": [
              "Question: This is time step \u001b[1;36m9\u001b[0m, the current state is \u001b[1;36m119\u001b[0m, and the available actions are \u001b[1m[\u001b[0m\u001b[1;36m0\u001b[0m, \u001b[1;36m1\u001b[0m, \u001b[1;36m2\u001b[0m, \u001b[1;36m3\u001b[0m, \u001b[1;36m4\u001b[0m\u001b[1m]\u001b[0m.\n",
              "Question: Now which action the agent should take?\n"
            ]
          },
          "metadata": {},
          "output_type": "display_data"
        },
        {
          "data": {
            "text/html": [
              "<pre style=\"white-space:pre;overflow-x:auto;line-height:normal;font-family:Menlo,'DejaVu Sans Mono',consolas,'Courier New',monospace\">Thought: I should retrieve the Q values for the current state, which is <span style=\"color: #008080; text-decoration-color: #008080; font-weight: bold\">119</span>, and time step, which is <span style=\"color: #008080; text-decoration-color: #008080; font-weight: bold\">9</span>.\n",
              "</pre>\n"
            ],
            "text/plain": [
              "Thought: I should retrieve the Q values for the current state, which is \u001b[1;36m119\u001b[0m, and time step, which is \u001b[1;36m9\u001b[0m.\n"
            ]
          },
          "metadata": {},
          "output_type": "display_data"
        },
        {
          "data": {
            "text/html": [
              "<pre style=\"white-space:pre;overflow-x:auto;line-height:normal;font-family:Menlo,'DejaVu Sans Mono',consolas,'Courier New',monospace\">Operation: call function GetQ with inputs <span style=\"color: #808000; text-decoration-color: #808000\">time_step</span>=<span style=\"color: #008080; text-decoration-color: #008080; font-weight: bold\">9</span> <span style=\"color: #808000; text-decoration-color: #808000\">state</span>=<span style=\"color: #008080; text-decoration-color: #008080; font-weight: bold\">119</span>\n",
              "</pre>\n"
            ],
            "text/plain": [
              "Operation: call function GetQ with inputs \u001b[33mtime_step\u001b[0m=\u001b[1;36m9\u001b[0m \u001b[33mstate\u001b[0m=\u001b[1;36m119\u001b[0m\n"
            ]
          },
          "metadata": {},
          "output_type": "display_data"
        },
        {
          "data": {
            "text/html": [
              "<pre style=\"white-space:pre;overflow-x:auto;line-height:normal;font-family:Menlo,'DejaVu Sans Mono',consolas,'Courier New',monospace\">Result: <span style=\"font-weight: bold\">[</span><span style=\"color: #008080; text-decoration-color: #008080; font-weight: bold\">7</span>. <span style=\"color: #008080; text-decoration-color: #008080; font-weight: bold\">7</span>. <span style=\"color: #008080; text-decoration-color: #008080; font-weight: bold\">7</span>. <span style=\"color: #008080; text-decoration-color: #008080; font-weight: bold\">7</span>. <span style=\"color: #008080; text-decoration-color: #008080; font-weight: bold\">7</span>.<span style=\"font-weight: bold\">]</span>\n",
              "</pre>\n"
            ],
            "text/plain": [
              "Result: \u001b[1m[\u001b[0m\u001b[1;36m7\u001b[0m. \u001b[1;36m7\u001b[0m. \u001b[1;36m7\u001b[0m. \u001b[1;36m7\u001b[0m. \u001b[1;36m7\u001b[0m.\u001b[1m]\u001b[0m\n"
            ]
          },
          "metadata": {},
          "output_type": "display_data"
        },
        {
          "data": {
            "text/html": [
              "<pre style=\"white-space:pre;overflow-x:auto;line-height:normal;font-family:Menlo,'DejaVu Sans Mono',consolas,'Courier New',monospace\">Thought: I should call function GetArgMax to get the action indices corresponding to the maximal value in the list \n",
              "<span style=\"font-weight: bold\">[</span><span style=\"color: #008080; text-decoration-color: #008080; font-weight: bold\">7</span>, <span style=\"color: #008080; text-decoration-color: #008080; font-weight: bold\">7</span>, <span style=\"color: #008080; text-decoration-color: #008080; font-weight: bold\">7</span>, <span style=\"color: #008080; text-decoration-color: #008080; font-weight: bold\">7</span>, <span style=\"color: #008080; text-decoration-color: #008080; font-weight: bold\">7</span><span style=\"font-weight: bold\">]</span>.\n",
              "</pre>\n"
            ],
            "text/plain": [
              "Thought: I should call function GetArgMax to get the action indices corresponding to the maximal value in the list \n",
              "\u001b[1m[\u001b[0m\u001b[1;36m7\u001b[0m, \u001b[1;36m7\u001b[0m, \u001b[1;36m7\u001b[0m, \u001b[1;36m7\u001b[0m, \u001b[1;36m7\u001b[0m\u001b[1m]\u001b[0m.\n"
            ]
          },
          "metadata": {},
          "output_type": "display_data"
        },
        {
          "data": {
            "text/html": [
              "<pre style=\"white-space:pre;overflow-x:auto;line-height:normal;font-family:Menlo,'DejaVu Sans Mono',consolas,'Courier New',monospace\">Operation: call function GetArgMax with inputs <span style=\"color: #808000; text-decoration-color: #808000\">number_list</span>=<span style=\"font-weight: bold\">[</span><span style=\"color: #008080; text-decoration-color: #008080; font-weight: bold\">7.0</span>, <span style=\"color: #008080; text-decoration-color: #008080; font-weight: bold\">7.0</span>, <span style=\"color: #008080; text-decoration-color: #008080; font-weight: bold\">7.0</span>, <span style=\"color: #008080; text-decoration-color: #008080; font-weight: bold\">7.0</span>, <span style=\"color: #008080; text-decoration-color: #008080; font-weight: bold\">7.0</span><span style=\"font-weight: bold\">]</span>\n",
              "</pre>\n"
            ],
            "text/plain": [
              "Operation: call function GetArgMax with inputs \u001b[33mnumber_list\u001b[0m=\u001b[1m[\u001b[0m\u001b[1;36m7.0\u001b[0m, \u001b[1;36m7.0\u001b[0m, \u001b[1;36m7.0\u001b[0m, \u001b[1;36m7.0\u001b[0m, \u001b[1;36m7.0\u001b[0m\u001b[1m]\u001b[0m\n"
            ]
          },
          "metadata": {},
          "output_type": "display_data"
        },
        {
          "data": {
            "text/html": [
              "<pre style=\"white-space:pre;overflow-x:auto;line-height:normal;font-family:Menlo,'DejaVu Sans Mono',consolas,'Courier New',monospace\">Result: <span style=\"font-weight: bold\">[</span><span style=\"color: #008080; text-decoration-color: #008080; font-weight: bold\">0</span> <span style=\"color: #008080; text-decoration-color: #008080; font-weight: bold\">1</span> <span style=\"color: #008080; text-decoration-color: #008080; font-weight: bold\">2</span> <span style=\"color: #008080; text-decoration-color: #008080; font-weight: bold\">3</span> <span style=\"color: #008080; text-decoration-color: #008080; font-weight: bold\">4</span><span style=\"font-weight: bold\">]</span>\n",
              "</pre>\n"
            ],
            "text/plain": [
              "Result: \u001b[1m[\u001b[0m\u001b[1;36m0\u001b[0m \u001b[1;36m1\u001b[0m \u001b[1;36m2\u001b[0m \u001b[1;36m3\u001b[0m \u001b[1;36m4\u001b[0m\u001b[1m]\u001b[0m\n"
            ]
          },
          "metadata": {},
          "output_type": "display_data"
        },
        {
          "data": {
            "text/html": [
              "<pre style=\"white-space:pre;overflow-x:auto;line-height:normal;font-family:Menlo,'DejaVu Sans Mono',consolas,'Courier New',monospace\">Thought: There are multiple actions <span style=\"font-weight: bold\">(</span><span style=\"color: #008080; text-decoration-color: #008080; font-weight: bold\">0</span>, <span style=\"color: #008080; text-decoration-color: #008080; font-weight: bold\">1</span>, <span style=\"color: #008080; text-decoration-color: #008080; font-weight: bold\">2</span>, <span style=\"color: #008080; text-decoration-color: #008080; font-weight: bold\">3</span>, and <span style=\"color: #008080; text-decoration-color: #008080; font-weight: bold\">4</span><span style=\"font-weight: bold\">)</span> that maximize the Q value. I will randomly choose one of \n",
              "these actions.\n",
              "</pre>\n"
            ],
            "text/plain": [
              "Thought: There are multiple actions \u001b[1m(\u001b[0m\u001b[1;36m0\u001b[0m, \u001b[1;36m1\u001b[0m, \u001b[1;36m2\u001b[0m, \u001b[1;36m3\u001b[0m, and \u001b[1;36m4\u001b[0m\u001b[1m)\u001b[0m that maximize the Q value. I will randomly choose one of \n",
              "these actions.\n"
            ]
          },
          "metadata": {},
          "output_type": "display_data"
        },
        {
          "data": {
            "text/html": [
              "<pre style=\"white-space:pre;overflow-x:auto;line-height:normal;font-family:Menlo,'DejaVu Sans Mono',consolas,'Courier New',monospace\">q_optimal for current step and state <span style=\"font-weight: bold\">[</span><span style=\"color: #008080; text-decoration-color: #008080; font-weight: bold\">7</span>. <span style=\"color: #008080; text-decoration-color: #008080; font-weight: bold\">7</span>. <span style=\"color: #008080; text-decoration-color: #008080; font-weight: bold\">7</span>. <span style=\"color: #008080; text-decoration-color: #008080; font-weight: bold\">7</span>. <span style=\"color: #008080; text-decoration-color: #008080; font-weight: bold\">7</span>.<span style=\"font-weight: bold\">]</span>\n",
              "</pre>\n"
            ],
            "text/plain": [
              "q_optimal for current step and state \u001b[1m[\u001b[0m\u001b[1;36m7\u001b[0m. \u001b[1;36m7\u001b[0m. \u001b[1;36m7\u001b[0m. \u001b[1;36m7\u001b[0m. \u001b[1;36m7\u001b[0m.\u001b[1m]\u001b[0m\n"
            ]
          },
          "metadata": {},
          "output_type": "display_data"
        },
        {
          "data": {
            "text/html": [
              "<pre style=\"white-space:pre;overflow-x:auto;line-height:normal;font-family:Menlo,'DejaVu Sans Mono',consolas,'Courier New',monospace\"><span style=\"color: #800000; text-decoration-color: #800000\">agent: </span><span style=\"color: #800000; text-decoration-color: #800000; font-weight: bold\">2</span>\n",
              "</pre>\n"
            ],
            "text/plain": [
              "\u001b[31magent: \u001b[0m\u001b[1;31m2\u001b[0m\n"
            ]
          },
          "metadata": {},
          "output_type": "display_data"
        },
        {
          "data": {
            "text/html": [
              "<pre style=\"white-space:pre;overflow-x:auto;line-height:normal;font-family:Menlo,'DejaVu Sans Mono',consolas,'Courier New',monospace\"><span style=\"color: #800000; text-decoration-color: #800000\">metric: </span><span style=\"color: #800000; text-decoration-color: #800000; font-style: italic\">True</span>\n",
              "</pre>\n"
            ],
            "text/plain": [
              "\u001b[31mmetric: \u001b[0m\u001b[3;31mTrue\u001b[0m\n"
            ]
          },
          "metadata": {},
          "output_type": "display_data"
        },
        {
          "data": {
            "text/html": [
              "<pre style=\"white-space:pre;overflow-x:auto;line-height:normal;font-family:Menlo,'DejaVu Sans Mono',consolas,'Courier New',monospace\"><span style=\"color: #800000; text-decoration-color: #800000\">This episode has ended!</span>\n",
              "</pre>\n"
            ],
            "text/plain": [
              "\u001b[31mThis episode has ended!\u001b[0m\n"
            ]
          },
          "metadata": {},
          "output_type": "display_data"
        },
        {
          "data": {
            "text/html": [
              "<pre style=\"white-space:pre;overflow-x:auto;line-height:normal;font-family:Menlo,'DejaVu Sans Mono',consolas,'Courier New',monospace\">Performance metric: <span style=\"font-weight: bold\">[</span><span style=\"color: #00ff00; text-decoration-color: #00ff00; font-style: italic\">True</span>, <span style=\"color: #00ff00; text-decoration-color: #00ff00; font-style: italic\">True</span>, <span style=\"color: #00ff00; text-decoration-color: #00ff00; font-style: italic\">True</span>, <span style=\"color: #00ff00; text-decoration-color: #00ff00; font-style: italic\">True</span>, <span style=\"color: #00ff00; text-decoration-color: #00ff00; font-style: italic\">True</span>, <span style=\"color: #00ff00; text-decoration-color: #00ff00; font-style: italic\">True</span>, <span style=\"color: #00ff00; text-decoration-color: #00ff00; font-style: italic\">True</span>, <span style=\"color: #00ff00; text-decoration-color: #00ff00; font-style: italic\">True</span>, <span style=\"color: #00ff00; text-decoration-color: #00ff00; font-style: italic\">True</span>, <span style=\"color: #00ff00; text-decoration-color: #00ff00; font-style: italic\">True</span><span style=\"font-weight: bold\">]</span>\n",
              "</pre>\n"
            ],
            "text/plain": [
              "Performance metric: \u001b[1m[\u001b[0m\u001b[3;92mTrue\u001b[0m, \u001b[3;92mTrue\u001b[0m, \u001b[3;92mTrue\u001b[0m, \u001b[3;92mTrue\u001b[0m, \u001b[3;92mTrue\u001b[0m, \u001b[3;92mTrue\u001b[0m, \u001b[3;92mTrue\u001b[0m, \u001b[3;92mTrue\u001b[0m, \u001b[3;92mTrue\u001b[0m, \u001b[3;92mTrue\u001b[0m\u001b[1m]\u001b[0m\n"
            ]
          },
          "metadata": {},
          "output_type": "display_data"
        }
      ],
      "source": [
        "# Parameters\n",
        "horizon = 10\n",
        "\n",
        "\n",
        "# Create environment and reset it\n",
        "env = create_env()\n",
        "env.reset()\n",
        "\n",
        "# Setup output logger to test MDP performance\n",
        "output_path = \"./outputs/tabular_mdp/\"\n",
        "os.makedirs(output_path, exist_ok=True)\n",
        "now = datetime.now()\n",
        "time_string = now.strftime('%Y%m%d%H%M%S')\n",
        "logger = Logger(os.path.join(output_path, f\"tabular_mdp-{time_string}.html\"), 1)\n",
        "\n",
        "images = play_through(env = env,horizon = horizon, logger = logger)"
      ]
    },
    {
      "cell_type": "code",
      "execution_count": 5,
      "metadata": {},
      "outputs": [
        {
          "data": {
            "image/png": "[encoded data removed]",
            "text/plain": [
              "<Figure size 640x480 with 1 Axes>"
            ]
          },
          "metadata": {},
          "output_type": "display_data"
        }
      ],
      "source": [
        "# Show the video\n",
        "for img in images:\n",
        "  clear_output(wait=True)\n",
        "  plt.imshow(img)\n",
        "  plt.axis('off')  \n",
        "  display(plt.gcf())\n",
        "  plt.close()  \n",
        "  time.sleep(0.1)  "
      ]
    },
    {
      "cell_type": "markdown",
      "metadata": {},
      "source": []
    }
  ],
  "metadata": {
    "colab": {
      "name": "highway-planning.ipynb",
      "provenance": []
    },
    "kernelspec": {
      "display_name": "Python 3",
      "language": "python",
      "name": "python3"
    },
    "language_info": {
      "codemirror_mode": {
        "name": "ipython",
        "version": 3
      },
      "file_extension": ".py",
      "mimetype": "text/x-python",
      "name": "python",
      "nbconvert_exporter": "python",
      "pygments_lexer": "ipython3",
      "version": "3.11.5"
    },
    "pycharm": {
      "stem_cell": {
        "cell_type": "raw",
        "metadata": {
          "collapsed": false
        },
        "source": []
      }
    }
  },
  "nbformat": 4,
  "nbformat_minor": 0
}
